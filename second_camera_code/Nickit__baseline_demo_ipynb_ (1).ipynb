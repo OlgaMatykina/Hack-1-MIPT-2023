{
  "cells": [
    {
      "cell_type": "markdown",
      "metadata": {
        "id": "zk3LICTIwaiN"
      },
      "source": [
        "<a target=\"_blank\" href=\"https://colab.research.google.com/github/alexmelekhin/iprofihack2023_place_recognition/blob/main/baseline_demo.ipynb\"><img src=\"https://colab.research.google.com/assets/colab-badge.svg\" alt=\"Open In Colab\"/></a>"
      ]
    },
    {
      "cell_type": "markdown",
      "metadata": {
        "id": "zFXFJ_PXwaiZ"
      },
      "source": [
        "## Установка в Google Colab\n",
        "\n",
        "Ячейки ниже рекомендуется использовать для установки зависимостей в Google Colab."
      ]
    },
    {
      "cell_type": "markdown",
      "metadata": {
        "id": "bamRH1Gowaib"
      },
      "source": [
        "1. Убедитесь, что вы подключены к окружению с GPU"
      ]
    },
    {
      "cell_type": "code",
      "execution_count": 1,
      "metadata": {
        "id": "nKidujARwaic",
        "colab": {
          "base_uri": "https://localhost:8080/"
        },
        "outputId": "968cb08a-48f8-42c5-cc26-397da6b1692a"
      },
      "outputs": [
        {
          "output_type": "stream",
          "name": "stdout",
          "text": [
            "Wed Apr 26 05:00:30 2023       \n",
            "+-----------------------------------------------------------------------------+\n",
            "| NVIDIA-SMI 525.85.12    Driver Version: 525.85.12    CUDA Version: 12.0     |\n",
            "|-------------------------------+----------------------+----------------------+\n",
            "| GPU  Name        Persistence-M| Bus-Id        Disp.A | Volatile Uncorr. ECC |\n",
            "| Fan  Temp  Perf  Pwr:Usage/Cap|         Memory-Usage | GPU-Util  Compute M. |\n",
            "|                               |                      |               MIG M. |\n",
            "|===============================+======================+======================|\n",
            "|   0  Tesla T4            Off  | 00000000:00:04.0 Off |                    0 |\n",
            "| N/A   60C    P8    10W /  70W |      0MiB / 15360MiB |      0%      Default |\n",
            "|                               |                      |                  N/A |\n",
            "+-------------------------------+----------------------+----------------------+\n",
            "                                                                               \n",
            "+-----------------------------------------------------------------------------+\n",
            "| Processes:                                                                  |\n",
            "|  GPU   GI   CI        PID   Type   Process name                  GPU Memory |\n",
            "|        ID   ID                                                   Usage      |\n",
            "|=============================================================================|\n",
            "|  No running processes found                                                 |\n",
            "+-----------------------------------------------------------------------------+\n"
          ]
        }
      ],
      "source": [
        "!nvidia-smi"
      ]
    },
    {
      "cell_type": "markdown",
      "metadata": {
        "id": "fz1BlOniwaif"
      },
      "source": [
        "2. По умолчанию установлена версия torch 2.0, нам нужно откатиться до 1.13.1 (код не тестировался на версии 2.0 и может вести себя непредсказуемо)"
      ]
    },
    {
      "cell_type": "code",
      "execution_count": 2,
      "metadata": {
        "id": "KKQLXjxHwaig",
        "colab": {
          "base_uri": "https://localhost:8080/"
        },
        "outputId": "5601fabc-f237-437c-f820-55c83a389662"
      },
      "outputs": [
        {
          "output_type": "stream",
          "name": "stdout",
          "text": [
            "Looking in indexes: https://pypi.org/simple, https://us-python.pkg.dev/colab-wheels/public/simple/\n",
            "Collecting torch==1.13.1\n",
            "  Downloading torch-1.13.1-cp39-cp39-manylinux1_x86_64.whl (887.4 MB)\n",
            "\u001b[2K     \u001b[90m━━━━━━━━━━━━━━━━━━━━━━━━━━━━━━━━━━━━━━━\u001b[0m \u001b[32m887.4/887.4 MB\u001b[0m \u001b[31m2.0 MB/s\u001b[0m eta \u001b[36m0:00:00\u001b[0m\n",
            "\u001b[?25hCollecting torchvision==0.14.1\n",
            "  Downloading torchvision-0.14.1-cp39-cp39-manylinux1_x86_64.whl (24.2 MB)\n",
            "\u001b[2K     \u001b[90m━━━━━━━━━━━━━━━━━━━━━━━━━━━━━━━━━━━━━━━━\u001b[0m \u001b[32m24.2/24.2 MB\u001b[0m \u001b[31m46.4 MB/s\u001b[0m eta \u001b[36m0:00:00\u001b[0m\n",
            "\u001b[?25hRequirement already satisfied: typing-extensions in /usr/local/lib/python3.9/dist-packages (from torch==1.13.1) (4.5.0)\n",
            "Collecting nvidia-cublas-cu11==11.10.3.66\n",
            "  Downloading nvidia_cublas_cu11-11.10.3.66-py3-none-manylinux1_x86_64.whl (317.1 MB)\n",
            "\u001b[2K     \u001b[90m━━━━━━━━━━━━━━━━━━━━━━━━━━━━━━━━━━━━━━━\u001b[0m \u001b[32m317.1/317.1 MB\u001b[0m \u001b[31m4.9 MB/s\u001b[0m eta \u001b[36m0:00:00\u001b[0m\n",
            "\u001b[?25hCollecting nvidia-cuda-runtime-cu11==11.7.99\n",
            "  Downloading nvidia_cuda_runtime_cu11-11.7.99-py3-none-manylinux1_x86_64.whl (849 kB)\n",
            "\u001b[2K     \u001b[90m━━━━━━━━━━━━━━━━━━━━━━━━━━━━━━━━━━━━━━\u001b[0m \u001b[32m849.3/849.3 kB\u001b[0m \u001b[31m58.4 MB/s\u001b[0m eta \u001b[36m0:00:00\u001b[0m\n",
            "\u001b[?25hCollecting nvidia-cudnn-cu11==8.5.0.96\n",
            "  Downloading nvidia_cudnn_cu11-8.5.0.96-2-py3-none-manylinux1_x86_64.whl (557.1 MB)\n",
            "\u001b[2K     \u001b[90m━━━━━━━━━━━━━━━━━━━━━━━━━━━━━━━━━━━━━━━\u001b[0m \u001b[32m557.1/557.1 MB\u001b[0m \u001b[31m2.8 MB/s\u001b[0m eta \u001b[36m0:00:00\u001b[0m\n",
            "\u001b[?25hCollecting nvidia-cuda-nvrtc-cu11==11.7.99\n",
            "  Downloading nvidia_cuda_nvrtc_cu11-11.7.99-2-py3-none-manylinux1_x86_64.whl (21.0 MB)\n",
            "\u001b[2K     \u001b[90m━━━━━━━━━━━━━━━━━━━━━━━━━━━━━━━━━━━━━━━━\u001b[0m \u001b[32m21.0/21.0 MB\u001b[0m \u001b[31m70.9 MB/s\u001b[0m eta \u001b[36m0:00:00\u001b[0m\n",
            "\u001b[?25hRequirement already satisfied: numpy in /usr/local/lib/python3.9/dist-packages (from torchvision==0.14.1) (1.22.4)\n",
            "Requirement already satisfied: requests in /usr/local/lib/python3.9/dist-packages (from torchvision==0.14.1) (2.27.1)\n",
            "Requirement already satisfied: pillow!=8.3.*,>=5.3.0 in /usr/local/lib/python3.9/dist-packages (from torchvision==0.14.1) (8.4.0)\n",
            "Requirement already satisfied: wheel in /usr/local/lib/python3.9/dist-packages (from nvidia-cublas-cu11==11.10.3.66->torch==1.13.1) (0.40.0)\n",
            "Requirement already satisfied: setuptools in /usr/local/lib/python3.9/dist-packages (from nvidia-cublas-cu11==11.10.3.66->torch==1.13.1) (67.7.2)\n",
            "Requirement already satisfied: certifi>=2017.4.17 in /usr/local/lib/python3.9/dist-packages (from requests->torchvision==0.14.1) (2022.12.7)\n",
            "Requirement already satisfied: charset-normalizer~=2.0.0 in /usr/local/lib/python3.9/dist-packages (from requests->torchvision==0.14.1) (2.0.12)\n",
            "Requirement already satisfied: idna<4,>=2.5 in /usr/local/lib/python3.9/dist-packages (from requests->torchvision==0.14.1) (3.4)\n",
            "Requirement already satisfied: urllib3<1.27,>=1.21.1 in /usr/local/lib/python3.9/dist-packages (from requests->torchvision==0.14.1) (1.26.15)\n",
            "Installing collected packages: nvidia-cuda-runtime-cu11, nvidia-cuda-nvrtc-cu11, nvidia-cublas-cu11, nvidia-cudnn-cu11, torch, torchvision\n",
            "  Attempting uninstall: torch\n",
            "    Found existing installation: torch 2.0.0+cu118\n",
            "    Uninstalling torch-2.0.0+cu118:\n",
            "      Successfully uninstalled torch-2.0.0+cu118\n",
            "  Attempting uninstall: torchvision\n",
            "    Found existing installation: torchvision 0.15.1+cu118\n",
            "    Uninstalling torchvision-0.15.1+cu118:\n",
            "      Successfully uninstalled torchvision-0.15.1+cu118\n",
            "\u001b[31mERROR: pip's dependency resolver does not currently take into account all the packages that are installed. This behaviour is the source of the following dependency conflicts.\n",
            "torchtext 0.15.1 requires torch==2.0.0, but you have torch 1.13.1 which is incompatible.\n",
            "torchdata 0.6.0 requires torch==2.0.0, but you have torch 1.13.1 which is incompatible.\n",
            "torchaudio 2.0.1+cu118 requires torch==2.0.0, but you have torch 1.13.1 which is incompatible.\u001b[0m\u001b[31m\n",
            "\u001b[0mSuccessfully installed nvidia-cublas-cu11-11.10.3.66 nvidia-cuda-nvrtc-cu11-11.7.99 nvidia-cuda-runtime-cu11-11.7.99 nvidia-cudnn-cu11-8.5.0.96 torch-1.13.1 torchvision-0.14.1\n"
          ]
        }
      ],
      "source": [
        "!pip install torch==1.13.1 torchvision==0.14.1"
      ]
    },
    {
      "cell_type": "code",
      "execution_count": 3,
      "metadata": {
        "id": "YEyoqfOywaih",
        "colab": {
          "base_uri": "https://localhost:8080/"
        },
        "outputId": "d899ddae-8a8f-4e9c-b275-670b413d5aee"
      },
      "outputs": [
        {
          "output_type": "stream",
          "name": "stdout",
          "text": [
            "torch version: 1.13.1+cu117\n",
            "Is CUDA available in torch?: True\n"
          ]
        }
      ],
      "source": [
        "import torch\n",
        "print(f\"torch version: {torch.__version__}\")\n",
        "print(f\"Is CUDA available in torch?: {torch.cuda.is_available()}\")"
      ]
    },
    {
      "cell_type": "markdown",
      "metadata": {
        "id": "FA4an90uwaij"
      },
      "source": [
        "3. Установка необходимых библиотек для сборки MinkowskiEngine"
      ]
    },
    {
      "cell_type": "code",
      "execution_count": 4,
      "metadata": {
        "id": "tpuPaZ0ewaik",
        "colab": {
          "base_uri": "https://localhost:8080/"
        },
        "outputId": "2a2be9e1-24aa-455c-a885-c10937f5fc5f"
      },
      "outputs": [
        {
          "output_type": "stream",
          "name": "stdout",
          "text": [
            "Looking in indexes: https://pypi.org/simple, https://us-python.pkg.dev/colab-wheels/public/simple/\n",
            "Collecting ninja\n",
            "  Downloading ninja-1.11.1-py2.py3-none-manylinux_2_12_x86_64.manylinux2010_x86_64.whl (145 kB)\n",
            "\u001b[2K     \u001b[90m━━━━━━━━━━━━━━━━━━━━━━━━━━━━━━━━━━━━━━━\u001b[0m \u001b[32m146.0/146.0 kB\u001b[0m \u001b[31m4.8 MB/s\u001b[0m eta \u001b[36m0:00:00\u001b[0m\n",
            "\u001b[?25hInstalling collected packages: ninja\n",
            "Successfully installed ninja-1.11.1\n"
          ]
        }
      ],
      "source": [
        "!pip install ninja"
      ]
    },
    {
      "cell_type": "code",
      "execution_count": 5,
      "metadata": {
        "id": "OD5wjBTMwail",
        "colab": {
          "base_uri": "https://localhost:8080/"
        },
        "outputId": "015258af-40d1-4650-ea3a-76bf822c46e3"
      },
      "outputs": [
        {
          "output_type": "stream",
          "name": "stdout",
          "text": [
            "Reading package lists... Done\n",
            "Building dependency tree       \n",
            "Reading state information... Done\n",
            "libopenblas-dev is already the newest version (0.3.8+ds-1ubuntu0.20.04.1).\n",
            "0 upgraded, 0 newly installed, 0 to remove and 24 not upgraded.\n"
          ]
        }
      ],
      "source": [
        "!sudo apt-get install libopenblas-dev"
      ]
    },
    {
      "cell_type": "markdown",
      "metadata": {
        "id": "RIKUMm79waim"
      },
      "source": [
        "4. Сборка и установка MinkowskiEngine из исходников (занимает много времени)"
      ]
    },
    {
      "cell_type": "code",
      "execution_count": 6,
      "metadata": {
        "id": "aPu52xgwwaim",
        "colab": {
          "base_uri": "https://localhost:8080/"
        },
        "outputId": "f445139d-5e2d-464c-e54b-b0fb96404625"
      },
      "outputs": [
        {
          "output_type": "stream",
          "name": "stdout",
          "text": [
            "Using pip 23.0.1 from /usr/local/lib/python3.9/dist-packages/pip (python 3.9)\n",
            "\u001b[33mWARNING: Implying --no-binary=:all: due to the presence of --build-option / --global-option / --install-option. Consider using --config-settings for more flexibility.\u001b[0m\u001b[33m\n",
            "\u001b[0m\u001b[33mDEPRECATION: --install-option is deprecated because it forces pip to use the 'setup.py install' command which is itself deprecated. pip 23.1 will enforce this behaviour change. A possible replacement is to use --config-settings. Discussion can be found at https://github.com/pypa/pip/issues/11358\u001b[0m\u001b[33m\n",
            "\u001b[0m\u001b[33mDEPRECATION: --no-binary currently disables reading from the cache of locally built wheels. In the future --no-binary will not influence the wheel cache. pip 23.1 will enforce this behaviour change. A possible replacement is to use the --no-cache-dir option. You can use the flag --use-feature=no-binary-enable-wheel-cache to test the upcoming behaviour. Discussion can be found at https://github.com/pypa/pip/issues/11453\u001b[0m\u001b[33m\n",
            "\u001b[0mLooking in indexes: https://pypi.org/simple, https://us-python.pkg.dev/colab-wheels/public/simple/\n",
            "Collecting git+https://github.com/NVIDIA/MinkowskiEngine\n",
            "  Cloning https://github.com/NVIDIA/MinkowskiEngine to /tmp/pip-req-build-i6xw8ja3\n",
            "  Running command git version\n",
            "  git version 2.25.1\n",
            "  Running command git clone --filter=blob:none https://github.com/NVIDIA/MinkowskiEngine /tmp/pip-req-build-i6xw8ja3\n",
            "  Cloning into '/tmp/pip-req-build-i6xw8ja3'...\n",
            "  Running command git rev-parse HEAD\n",
            "  02fc608bea4c0549b0a7b00ca1bf15dee4a0b228\n",
            "  Resolved https://github.com/NVIDIA/MinkowskiEngine to commit 02fc608bea4c0549b0a7b00ca1bf15dee4a0b228\n",
            "  Running command git rev-parse HEAD\n",
            "  02fc608bea4c0549b0a7b00ca1bf15dee4a0b228\n",
            "  Running command python setup.py egg_info\n",
            "  WARNING: Skipping MinkowskiEngine as it is not installed.\n",
            "  --------------------------------\n",
            "  | CUDA compilation set         |\n",
            "  --------------------------------\n",
            "\n",
            "  Using BLAS=openblas\n",
            "  Using the default compiler\n",
            "  running egg_info\n",
            "  creating /tmp/pip-pip-egg-info-ua7pgqyk/MinkowskiEngine.egg-info\n",
            "  writing /tmp/pip-pip-egg-info-ua7pgqyk/MinkowskiEngine.egg-info/PKG-INFO\n",
            "  writing dependency_links to /tmp/pip-pip-egg-info-ua7pgqyk/MinkowskiEngine.egg-info/dependency_links.txt\n",
            "  writing requirements to /tmp/pip-pip-egg-info-ua7pgqyk/MinkowskiEngine.egg-info/requires.txt\n",
            "  writing top-level names to /tmp/pip-pip-egg-info-ua7pgqyk/MinkowskiEngine.egg-info/top_level.txt\n",
            "  writing manifest file '/tmp/pip-pip-egg-info-ua7pgqyk/MinkowskiEngine.egg-info/SOURCES.txt'\n",
            "  reading manifest file '/tmp/pip-pip-egg-info-ua7pgqyk/MinkowskiEngine.egg-info/SOURCES.txt'\n",
            "  reading manifest template 'MANIFEST.in'\n",
            "  adding license file 'LICENSE'\n",
            "  writing manifest file '/tmp/pip-pip-egg-info-ua7pgqyk/MinkowskiEngine.egg-info/SOURCES.txt'\n",
            "  Preparing metadata (setup.py) ... \u001b[?25l\u001b[?25hdone\n",
            "Installing collected packages: MinkowskiEngine\n",
            "\u001b[33m  DEPRECATION: MinkowskiEngine is being installed using the legacy 'setup.py install' method, because the '--no-binary' option was enabled for it and this currently disables local wheel building for projects that don't have a 'pyproject.toml' file. pip 23.1 will enforce this behaviour change. A possible replacement is to enable the '--use-pep517' option. Discussion can be found at https://github.com/pypa/pip/issues/11451\u001b[0m\u001b[33m\n",
            "\u001b[0m  Running command Running setup.py install for MinkowskiEngine\n",
            "  WARNING: Skipping MinkowskiEngine as it is not installed.\n",
            "  --------------------------------\n",
            "  | FORCE_CUDA set                |\n",
            "  --------------------------------\n",
            "  --------------------------------\n",
            "  | CUDA compilation set         |\n",
            "  --------------------------------\n",
            "\n",
            "  Using BLAS=openblas\n",
            "  Using the default compiler\n",
            "  running install\n",
            "  /usr/lib/python3.9/distutils/cmd.py:62: SetuptoolsDeprecationWarning: setup.py install is deprecated.\n",
            "  !!\n",
            "\n",
            "          ********************************************************************************\n",
            "          Please avoid running ``setup.py`` directly.\n",
            "          Instead, use pypa/build, pypa/installer, pypa/build or\n",
            "          other standards-based tools.\n",
            "\n",
            "          See https://blog.ganssle.io/articles/2021/10/setup-py-deprecated.html for details.\n",
            "          ********************************************************************************\n",
            "\n",
            "  !!\n",
            "    self.initialize_options()\n",
            "  running build\n",
            "  running build_py\n",
            "  creating build\n",
            "  creating build/lib.linux-x86_64-3.9\n",
            "  creating build/lib.linux-x86_64-3.9/MinkowskiEngine\n",
            "  copying ./MinkowskiEngine/MinkowskiOps.py -> build/lib.linux-x86_64-3.9/MinkowskiEngine\n",
            "  copying ./MinkowskiEngine/sparse_matrix_functions.py -> build/lib.linux-x86_64-3.9/MinkowskiEngine\n",
            "  copying ./MinkowskiEngine/MinkowskiKernelGenerator.py -> build/lib.linux-x86_64-3.9/MinkowskiEngine\n",
            "  copying ./MinkowskiEngine/__init__.py -> build/lib.linux-x86_64-3.9/MinkowskiEngine\n",
            "  copying ./MinkowskiEngine/MinkowskiNetwork.py -> build/lib.linux-x86_64-3.9/MinkowskiEngine\n",
            "  copying ./MinkowskiEngine/diagnostics.py -> build/lib.linux-x86_64-3.9/MinkowskiEngine\n",
            "  copying ./MinkowskiEngine/MinkowskiNormalization.py -> build/lib.linux-x86_64-3.9/MinkowskiEngine\n",
            "  copying ./MinkowskiEngine/MinkowskiFunctional.py -> build/lib.linux-x86_64-3.9/MinkowskiEngine\n",
            "  copying ./MinkowskiEngine/MinkowskiTensorField.py -> build/lib.linux-x86_64-3.9/MinkowskiEngine\n",
            "  copying ./MinkowskiEngine/MinkowskiCoordinateManager.py -> build/lib.linux-x86_64-3.9/MinkowskiEngine\n",
            "  copying ./MinkowskiEngine/MinkowskiBroadcast.py -> build/lib.linux-x86_64-3.9/MinkowskiEngine\n",
            "  copying ./MinkowskiEngine/MinkowskiPooling.py -> build/lib.linux-x86_64-3.9/MinkowskiEngine\n",
            "  copying ./MinkowskiEngine/MinkowskiUnion.py -> build/lib.linux-x86_64-3.9/MinkowskiEngine\n",
            "  copying ./MinkowskiEngine/MinkowskiInterpolation.py -> build/lib.linux-x86_64-3.9/MinkowskiEngine\n",
            "  copying ./MinkowskiEngine/MinkowskiConvolution.py -> build/lib.linux-x86_64-3.9/MinkowskiEngine\n",
            "  copying ./MinkowskiEngine/MinkowskiSparseTensor.py -> build/lib.linux-x86_64-3.9/MinkowskiEngine\n",
            "  copying ./MinkowskiEngine/MinkowskiCommon.py -> build/lib.linux-x86_64-3.9/MinkowskiEngine\n",
            "  copying ./MinkowskiEngine/MinkowskiNonlinearity.py -> build/lib.linux-x86_64-3.9/MinkowskiEngine\n",
            "  copying ./MinkowskiEngine/MinkowskiChannelwiseConvolution.py -> build/lib.linux-x86_64-3.9/MinkowskiEngine\n",
            "  copying ./MinkowskiEngine/MinkowskiPruning.py -> build/lib.linux-x86_64-3.9/MinkowskiEngine\n",
            "  copying ./MinkowskiEngine/MinkowskiTensor.py -> build/lib.linux-x86_64-3.9/MinkowskiEngine\n",
            "  creating build/lib.linux-x86_64-3.9/MinkowskiEngine/utils\n",
            "  copying ./MinkowskiEngine/utils/__init__.py -> build/lib.linux-x86_64-3.9/MinkowskiEngine/utils\n",
            "  copying ./MinkowskiEngine/utils/init.py -> build/lib.linux-x86_64-3.9/MinkowskiEngine/utils\n",
            "  copying ./MinkowskiEngine/utils/coords.py -> build/lib.linux-x86_64-3.9/MinkowskiEngine/utils\n",
            "  copying ./MinkowskiEngine/utils/quantization.py -> build/lib.linux-x86_64-3.9/MinkowskiEngine/utils\n",
            "  copying ./MinkowskiEngine/utils/summary.py -> build/lib.linux-x86_64-3.9/MinkowskiEngine/utils\n",
            "  copying ./MinkowskiEngine/utils/gradcheck.py -> build/lib.linux-x86_64-3.9/MinkowskiEngine/utils\n",
            "  copying ./MinkowskiEngine/utils/collation.py -> build/lib.linux-x86_64-3.9/MinkowskiEngine/utils\n",
            "  creating build/lib.linux-x86_64-3.9/MinkowskiEngine/modules\n",
            "  copying ./MinkowskiEngine/modules/__init__.py -> build/lib.linux-x86_64-3.9/MinkowskiEngine/modules\n",
            "  copying ./MinkowskiEngine/modules/senet_block.py -> build/lib.linux-x86_64-3.9/MinkowskiEngine/modules\n",
            "  copying ./MinkowskiEngine/modules/resnet_block.py -> build/lib.linux-x86_64-3.9/MinkowskiEngine/modules\n",
            "  running build_ext\n",
            "  /usr/local/lib/python3.9/dist-packages/torch/utils/cpp_extension.py:387: UserWarning: The detected CUDA version (11.8) has a minor version mismatch with the version that was used to compile PyTorch (11.7). Most likely this shouldn't be a problem.\n",
            "    warnings.warn(CUDA_MISMATCH_WARN.format(cuda_str_version, torch.version.cuda))\n",
            "  /usr/local/lib/python3.9/dist-packages/torch/utils/cpp_extension.py:397: UserWarning: There are no x86_64-linux-gnu-g++ version bounds defined for CUDA version 11.8\n",
            "    warnings.warn(f'There are no {compiler_name} version bounds defined for CUDA version {cuda_str_version}')\n",
            "  building 'MinkowskiEngineBackend._C' extension\n",
            "  creating /tmp/pip-req-build-i6xw8ja3/build/temp.linux-x86_64-3.9\n",
            "  creating /tmp/pip-req-build-i6xw8ja3/build/temp.linux-x86_64-3.9/tmp\n",
            "  creating /tmp/pip-req-build-i6xw8ja3/build/temp.linux-x86_64-3.9/tmp/pip-req-build-i6xw8ja3\n",
            "  creating /tmp/pip-req-build-i6xw8ja3/build/temp.linux-x86_64-3.9/tmp/pip-req-build-i6xw8ja3/src\n",
            "  creating /tmp/pip-req-build-i6xw8ja3/build/temp.linux-x86_64-3.9/pybind\n",
            "  Emitting ninja build file /tmp/pip-req-build-i6xw8ja3/build/temp.linux-x86_64-3.9/build.ninja...\n",
            "  Compiling objects...\n",
            "  Allowing ninja to set a default number of workers... (overridable by setting the environment variable MAX_JOBS=N)\n",
            "  [1/21] /usr/local/cuda/bin/nvcc  -I/usr/local/lib/python3.9/dist-packages/torch/include -I/usr/local/lib/python3.9/dist-packages/torch/include/torch/csrc/api/include -I/usr/local/lib/python3.9/dist-packages/torch/include/TH -I/usr/local/lib/python3.9/dist-packages/torch/include/THC -I/usr/local/cuda/include -I/tmp/pip-req-build-i6xw8ja3/src -I/tmp/pip-req-build-i6xw8ja3/src/3rdparty -I/usr/include/python3.9 -c -c /tmp/pip-req-build-i6xw8ja3/src/broadcast_kernel.cu -o /tmp/pip-req-build-i6xw8ja3/build/temp.linux-x86_64-3.9/tmp/pip-req-build-i6xw8ja3/src/broadcast_kernel.o -D__CUDA_NO_HALF_OPERATORS__ -D__CUDA_NO_HALF_CONVERSIONS__ -D__CUDA_NO_BFLOAT16_CONVERSIONS__ -D__CUDA_NO_HALF2_OPERATORS__ --expt-relaxed-constexpr --compiler-options ''\"'\"'-fPIC'\"'\"'' --expt-relaxed-constexpr --expt-extended-lambda -O3 -Xcompiler=-fno-gnu-unique -DTORCH_API_INCLUDE_EXTENSION_H '-DPYBIND11_COMPILER_TYPE=\"_gcc\"' '-DPYBIND11_STDLIB=\"_libstdcpp\"' '-DPYBIND11_BUILD_ABI=\"_cxxabi1011\"' -DTORCH_EXTENSION_NAME=_C -D_GLIBCXX_USE_CXX11_ABI=0 -gencode=arch=compute_75,code=compute_75 -gencode=arch=compute_75,code=sm_75 -std=c++14\n",
            "  [2/21] /usr/local/cuda/bin/nvcc  -I/usr/local/lib/python3.9/dist-packages/torch/include -I/usr/local/lib/python3.9/dist-packages/torch/include/torch/csrc/api/include -I/usr/local/lib/python3.9/dist-packages/torch/include/TH -I/usr/local/lib/python3.9/dist-packages/torch/include/THC -I/usr/local/cuda/include -I/tmp/pip-req-build-i6xw8ja3/src -I/tmp/pip-req-build-i6xw8ja3/src/3rdparty -I/usr/include/python3.9 -c -c /tmp/pip-req-build-i6xw8ja3/src/broadcast_gpu.cu -o /tmp/pip-req-build-i6xw8ja3/build/temp.linux-x86_64-3.9/tmp/pip-req-build-i6xw8ja3/src/broadcast_gpu.o -D__CUDA_NO_HALF_OPERATORS__ -D__CUDA_NO_HALF_CONVERSIONS__ -D__CUDA_NO_BFLOAT16_CONVERSIONS__ -D__CUDA_NO_HALF2_OPERATORS__ --expt-relaxed-constexpr --compiler-options ''\"'\"'-fPIC'\"'\"'' --expt-relaxed-constexpr --expt-extended-lambda -O3 -Xcompiler=-fno-gnu-unique -DTORCH_API_INCLUDE_EXTENSION_H '-DPYBIND11_COMPILER_TYPE=\"_gcc\"' '-DPYBIND11_STDLIB=\"_libstdcpp\"' '-DPYBIND11_BUILD_ABI=\"_cxxabi1011\"' -DTORCH_EXTENSION_NAME=_C -D_GLIBCXX_USE_CXX11_ABI=0 -gencode=arch=compute_75,code=compute_75 -gencode=arch=compute_75,code=sm_75 -std=c++14\n",
            "  [3/21] /usr/local/cuda/bin/nvcc  -I/usr/local/lib/python3.9/dist-packages/torch/include -I/usr/local/lib/python3.9/dist-packages/torch/include/torch/csrc/api/include -I/usr/local/lib/python3.9/dist-packages/torch/include/TH -I/usr/local/lib/python3.9/dist-packages/torch/include/THC -I/usr/local/cuda/include -I/tmp/pip-req-build-i6xw8ja3/src -I/tmp/pip-req-build-i6xw8ja3/src/3rdparty -I/usr/include/python3.9 -c -c /tmp/pip-req-build-i6xw8ja3/src/convolution_gpu.cu -o /tmp/pip-req-build-i6xw8ja3/build/temp.linux-x86_64-3.9/tmp/pip-req-build-i6xw8ja3/src/convolution_gpu.o -D__CUDA_NO_HALF_OPERATORS__ -D__CUDA_NO_HALF_CONVERSIONS__ -D__CUDA_NO_BFLOAT16_CONVERSIONS__ -D__CUDA_NO_HALF2_OPERATORS__ --expt-relaxed-constexpr --compiler-options ''\"'\"'-fPIC'\"'\"'' --expt-relaxed-constexpr --expt-extended-lambda -O3 -Xcompiler=-fno-gnu-unique -DTORCH_API_INCLUDE_EXTENSION_H '-DPYBIND11_COMPILER_TYPE=\"_gcc\"' '-DPYBIND11_STDLIB=\"_libstdcpp\"' '-DPYBIND11_BUILD_ABI=\"_cxxabi1011\"' -DTORCH_EXTENSION_NAME=_C -D_GLIBCXX_USE_CXX11_ABI=0 -gencode=arch=compute_75,code=compute_75 -gencode=arch=compute_75,code=sm_75 -std=c++14\n",
            "  [4/21] /usr/local/cuda/bin/nvcc  -I/usr/local/lib/python3.9/dist-packages/torch/include -I/usr/local/lib/python3.9/dist-packages/torch/include/torch/csrc/api/include -I/usr/local/lib/python3.9/dist-packages/torch/include/TH -I/usr/local/lib/python3.9/dist-packages/torch/include/THC -I/usr/local/cuda/include -I/tmp/pip-req-build-i6xw8ja3/src -I/tmp/pip-req-build-i6xw8ja3/src/3rdparty -I/usr/include/python3.9 -c -c /tmp/pip-req-build-i6xw8ja3/src/convolution_kernel.cu -o /tmp/pip-req-build-i6xw8ja3/build/temp.linux-x86_64-3.9/tmp/pip-req-build-i6xw8ja3/src/convolution_kernel.o -D__CUDA_NO_HALF_OPERATORS__ -D__CUDA_NO_HALF_CONVERSIONS__ -D__CUDA_NO_BFLOAT16_CONVERSIONS__ -D__CUDA_NO_HALF2_OPERATORS__ --expt-relaxed-constexpr --compiler-options ''\"'\"'-fPIC'\"'\"'' --expt-relaxed-constexpr --expt-extended-lambda -O3 -Xcompiler=-fno-gnu-unique -DTORCH_API_INCLUDE_EXTENSION_H '-DPYBIND11_COMPILER_TYPE=\"_gcc\"' '-DPYBIND11_STDLIB=\"_libstdcpp\"' '-DPYBIND11_BUILD_ABI=\"_cxxabi1011\"' -DTORCH_EXTENSION_NAME=_C -D_GLIBCXX_USE_CXX11_ABI=0 -gencode=arch=compute_75,code=compute_75 -gencode=arch=compute_75,code=sm_75 -std=c++14\n",
            "  /tmp/pip-req-build-i6xw8ja3/src/convolution_kernel.cu(334): warning #68-D: integer conversion resulted in a change of sign\n",
            "\n",
            "  /tmp/pip-req-build-i6xw8ja3/src/convolution_kernel.cu(573): warning #68-D: integer conversion resulted in a change of sign\n",
            "\n",
            "  /tmp/pip-req-build-i6xw8ja3/src/convolution_kernel.cu(334): warning #68-D: integer conversion resulted in a change of sign\n",
            "\n",
            "  /tmp/pip-req-build-i6xw8ja3/src/convolution_kernel.cu(573): warning #68-D: integer conversion resulted in a change of sign\n",
            "\n",
            "  [5/21] /usr/local/cuda/bin/nvcc  -I/usr/local/lib/python3.9/dist-packages/torch/include -I/usr/local/lib/python3.9/dist-packages/torch/include/torch/csrc/api/include -I/usr/local/lib/python3.9/dist-packages/torch/include/TH -I/usr/local/lib/python3.9/dist-packages/torch/include/THC -I/usr/local/cuda/include -I/tmp/pip-req-build-i6xw8ja3/src -I/tmp/pip-req-build-i6xw8ja3/src/3rdparty -I/usr/include/python3.9 -c -c /tmp/pip-req-build-i6xw8ja3/src/convolution_transpose_gpu.cu -o /tmp/pip-req-build-i6xw8ja3/build/temp.linux-x86_64-3.9/tmp/pip-req-build-i6xw8ja3/src/convolution_transpose_gpu.o -D__CUDA_NO_HALF_OPERATORS__ -D__CUDA_NO_HALF_CONVERSIONS__ -D__CUDA_NO_BFLOAT16_CONVERSIONS__ -D__CUDA_NO_HALF2_OPERATORS__ --expt-relaxed-constexpr --compiler-options ''\"'\"'-fPIC'\"'\"'' --expt-relaxed-constexpr --expt-extended-lambda -O3 -Xcompiler=-fno-gnu-unique -DTORCH_API_INCLUDE_EXTENSION_H '-DPYBIND11_COMPILER_TYPE=\"_gcc\"' '-DPYBIND11_STDLIB=\"_libstdcpp\"' '-DPYBIND11_BUILD_ABI=\"_cxxabi1011\"' -DTORCH_EXTENSION_NAME=_C -D_GLIBCXX_USE_CXX11_ABI=0 -gencode=arch=compute_75,code=compute_75 -gencode=arch=compute_75,code=sm_75 -std=c++14\n",
            "  [6/21] c++ -MMD -MF /tmp/pip-req-build-i6xw8ja3/build/temp.linux-x86_64-3.9/tmp/pip-req-build-i6xw8ja3/src/direct_max_pool.o.d -pthread -Wno-unused-result -Wsign-compare -DNDEBUG -g -fwrapv -O2 -Wall -g -fstack-protector-strong -Wformat -Werror=format-security -g -fwrapv -O2 -g -fstack-protector-strong -Wformat -Werror=format-security -Wdate-time -D_FORTIFY_SOURCE=2 -fPIC -I/usr/local/lib/python3.9/dist-packages/torch/include -I/usr/local/lib/python3.9/dist-packages/torch/include/torch/csrc/api/include -I/usr/local/lib/python3.9/dist-packages/torch/include/TH -I/usr/local/lib/python3.9/dist-packages/torch/include/THC -I/usr/local/cuda/include -I/tmp/pip-req-build-i6xw8ja3/src -I/tmp/pip-req-build-i6xw8ja3/src/3rdparty -I/usr/include/python3.9 -c -c /tmp/pip-req-build-i6xw8ja3/src/direct_max_pool.cpp -o /tmp/pip-req-build-i6xw8ja3/build/temp.linux-x86_64-3.9/tmp/pip-req-build-i6xw8ja3/src/direct_max_pool.o -fopenmp -O3 -DTORCH_API_INCLUDE_EXTENSION_H '-DPYBIND11_COMPILER_TYPE=\"_gcc\"' '-DPYBIND11_STDLIB=\"_libstdcpp\"' '-DPYBIND11_BUILD_ABI=\"_cxxabi1011\"' -DTORCH_EXTENSION_NAME=_C -D_GLIBCXX_USE_CXX11_ABI=0 -std=c++14\n",
            "  [7/21] /usr/local/cuda/bin/nvcc  -I/usr/local/lib/python3.9/dist-packages/torch/include -I/usr/local/lib/python3.9/dist-packages/torch/include/torch/csrc/api/include -I/usr/local/lib/python3.9/dist-packages/torch/include/TH -I/usr/local/lib/python3.9/dist-packages/torch/include/THC -I/usr/local/cuda/include -I/tmp/pip-req-build-i6xw8ja3/src -I/tmp/pip-req-build-i6xw8ja3/src/3rdparty -I/usr/include/python3.9 -c -c /tmp/pip-req-build-i6xw8ja3/src/coordinate_map_gpu.cu -o /tmp/pip-req-build-i6xw8ja3/build/temp.linux-x86_64-3.9/tmp/pip-req-build-i6xw8ja3/src/coordinate_map_gpu.o -D__CUDA_NO_HALF_OPERATORS__ -D__CUDA_NO_HALF_CONVERSIONS__ -D__CUDA_NO_BFLOAT16_CONVERSIONS__ -D__CUDA_NO_HALF2_OPERATORS__ --expt-relaxed-constexpr --compiler-options ''\"'\"'-fPIC'\"'\"'' --expt-relaxed-constexpr --expt-extended-lambda -O3 -Xcompiler=-fno-gnu-unique -DTORCH_API_INCLUDE_EXTENSION_H '-DPYBIND11_COMPILER_TYPE=\"_gcc\"' '-DPYBIND11_STDLIB=\"_libstdcpp\"' '-DPYBIND11_BUILD_ABI=\"_cxxabi1011\"' -DTORCH_EXTENSION_NAME=_C -D_GLIBCXX_USE_CXX11_ABI=0 -gencode=arch=compute_75,code=compute_75 -gencode=arch=compute_75,code=sm_75 -std=c++14\n",
            "  /tmp/pip-req-build-i6xw8ja3/src/kernel_region.hpp(428): warning #20014-D: calling a __host__ function from a __host__ __device__ function is not allowed\n",
            "            detected during:\n",
            "              instantiation of \"minkowski::gpu_kernel_region<coordinate_type>::gpu_kernel_region(const minkowski::cpu_kernel_region<coordinate_type> &) [with coordinate_type=int32_t]\"\n",
            "  /tmp/pip-req-build-i6xw8ja3/src/coordinate_map_gpu.cu(625): here\n",
            "              instantiation of \"minkowski::CoordinateMapGPU<coordinate_type, TemplatedAllocator>::self_type minkowski::CoordinateMapGPU<coordinate_type, TemplatedAllocator>::stride_region(minkowski::cpu_kernel_region<coordinate_type> &, const minkowski::CoordinateMapGPU<coordinate_type, TemplatedAllocator>::stride_type &) const [with coordinate_type=int32_t, TemplatedAllocator=minkowski::detail::default_allocator]\"\n",
            "  /tmp/pip-req-build-i6xw8ja3/src/coordinate_map_gpu.cu(2460): here\n",
            "\n",
            "  /tmp/pip-req-build-i6xw8ja3/src/kernel_region.hpp(428): warning #20014-D: calling a __host__ function from a __host__ __device__ function is not allowed\n",
            "            detected during:\n",
            "              instantiation of \"minkowski::gpu_kernel_region<coordinate_type>::gpu_kernel_region(const minkowski::cpu_kernel_region<coordinate_type> &) [with coordinate_type=int32_t]\"\n",
            "  /tmp/pip-req-build-i6xw8ja3/src/coordinate_map_gpu.cu(625): here\n",
            "              instantiation of \"minkowski::CoordinateMapGPU<coordinate_type, TemplatedAllocator>::self_type minkowski::CoordinateMapGPU<coordinate_type, TemplatedAllocator>::stride_region(minkowski::cpu_kernel_region<coordinate_type> &, const minkowski::CoordinateMapGPU<coordinate_type, TemplatedAllocator>::stride_type &) const [with coordinate_type=int32_t, TemplatedAllocator=minkowski::detail::default_allocator]\"\n",
            "  /tmp/pip-req-build-i6xw8ja3/src/coordinate_map_gpu.cu(2460): here\n",
            "\n",
            "  /tmp/pip-req-build-i6xw8ja3/src/kernel_region.hpp(428): warning #20014-D: calling a __host__ function from a __host__ __device__ function is not allowed\n",
            "            detected during:\n",
            "              instantiation of \"minkowski::gpu_kernel_region<coordinate_type>::gpu_kernel_region(const minkowski::cpu_kernel_region<coordinate_type> &) [with coordinate_type=int32_t]\"\n",
            "  /tmp/pip-req-build-i6xw8ja3/src/coordinate_map_gpu.cu(625): here\n",
            "              instantiation of \"minkowski::CoordinateMapGPU<coordinate_type, TemplatedAllocator>::self_type minkowski::CoordinateMapGPU<coordinate_type, TemplatedAllocator>::stride_region(minkowski::cpu_kernel_region<coordinate_type> &, const minkowski::CoordinateMapGPU<coordinate_type, TemplatedAllocator>::stride_type &) const [with coordinate_type=int32_t, TemplatedAllocator=minkowski::detail::default_allocator]\"\n",
            "  /tmp/pip-req-build-i6xw8ja3/src/coordinate_map_gpu.cu(2460): here\n",
            "\n",
            "  /tmp/pip-req-build-i6xw8ja3/src/kernel_region.hpp(428): warning #20014-D: calling a __host__ function from a __host__ __device__ function is not allowed\n",
            "            detected during:\n",
            "              instantiation of \"minkowski::gpu_kernel_region<coordinate_type>::gpu_kernel_region(const minkowski::cpu_kernel_region<coordinate_type> &) [with coordinate_type=int32_t]\"\n",
            "  /tmp/pip-req-build-i6xw8ja3/src/coordinate_map_gpu.cu(625): here\n",
            "              instantiation of \"minkowski::CoordinateMapGPU<coordinate_type, TemplatedAllocator>::self_type minkowski::CoordinateMapGPU<coordinate_type, TemplatedAllocator>::stride_region(minkowski::cpu_kernel_region<coordinate_type> &, const minkowski::CoordinateMapGPU<coordinate_type, TemplatedAllocator>::stride_type &) const [with coordinate_type=int32_t, TemplatedAllocator=minkowski::detail::default_allocator]\"\n",
            "  /tmp/pip-req-build-i6xw8ja3/src/coordinate_map_gpu.cu(2460): here\n",
            "\n",
            "  /tmp/pip-req-build-i6xw8ja3/src/kernel_region.hpp(428): warning #20011-D: calling a __host__ function(\"minkowski::cpu_kernel_region<int> ::device_tensor_stride() const\") from a __host__ __device__ function(\"minkowski::gpu_kernel_region<int> ::gpu_kernel_region\") is not allowed\n",
            "\n",
            "  /tmp/pip-req-build-i6xw8ja3/src/kernel_region.hpp(429): warning #20011-D: calling a __host__ function(\"minkowski::cpu_kernel_region<int> ::device_kernel_size() const\") from a __host__ __device__ function(\"minkowski::gpu_kernel_region<int> ::gpu_kernel_region\") is not allowed\n",
            "\n",
            "  /tmp/pip-req-build-i6xw8ja3/src/kernel_region.hpp(429): warning #20011-D: calling a __host__ function(\"minkowski::cpu_kernel_region<int> ::device_dilation() const\") from a __host__ __device__ function(\"minkowski::gpu_kernel_region<int> ::gpu_kernel_region\") is not allowed\n",
            "\n",
            "  /tmp/pip-req-build-i6xw8ja3/src/kernel_region.hpp(430): warning #20011-D: calling a __host__ function(\"minkowski::cpu_kernel_region<int> ::device_offset() const\") from a __host__ __device__ function(\"minkowski::gpu_kernel_region<int> ::gpu_kernel_region\") is not allowed\n",
            "\n",
            "  [8/21] /usr/local/cuda/bin/nvcc  -I/usr/local/lib/python3.9/dist-packages/torch/include -I/usr/local/lib/python3.9/dist-packages/torch/include/torch/csrc/api/include -I/usr/local/lib/python3.9/dist-packages/torch/include/TH -I/usr/local/lib/python3.9/dist-packages/torch/include/THC -I/usr/local/cuda/include -I/tmp/pip-req-build-i6xw8ja3/src -I/tmp/pip-req-build-i6xw8ja3/src/3rdparty -I/usr/include/python3.9 -c -c /tmp/pip-req-build-i6xw8ja3/src/gpu.cu -o /tmp/pip-req-build-i6xw8ja3/build/temp.linux-x86_64-3.9/tmp/pip-req-build-i6xw8ja3/src/gpu.o -D__CUDA_NO_HALF_OPERATORS__ -D__CUDA_NO_HALF_CONVERSIONS__ -D__CUDA_NO_BFLOAT16_CONVERSIONS__ -D__CUDA_NO_HALF2_OPERATORS__ --expt-relaxed-constexpr --compiler-options ''\"'\"'-fPIC'\"'\"'' --expt-relaxed-constexpr --expt-extended-lambda -O3 -Xcompiler=-fno-gnu-unique -DTORCH_API_INCLUDE_EXTENSION_H '-DPYBIND11_COMPILER_TYPE=\"_gcc\"' '-DPYBIND11_STDLIB=\"_libstdcpp\"' '-DPYBIND11_BUILD_ABI=\"_cxxabi1011\"' -DTORCH_EXTENSION_NAME=_C -D_GLIBCXX_USE_CXX11_ABI=0 -gencode=arch=compute_75,code=compute_75 -gencode=arch=compute_75,code=sm_75 -std=c++14\n",
            "  /tmp/pip-req-build-i6xw8ja3/src/gpu.cu(104): warning #177-D: function \"minkowski::format_size\" was declared but never referenced\n",
            "\n",
            "  [9/21] /usr/local/cuda/bin/nvcc  -I/usr/local/lib/python3.9/dist-packages/torch/include -I/usr/local/lib/python3.9/dist-packages/torch/include/torch/csrc/api/include -I/usr/local/lib/python3.9/dist-packages/torch/include/TH -I/usr/local/lib/python3.9/dist-packages/torch/include/THC -I/usr/local/cuda/include -I/tmp/pip-req-build-i6xw8ja3/src -I/tmp/pip-req-build-i6xw8ja3/src/3rdparty -I/usr/include/python3.9 -c -c /tmp/pip-req-build-i6xw8ja3/src/coordinate_map_manager.cu -o /tmp/pip-req-build-i6xw8ja3/build/temp.linux-x86_64-3.9/tmp/pip-req-build-i6xw8ja3/src/coordinate_map_manager.o -D__CUDA_NO_HALF_OPERATORS__ -D__CUDA_NO_HALF_CONVERSIONS__ -D__CUDA_NO_BFLOAT16_CONVERSIONS__ -D__CUDA_NO_HALF2_OPERATORS__ --expt-relaxed-constexpr --compiler-options ''\"'\"'-fPIC'\"'\"'' --expt-relaxed-constexpr --expt-extended-lambda -O3 -Xcompiler=-fno-gnu-unique -DTORCH_API_INCLUDE_EXTENSION_H '-DPYBIND11_COMPILER_TYPE=\"_gcc\"' '-DPYBIND11_STDLIB=\"_libstdcpp\"' '-DPYBIND11_BUILD_ABI=\"_cxxabi1011\"' -DTORCH_EXTENSION_NAME=_C -D_GLIBCXX_USE_CXX11_ABI=0 -gencode=arch=compute_75,code=compute_75 -gencode=arch=compute_75,code=sm_75 -std=c++14\n",
            "  /tmp/pip-req-build-i6xw8ja3/src/coordinate_map_cpu.hpp(58): warning #177-D: variable \"float_type\" was declared but never referenced\n",
            "            detected during:\n",
            "              instantiation of \"std::pair<at::Tensor, at::Tensor> minkowski::CoordinateMapCPU<coordinate_type, TemplatedAllocator>::field_map(const coordinate_field_type *, minkowski::CoordinateMapCPU<coordinate_type, TemplatedAllocator>::size_type) const [with coordinate_type=int32_t, TemplatedAllocator=std::allocator, coordinate_field_type=float]\"\n",
            "  /tmp/pip-req-build-i6xw8ja3/src/coordinate_map_manager.cpp(329): here\n",
            "              instantiation of \"std::pair<at::Tensor, at::Tensor> minkowski::CoordinateMapManager<coordinate_type, coordinate_field_type, TemplatedAllocator, CoordinateMapType>::field_to_sparse_map(const minkowski::CoordinateMapKey *, const minkowski::CoordinateMapKey *) [with coordinate_type=int32_t, coordinate_field_type=float, TemplatedAllocator=std::allocator, CoordinateMapType=minkowski::CoordinateMapCPU]\"\n",
            "  /tmp/pip-req-build-i6xw8ja3/src/coordinate_map_manager.cpp(1451): here\n",
            "\n",
            "  /tmp/pip-req-build-i6xw8ja3/src/coordinate_map_manager.cpp(717): warning #430-D: returning reference to local temporary\n",
            "            detected during instantiation of \"const minkowski::CoordinateMapManager<coordinate_type, coordinate_field_type, TemplatedAllocator, CoordinateMapType>::kernel_map_type &minkowski::CoordinateMapManager<coordinate_type, coordinate_field_type, TemplatedAllocator, CoordinateMapType>::kernel_map(const minkowski::CoordinateMapKey *, const minkowski::CoordinateMapKey *, const minkowski::CoordinateMapManager<coordinate_type, coordinate_field_type, TemplatedAllocator, CoordinateMapType>::stride_type &, const minkowski::CoordinateMapManager<coordinate_type, coordinate_field_type, TemplatedAllocator, CoordinateMapType>::stride_type &, const minkowski::CoordinateMapManager<coordinate_type, coordinate_field_type, TemplatedAllocator, CoordinateMapType>::stride_type &, minkowski::RegionType::Type, const at::Tensor &, __nv_bool, __nv_bool) [with coordinate_type=int32_t, coordinate_field_type=float, TemplatedAllocator=std::allocator, CoordinateMapType=minkowski::CoordinateMapCPU]\"\n",
            "  (1451): here\n",
            "\n",
            "  /tmp/pip-req-build-i6xw8ja3/src/coordinate_map_manager.cpp(717): warning #430-D: returning reference to local temporary\n",
            "            detected during instantiation of \"const minkowski::CoordinateMapManager<coordinate_type, coordinate_field_type, TemplatedAllocator, CoordinateMapType>::kernel_map_type &minkowski::CoordinateMapManager<coordinate_type, coordinate_field_type, TemplatedAllocator, CoordinateMapType>::kernel_map(const minkowski::CoordinateMapKey *, const minkowski::CoordinateMapKey *, const minkowski::CoordinateMapManager<coordinate_type, coordinate_field_type, TemplatedAllocator, CoordinateMapType>::stride_type &, const minkowski::CoordinateMapManager<coordinate_type, coordinate_field_type, TemplatedAllocator, CoordinateMapType>::stride_type &, const minkowski::CoordinateMapManager<coordinate_type, coordinate_field_type, TemplatedAllocator, CoordinateMapType>::stride_type &, minkowski::RegionType::Type, const at::Tensor &, __nv_bool, __nv_bool) [with coordinate_type=int32_t, coordinate_field_type=float, TemplatedAllocator=minkowski::detail::default_allocator, CoordinateMapType=minkowski::CoordinateMapGPU]\"\n",
            "  /tmp/pip-req-build-i6xw8ja3/src/coordinate_map_manager.cu(401): here\n",
            "\n",
            "  /tmp/pip-req-build-i6xw8ja3/src/kernel_region.hpp(428): warning #20014-D: calling a __host__ function from a __host__ __device__ function is not allowed\n",
            "            detected during:\n",
            "              instantiation of \"minkowski::gpu_kernel_region<coordinate_type>::gpu_kernel_region(const minkowski::cpu_kernel_region<coordinate_type> &) [with coordinate_type=int32_t]\"\n",
            "  /tmp/pip-req-build-i6xw8ja3/src/coordinate_map_manager.cu(205): here\n",
            "              instantiation of \"minkowski::gpu_kernel_map<minkowski::type_wrapper<uint32_t, int32_t, float>::index_type, TemplatedAllocator<char>> minkowski::detail::kernel_map_functor<coordinate_type, TemplatedAllocator, minkowski::CoordinateMapGPU, minkowski::gpu_kernel_map<minkowski::type_wrapper<uint32_t, int32_t, float>::index_type, TemplatedAllocator<char>>>::operator()(const minkowski::CoordinateMapGPU<coordinate_type, TemplatedAllocator> &, const minkowski::CoordinateMapGPU<coordinate_type, TemplatedAllocator> &, minkowski::CUDAKernelMapMode::Mode, minkowski::cpu_kernel_region<coordinate_type> &) [with coordinate_type=int32_t, TemplatedAllocator=minkowski::detail::default_allocator]\"\n",
            "  /tmp/pip-req-build-i6xw8ja3/src/coordinate_map_manager.cpp(753): here\n",
            "              instantiation of \"const minkowski::CoordinateMapManager<coordinate_type, coordinate_field_type, TemplatedAllocator, CoordinateMapType>::kernel_map_type &minkowski::CoordinateMapManager<coordinate_type, coordinate_field_type, TemplatedAllocator, CoordinateMapType>::kernel_map(const minkowski::CoordinateMapKey *, const minkowski::CoordinateMapKey *, const minkowski::CoordinateMapManager<coordinate_type, coordinate_field_type, TemplatedAllocator, CoordinateMapType>::stride_type &, const minkowski::CoordinateMapManager<coordinate_type, coordinate_field_type, TemplatedAllocator, CoordinateMapType>::stride_type &, const minkowski::CoordinateMapManager<coordinate_type, coordinate_field_type, TemplatedAllocator, CoordinateMapType>::stride_type &, minkowski::RegionType::Type, const at::Tensor &, __nv_bool, __nv_bool) [with coordinate_type=int32_t, coordinate_field_type=float, TemplatedAllocator=minkowski::detail::default_allocator, CoordinateMapType=minkowski::CoordinateMapGPU]\"\n",
            "  /tmp/pip-req-build-i6xw8ja3/src/coordinate_map_manager.cu(401): here\n",
            "\n",
            "  /tmp/pip-req-build-i6xw8ja3/src/kernel_region.hpp(428): warning #20014-D: calling a __host__ function from a __host__ __device__ function is not allowed\n",
            "            detected during:\n",
            "              instantiation of \"minkowski::gpu_kernel_region<coordinate_type>::gpu_kernel_region(const minkowski::cpu_kernel_region<coordinate_type> &) [with coordinate_type=int32_t]\"\n",
            "  /tmp/pip-req-build-i6xw8ja3/src/coordinate_map_manager.cu(205): here\n",
            "              instantiation of \"minkowski::gpu_kernel_map<minkowski::type_wrapper<uint32_t, int32_t, float>::index_type, TemplatedAllocator<char>> minkowski::detail::kernel_map_functor<coordinate_type, TemplatedAllocator, minkowski::CoordinateMapGPU, minkowski::gpu_kernel_map<minkowski::type_wrapper<uint32_t, int32_t, float>::index_type, TemplatedAllocator<char>>>::operator()(const minkowski::CoordinateMapGPU<coordinate_type, TemplatedAllocator> &, const minkowski::CoordinateMapGPU<coordinate_type, TemplatedAllocator> &, minkowski::CUDAKernelMapMode::Mode, minkowski::cpu_kernel_region<coordinate_type> &) [with coordinate_type=int32_t, TemplatedAllocator=minkowski::detail::default_allocator]\"\n",
            "  /tmp/pip-req-build-i6xw8ja3/src/coordinate_map_manager.cpp(753): here\n",
            "              instantiation of \"const minkowski::CoordinateMapManager<coordinate_type, coordinate_field_type, TemplatedAllocator, CoordinateMapType>::kernel_map_type &minkowski::CoordinateMapManager<coordinate_type, coordinate_field_type, TemplatedAllocator, CoordinateMapType>::kernel_map(const minkowski::CoordinateMapKey *, const minkowski::CoordinateMapKey *, const minkowski::CoordinateMapManager<coordinate_type, coordinate_field_type, TemplatedAllocator, CoordinateMapType>::stride_type &, const minkowski::CoordinateMapManager<coordinate_type, coordinate_field_type, TemplatedAllocator, CoordinateMapType>::stride_type &, const minkowski::CoordinateMapManager<coordinate_type, coordinate_field_type, TemplatedAllocator, CoordinateMapType>::stride_type &, minkowski::RegionType::Type, const at::Tensor &, __nv_bool, __nv_bool) [with coordinate_type=int32_t, coordinate_field_type=float, TemplatedAllocator=minkowski::detail::default_allocator, CoordinateMapType=minkowski::CoordinateMapGPU]\"\n",
            "  /tmp/pip-req-build-i6xw8ja3/src/coordinate_map_manager.cu(401): here\n",
            "\n",
            "  /tmp/pip-req-build-i6xw8ja3/src/kernel_region.hpp(428): warning #20014-D: calling a __host__ function from a __host__ __device__ function is not allowed\n",
            "            detected during:\n",
            "              instantiation of \"minkowski::gpu_kernel_region<coordinate_type>::gpu_kernel_region(const minkowski::cpu_kernel_region<coordinate_type> &) [with coordinate_type=int32_t]\"\n",
            "  /tmp/pip-req-build-i6xw8ja3/src/coordinate_map_manager.cu(205): here\n",
            "              instantiation of \"minkowski::gpu_kernel_map<minkowski::type_wrapper<uint32_t, int32_t, float>::index_type, TemplatedAllocator<char>> minkowski::detail::kernel_map_functor<coordinate_type, TemplatedAllocator, minkowski::CoordinateMapGPU, minkowski::gpu_kernel_map<minkowski::type_wrapper<uint32_t, int32_t, float>::index_type, TemplatedAllocator<char>>>::operator()(const minkowski::CoordinateMapGPU<coordinate_type, TemplatedAllocator> &, const minkowski::CoordinateMapGPU<coordinate_type, TemplatedAllocator> &, minkowski::CUDAKernelMapMode::Mode, minkowski::cpu_kernel_region<coordinate_type> &) [with coordinate_type=int32_t, TemplatedAllocator=minkowski::detail::default_allocator]\"\n",
            "  /tmp/pip-req-build-i6xw8ja3/src/coordinate_map_manager.cpp(753): here\n",
            "              instantiation of \"const minkowski::CoordinateMapManager<coordinate_type, coordinate_field_type, TemplatedAllocator, CoordinateMapType>::kernel_map_type &minkowski::CoordinateMapManager<coordinate_type, coordinate_field_type, TemplatedAllocator, CoordinateMapType>::kernel_map(const minkowski::CoordinateMapKey *, const minkowski::CoordinateMapKey *, const minkowski::CoordinateMapManager<coordinate_type, coordinate_field_type, TemplatedAllocator, CoordinateMapType>::stride_type &, const minkowski::CoordinateMapManager<coordinate_type, coordinate_field_type, TemplatedAllocator, CoordinateMapType>::stride_type &, const minkowski::CoordinateMapManager<coordinate_type, coordinate_field_type, TemplatedAllocator, CoordinateMapType>::stride_type &, minkowski::RegionType::Type, const at::Tensor &, __nv_bool, __nv_bool) [with coordinate_type=int32_t, coordinate_field_type=float, TemplatedAllocator=minkowski::detail::default_allocator, CoordinateMapType=minkowski::CoordinateMapGPU]\"\n",
            "  /tmp/pip-req-build-i6xw8ja3/src/coordinate_map_manager.cu(401): here\n",
            "\n",
            "  /tmp/pip-req-build-i6xw8ja3/src/kernel_region.hpp(428): warning #20014-D: calling a __host__ function from a __host__ __device__ function is not allowed\n",
            "            detected during:\n",
            "              instantiation of \"minkowski::gpu_kernel_region<coordinate_type>::gpu_kernel_region(const minkowski::cpu_kernel_region<coordinate_type> &) [with coordinate_type=int32_t]\"\n",
            "  /tmp/pip-req-build-i6xw8ja3/src/coordinate_map_manager.cu(205): here\n",
            "              instantiation of \"minkowski::gpu_kernel_map<minkowski::type_wrapper<uint32_t, int32_t, float>::index_type, TemplatedAllocator<char>> minkowski::detail::kernel_map_functor<coordinate_type, TemplatedAllocator, minkowski::CoordinateMapGPU, minkowski::gpu_kernel_map<minkowski::type_wrapper<uint32_t, int32_t, float>::index_type, TemplatedAllocator<char>>>::operator()(const minkowski::CoordinateMapGPU<coordinate_type, TemplatedAllocator> &, const minkowski::CoordinateMapGPU<coordinate_type, TemplatedAllocator> &, minkowski::CUDAKernelMapMode::Mode, minkowski::cpu_kernel_region<coordinate_type> &) [with coordinate_type=int32_t, TemplatedAllocator=minkowski::detail::default_allocator]\"\n",
            "  /tmp/pip-req-build-i6xw8ja3/src/coordinate_map_manager.cpp(753): here\n",
            "              instantiation of \"const minkowski::CoordinateMapManager<coordinate_type, coordinate_field_type, TemplatedAllocator, CoordinateMapType>::kernel_map_type &minkowski::CoordinateMapManager<coordinate_type, coordinate_field_type, TemplatedAllocator, CoordinateMapType>::kernel_map(const minkowski::CoordinateMapKey *, const minkowski::CoordinateMapKey *, const minkowski::CoordinateMapManager<coordinate_type, coordinate_field_type, TemplatedAllocator, CoordinateMapType>::stride_type &, const minkowski::CoordinateMapManager<coordinate_type, coordinate_field_type, TemplatedAllocator, CoordinateMapType>::stride_type &, const minkowski::CoordinateMapManager<coordinate_type, coordinate_field_type, TemplatedAllocator, CoordinateMapType>::stride_type &, minkowski::RegionType::Type, const at::Tensor &, __nv_bool, __nv_bool) [with coordinate_type=int32_t, coordinate_field_type=float, TemplatedAllocator=minkowski::detail::default_allocator, CoordinateMapType=minkowski::CoordinateMapGPU]\"\n",
            "  /tmp/pip-req-build-i6xw8ja3/src/coordinate_map_manager.cu(401): here\n",
            "\n",
            "  /tmp/pip-req-build-i6xw8ja3/src/coordinate_map_manager.cpp(717): warning #430-D: returning reference to local temporary\n",
            "            detected during instantiation of \"const minkowski::CoordinateMapManager<coordinate_type, coordinate_field_type, TemplatedAllocator, CoordinateMapType>::kernel_map_type &minkowski::CoordinateMapManager<coordinate_type, coordinate_field_type, TemplatedAllocator, CoordinateMapType>::kernel_map(const minkowski::CoordinateMapKey *, const minkowski::CoordinateMapKey *, const minkowski::CoordinateMapManager<coordinate_type, coordinate_field_type, TemplatedAllocator, CoordinateMapType>::stride_type &, const minkowski::CoordinateMapManager<coordinate_type, coordinate_field_type, TemplatedAllocator, CoordinateMapType>::stride_type &, const minkowski::CoordinateMapManager<coordinate_type, coordinate_field_type, TemplatedAllocator, CoordinateMapType>::stride_type &, minkowski::RegionType::Type, const at::Tensor &, __nv_bool, __nv_bool) [with coordinate_type=int32_t, coordinate_field_type=float, TemplatedAllocator=minkowski::detail::c10_allocator, CoordinateMapType=minkowski::CoordinateMapGPU]\"\n",
            "  /tmp/pip-req-build-i6xw8ja3/src/coordinate_map_manager.cu(404): here\n",
            "\n",
            "  /tmp/pip-req-build-i6xw8ja3/src/kernel_region.hpp(428): warning #20011-D: calling a __host__ function(\"minkowski::cpu_kernel_region<int> ::device_tensor_stride() const\") from a __host__ __device__ function(\"minkowski::gpu_kernel_region<int> ::gpu_kernel_region\") is not allowed\n",
            "\n",
            "  /tmp/pip-req-build-i6xw8ja3/src/kernel_region.hpp(429): warning #20011-D: calling a __host__ function(\"minkowski::cpu_kernel_region<int> ::device_kernel_size() const\") from a __host__ __device__ function(\"minkowski::gpu_kernel_region<int> ::gpu_kernel_region\") is not allowed\n",
            "\n",
            "  /tmp/pip-req-build-i6xw8ja3/src/kernel_region.hpp(429): warning #20011-D: calling a __host__ function(\"minkowski::cpu_kernel_region<int> ::device_dilation() const\") from a __host__ __device__ function(\"minkowski::gpu_kernel_region<int> ::gpu_kernel_region\") is not allowed\n",
            "\n",
            "  /tmp/pip-req-build-i6xw8ja3/src/kernel_region.hpp(430): warning #20011-D: calling a __host__ function(\"minkowski::cpu_kernel_region<int> ::device_offset() const\") from a __host__ __device__ function(\"minkowski::gpu_kernel_region<int> ::gpu_kernel_region\") is not allowed\n",
            "\n",
            "  /tmp/pip-req-build-i6xw8ja3/src/coordinate_map_manager.cpp(717): warning #430-D: returning reference to local temporary\n",
            "            detected during instantiation of \"const minkowski::CoordinateMapManager<coordinate_type, coordinate_field_type, TemplatedAllocator, CoordinateMapType>::kernel_map_type &minkowski::CoordinateMapManager<coordinate_type, coordinate_field_type, TemplatedAllocator, CoordinateMapType>::kernel_map(const minkowski::CoordinateMapKey *, const minkowski::CoordinateMapKey *, const minkowski::CoordinateMapManager<coordinate_type, coordinate_field_type, TemplatedAllocator, CoordinateMapType>::stride_type &, const minkowski::CoordinateMapManager<coordinate_type, coordinate_field_type, TemplatedAllocator, CoordinateMapType>::stride_type &, const minkowski::CoordinateMapManager<coordinate_type, coordinate_field_type, TemplatedAllocator, CoordinateMapType>::stride_type &, minkowski::RegionType::Type, const at::Tensor &, bool, bool) [with coordinate_type=int32_t, coordinate_field_type=float, TemplatedAllocator=std::allocator, CoordinateMapType=minkowski::CoordinateMapCPU]\"\n",
            "  (1451): here\n",
            "\n",
            "  /tmp/pip-req-build-i6xw8ja3/src/coordinate_map_manager.cpp(717): warning #430-D: returning reference to local temporary\n",
            "            detected during instantiation of \"const minkowski::CoordinateMapManager<coordinate_type, coordinate_field_type, TemplatedAllocator, CoordinateMapType>::kernel_map_type &minkowski::CoordinateMapManager<coordinate_type, coordinate_field_type, TemplatedAllocator, CoordinateMapType>::kernel_map(const minkowski::CoordinateMapKey *, const minkowski::CoordinateMapKey *, const minkowski::CoordinateMapManager<coordinate_type, coordinate_field_type, TemplatedAllocator, CoordinateMapType>::stride_type &, const minkowski::CoordinateMapManager<coordinate_type, coordinate_field_type, TemplatedAllocator, CoordinateMapType>::stride_type &, const minkowski::CoordinateMapManager<coordinate_type, coordinate_field_type, TemplatedAllocator, CoordinateMapType>::stride_type &, minkowski::RegionType::Type, const at::Tensor &, bool, bool) [with coordinate_type=int32_t, coordinate_field_type=float, TemplatedAllocator=minkowski::detail::default_allocator, CoordinateMapType=minkowski::CoordinateMapGPU]\"\n",
            "  /tmp/pip-req-build-i6xw8ja3/src/coordinate_map_manager.cu(401): here\n",
            "\n",
            "  /tmp/pip-req-build-i6xw8ja3/src/coordinate_map_manager.cpp(717): warning #430-D: returning reference to local temporary\n",
            "            detected during instantiation of \"const minkowski::CoordinateMapManager<coordinate_type, coordinate_field_type, TemplatedAllocator, CoordinateMapType>::kernel_map_type &minkowski::CoordinateMapManager<coordinate_type, coordinate_field_type, TemplatedAllocator, CoordinateMapType>::kernel_map(const minkowski::CoordinateMapKey *, const minkowski::CoordinateMapKey *, const minkowski::CoordinateMapManager<coordinate_type, coordinate_field_type, TemplatedAllocator, CoordinateMapType>::stride_type &, const minkowski::CoordinateMapManager<coordinate_type, coordinate_field_type, TemplatedAllocator, CoordinateMapType>::stride_type &, const minkowski::CoordinateMapManager<coordinate_type, coordinate_field_type, TemplatedAllocator, CoordinateMapType>::stride_type &, minkowski::RegionType::Type, const at::Tensor &, bool, bool) [with coordinate_type=int32_t, coordinate_field_type=float, TemplatedAllocator=minkowski::detail::c10_allocator, CoordinateMapType=minkowski::CoordinateMapGPU]\"\n",
            "  /tmp/pip-req-build-i6xw8ja3/src/coordinate_map_manager.cu(404): here\n",
            "\n",
            "  /tmp/pip-req-build-i6xw8ja3/src/coordinate_map_manager.cpp: In instantiation of ‘const kernel_map_type& minkowski::CoordinateMapManager<coordinate_type, coordinate_field_type, TemplatedAllocator, CoordinateMapType>::kernel_map(const minkowski::CoordinateMapKey*, const minkowski::CoordinateMapKey*, const stride_type&, const stride_type&, const stride_type&, minkowski::RegionType::Type, const at::Tensor&, bool, bool) [with coordinate_type = int; coordinate_field_type = float; TemplatedAllocator = std::allocator; CoordinateMapType = minkowski::CoordinateMapCPU; minkowski::CoordinateMapManager<coordinate_type, coordinate_field_type, TemplatedAllocator, CoordinateMapType>::kernel_map_type = minkowski::cpu_kernel_map; minkowski::CoordinateMapManager<coordinate_type, coordinate_field_type, TemplatedAllocator, CoordinateMapType>::stride_type = std::vector<unsigned int, std::allocator<unsigned int> >]’:\n",
            "  /tmp/pip-req-build-i6xw8ja3/src/coordinate_map_manager.cpp:1451:16:   required from here\n",
            "  /tmp/pip-req-build-i6xw8ja3/src/coordinate_map_manager.cpp:717:260: warning: returning reference to temporary [-Wreturn-local-addr]\n",
            "    717 |       return detail::empty_map_functor<coordinate_type, TemplatedAllocator,\n",
            "        |                                                                                                                                                                                                                                                                    ^\n",
            "  /tmp/pip-req-build-i6xw8ja3/src/coordinate_map_manager.cpp: In instantiation of ‘const kernel_map_type& minkowski::CoordinateMapManager<coordinate_type, coordinate_field_type, TemplatedAllocator, CoordinateMapType>::kernel_map(const minkowski::CoordinateMapKey*, const minkowski::CoordinateMapKey*, const stride_type&, const stride_type&, const stride_type&, minkowski::RegionType::Type, const at::Tensor&, bool, bool) [with coordinate_type = int; coordinate_field_type = float; TemplatedAllocator = minkowski::detail::default_allocator; CoordinateMapType = minkowski::CoordinateMapGPU; minkowski::CoordinateMapManager<coordinate_type, coordinate_field_type, TemplatedAllocator, CoordinateMapType>::kernel_map_type = minkowski::gpu_kernel_map<unsigned int, minkowski::detail::default_allocator<char> >; minkowski::CoordinateMapManager<coordinate_type, coordinate_field_type, TemplatedAllocator, CoordinateMapType>::stride_type = std::vector<unsigned int, std::allocator<unsigned int> >]’:\n",
            "  /tmp/pip-req-build-i6xw8ja3/src/coordinate_map_manager.cu:401:16:   required from here\n",
            "  /tmp/pip-req-build-i6xw8ja3/src/coordinate_map_manager.cpp:717:260: warning: returning reference to temporary [-Wreturn-local-addr]\n",
            "  /tmp/pip-req-build-i6xw8ja3/src/coordinate_map_manager.cpp: In instantiation of ‘const kernel_map_type& minkowski::CoordinateMapManager<coordinate_type, coordinate_field_type, TemplatedAllocator, CoordinateMapType>::kernel_map(const minkowski::CoordinateMapKey*, const minkowski::CoordinateMapKey*, const stride_type&, const stride_type&, const stride_type&, minkowski::RegionType::Type, const at::Tensor&, bool, bool) [with coordinate_type = int; coordinate_field_type = float; TemplatedAllocator = minkowski::detail::c10_allocator; CoordinateMapType = minkowski::CoordinateMapGPU; minkowski::CoordinateMapManager<coordinate_type, coordinate_field_type, TemplatedAllocator, CoordinateMapType>::kernel_map_type = minkowski::gpu_kernel_map<unsigned int, minkowski::detail::c10_allocator<char> >; minkowski::CoordinateMapManager<coordinate_type, coordinate_field_type, TemplatedAllocator, CoordinateMapType>::stride_type = std::vector<unsigned int, std::allocator<unsigned int> >]’:\n",
            "  /tmp/pip-req-build-i6xw8ja3/src/coordinate_map_manager.cu:404:16:   required from here\n",
            "  /tmp/pip-req-build-i6xw8ja3/src/coordinate_map_manager.cpp:717:260: warning: returning reference to temporary [-Wreturn-local-addr]\n",
            "  [10/21] /usr/local/cuda/bin/nvcc  -I/usr/local/lib/python3.9/dist-packages/torch/include -I/usr/local/lib/python3.9/dist-packages/torch/include/torch/csrc/api/include -I/usr/local/lib/python3.9/dist-packages/torch/include/TH -I/usr/local/lib/python3.9/dist-packages/torch/include/THC -I/usr/local/cuda/include -I/tmp/pip-req-build-i6xw8ja3/src -I/tmp/pip-req-build-i6xw8ja3/src/3rdparty -I/usr/include/python3.9 -c -c /tmp/pip-req-build-i6xw8ja3/src/global_pooling_gpu.cu -o /tmp/pip-req-build-i6xw8ja3/build/temp.linux-x86_64-3.9/tmp/pip-req-build-i6xw8ja3/src/global_pooling_gpu.o -D__CUDA_NO_HALF_OPERATORS__ -D__CUDA_NO_HALF_CONVERSIONS__ -D__CUDA_NO_BFLOAT16_CONVERSIONS__ -D__CUDA_NO_HALF2_OPERATORS__ --expt-relaxed-constexpr --compiler-options ''\"'\"'-fPIC'\"'\"'' --expt-relaxed-constexpr --expt-extended-lambda -O3 -Xcompiler=-fno-gnu-unique -DTORCH_API_INCLUDE_EXTENSION_H '-DPYBIND11_COMPILER_TYPE=\"_gcc\"' '-DPYBIND11_STDLIB=\"_libstdcpp\"' '-DPYBIND11_BUILD_ABI=\"_cxxabi1011\"' -DTORCH_EXTENSION_NAME=_C -D_GLIBCXX_USE_CXX11_ABI=0 -gencode=arch=compute_75,code=compute_75 -gencode=arch=compute_75,code=sm_75 -std=c++14\n",
            "  [11/21] /usr/local/cuda/bin/nvcc  -I/usr/local/lib/python3.9/dist-packages/torch/include -I/usr/local/lib/python3.9/dist-packages/torch/include/torch/csrc/api/include -I/usr/local/lib/python3.9/dist-packages/torch/include/TH -I/usr/local/lib/python3.9/dist-packages/torch/include/THC -I/usr/local/cuda/include -I/tmp/pip-req-build-i6xw8ja3/src -I/tmp/pip-req-build-i6xw8ja3/src/3rdparty -I/usr/include/python3.9 -c -c /tmp/pip-req-build-i6xw8ja3/src/local_pooling_gpu.cu -o /tmp/pip-req-build-i6xw8ja3/build/temp.linux-x86_64-3.9/tmp/pip-req-build-i6xw8ja3/src/local_pooling_gpu.o -D__CUDA_NO_HALF_OPERATORS__ -D__CUDA_NO_HALF_CONVERSIONS__ -D__CUDA_NO_BFLOAT16_CONVERSIONS__ -D__CUDA_NO_HALF2_OPERATORS__ --expt-relaxed-constexpr --compiler-options ''\"'\"'-fPIC'\"'\"'' --expt-relaxed-constexpr --expt-extended-lambda -O3 -Xcompiler=-fno-gnu-unique -DTORCH_API_INCLUDE_EXTENSION_H '-DPYBIND11_COMPILER_TYPE=\"_gcc\"' '-DPYBIND11_STDLIB=\"_libstdcpp\"' '-DPYBIND11_BUILD_ABI=\"_cxxabi1011\"' -DTORCH_EXTENSION_NAME=_C -D_GLIBCXX_USE_CXX11_ABI=0 -gencode=arch=compute_75,code=compute_75 -gencode=arch=compute_75,code=sm_75 -std=c++14\n",
            "  [12/21] c++ -MMD -MF /tmp/pip-req-build-i6xw8ja3/build/temp.linux-x86_64-3.9/tmp/pip-req-build-i6xw8ja3/src/math_functions_cpu.o.d -pthread -Wno-unused-result -Wsign-compare -DNDEBUG -g -fwrapv -O2 -Wall -g -fstack-protector-strong -Wformat -Werror=format-security -g -fwrapv -O2 -g -fstack-protector-strong -Wformat -Werror=format-security -Wdate-time -D_FORTIFY_SOURCE=2 -fPIC -I/usr/local/lib/python3.9/dist-packages/torch/include -I/usr/local/lib/python3.9/dist-packages/torch/include/torch/csrc/api/include -I/usr/local/lib/python3.9/dist-packages/torch/include/TH -I/usr/local/lib/python3.9/dist-packages/torch/include/THC -I/usr/local/cuda/include -I/tmp/pip-req-build-i6xw8ja3/src -I/tmp/pip-req-build-i6xw8ja3/src/3rdparty -I/usr/include/python3.9 -c -c /tmp/pip-req-build-i6xw8ja3/src/math_functions_cpu.cpp -o /tmp/pip-req-build-i6xw8ja3/build/temp.linux-x86_64-3.9/tmp/pip-req-build-i6xw8ja3/src/math_functions_cpu.o -fopenmp -O3 -DTORCH_API_INCLUDE_EXTENSION_H '-DPYBIND11_COMPILER_TYPE=\"_gcc\"' '-DPYBIND11_STDLIB=\"_libstdcpp\"' '-DPYBIND11_BUILD_ABI=\"_cxxabi1011\"' -DTORCH_EXTENSION_NAME=_C -D_GLIBCXX_USE_CXX11_ABI=0 -std=c++14\n",
            "  [13/21] /usr/local/cuda/bin/nvcc  -I/usr/local/lib/python3.9/dist-packages/torch/include -I/usr/local/lib/python3.9/dist-packages/torch/include/torch/csrc/api/include -I/usr/local/lib/python3.9/dist-packages/torch/include/TH -I/usr/local/lib/python3.9/dist-packages/torch/include/THC -I/usr/local/cuda/include -I/tmp/pip-req-build-i6xw8ja3/src -I/tmp/pip-req-build-i6xw8ja3/src/3rdparty -I/usr/include/python3.9 -c -c /tmp/pip-req-build-i6xw8ja3/src/interpolation_gpu.cu -o /tmp/pip-req-build-i6xw8ja3/build/temp.linux-x86_64-3.9/tmp/pip-req-build-i6xw8ja3/src/interpolation_gpu.o -D__CUDA_NO_HALF_OPERATORS__ -D__CUDA_NO_HALF_CONVERSIONS__ -D__CUDA_NO_BFLOAT16_CONVERSIONS__ -D__CUDA_NO_HALF2_OPERATORS__ --expt-relaxed-constexpr --compiler-options ''\"'\"'-fPIC'\"'\"'' --expt-relaxed-constexpr --expt-extended-lambda -O3 -Xcompiler=-fno-gnu-unique -DTORCH_API_INCLUDE_EXTENSION_H '-DPYBIND11_COMPILER_TYPE=\"_gcc\"' '-DPYBIND11_STDLIB=\"_libstdcpp\"' '-DPYBIND11_BUILD_ABI=\"_cxxabi1011\"' -DTORCH_EXTENSION_NAME=_C -D_GLIBCXX_USE_CXX11_ABI=0 -gencode=arch=compute_75,code=compute_75 -gencode=arch=compute_75,code=sm_75 -std=c++14\n",
            "  [14/21] /usr/local/cuda/bin/nvcc  -I/usr/local/lib/python3.9/dist-packages/torch/include -I/usr/local/lib/python3.9/dist-packages/torch/include/torch/csrc/api/include -I/usr/local/lib/python3.9/dist-packages/torch/include/TH -I/usr/local/lib/python3.9/dist-packages/torch/include/THC -I/usr/local/cuda/include -I/tmp/pip-req-build-i6xw8ja3/src -I/tmp/pip-req-build-i6xw8ja3/src/3rdparty -I/usr/include/python3.9 -c -c /tmp/pip-req-build-i6xw8ja3/src/math_functions_gpu.cu -o /tmp/pip-req-build-i6xw8ja3/build/temp.linux-x86_64-3.9/tmp/pip-req-build-i6xw8ja3/src/math_functions_gpu.o -D__CUDA_NO_HALF_OPERATORS__ -D__CUDA_NO_HALF_CONVERSIONS__ -D__CUDA_NO_BFLOAT16_CONVERSIONS__ -D__CUDA_NO_HALF2_OPERATORS__ --expt-relaxed-constexpr --compiler-options ''\"'\"'-fPIC'\"'\"'' --expt-relaxed-constexpr --expt-extended-lambda -O3 -Xcompiler=-fno-gnu-unique -DTORCH_API_INCLUDE_EXTENSION_H '-DPYBIND11_COMPILER_TYPE=\"_gcc\"' '-DPYBIND11_STDLIB=\"_libstdcpp\"' '-DPYBIND11_BUILD_ABI=\"_cxxabi1011\"' -DTORCH_EXTENSION_NAME=_C -D_GLIBCXX_USE_CXX11_ABI=0 -gencode=arch=compute_75,code=compute_75 -gencode=arch=compute_75,code=sm_75 -std=c++14\n",
            "  [15/21] /usr/local/cuda/bin/nvcc  -I/usr/local/lib/python3.9/dist-packages/torch/include -I/usr/local/lib/python3.9/dist-packages/torch/include/torch/csrc/api/include -I/usr/local/lib/python3.9/dist-packages/torch/include/TH -I/usr/local/lib/python3.9/dist-packages/torch/include/THC -I/usr/local/cuda/include -I/tmp/pip-req-build-i6xw8ja3/src -I/tmp/pip-req-build-i6xw8ja3/src/3rdparty -I/usr/include/python3.9 -c -c /tmp/pip-req-build-i6xw8ja3/src/pooling_avg_kernel.cu -o /tmp/pip-req-build-i6xw8ja3/build/temp.linux-x86_64-3.9/tmp/pip-req-build-i6xw8ja3/src/pooling_avg_kernel.o -D__CUDA_NO_HALF_OPERATORS__ -D__CUDA_NO_HALF_CONVERSIONS__ -D__CUDA_NO_BFLOAT16_CONVERSIONS__ -D__CUDA_NO_HALF2_OPERATORS__ --expt-relaxed-constexpr --compiler-options ''\"'\"'-fPIC'\"'\"'' --expt-relaxed-constexpr --expt-extended-lambda -O3 -Xcompiler=-fno-gnu-unique -DTORCH_API_INCLUDE_EXTENSION_H '-DPYBIND11_COMPILER_TYPE=\"_gcc\"' '-DPYBIND11_STDLIB=\"_libstdcpp\"' '-DPYBIND11_BUILD_ABI=\"_cxxabi1011\"' -DTORCH_EXTENSION_NAME=_C -D_GLIBCXX_USE_CXX11_ABI=0 -gencode=arch=compute_75,code=compute_75 -gencode=arch=compute_75,code=sm_75 -std=c++14\n",
            "  [16/21] /usr/local/cuda/bin/nvcc  -I/usr/local/lib/python3.9/dist-packages/torch/include -I/usr/local/lib/python3.9/dist-packages/torch/include/torch/csrc/api/include -I/usr/local/lib/python3.9/dist-packages/torch/include/TH -I/usr/local/lib/python3.9/dist-packages/torch/include/THC -I/usr/local/cuda/include -I/tmp/pip-req-build-i6xw8ja3/src -I/tmp/pip-req-build-i6xw8ja3/src/3rdparty -I/usr/include/python3.9 -c -c /tmp/pip-req-build-i6xw8ja3/src/local_pooling_transpose_gpu.cu -o /tmp/pip-req-build-i6xw8ja3/build/temp.linux-x86_64-3.9/tmp/pip-req-build-i6xw8ja3/src/local_pooling_transpose_gpu.o -D__CUDA_NO_HALF_OPERATORS__ -D__CUDA_NO_HALF_CONVERSIONS__ -D__CUDA_NO_BFLOAT16_CONVERSIONS__ -D__CUDA_NO_HALF2_OPERATORS__ --expt-relaxed-constexpr --compiler-options ''\"'\"'-fPIC'\"'\"'' --expt-relaxed-constexpr --expt-extended-lambda -O3 -Xcompiler=-fno-gnu-unique -DTORCH_API_INCLUDE_EXTENSION_H '-DPYBIND11_COMPILER_TYPE=\"_gcc\"' '-DPYBIND11_STDLIB=\"_libstdcpp\"' '-DPYBIND11_BUILD_ABI=\"_cxxabi1011\"' -DTORCH_EXTENSION_NAME=_C -D_GLIBCXX_USE_CXX11_ABI=0 -gencode=arch=compute_75,code=compute_75 -gencode=arch=compute_75,code=sm_75 -std=c++14\n",
            "  [17/21] /usr/local/cuda/bin/nvcc  -I/usr/local/lib/python3.9/dist-packages/torch/include -I/usr/local/lib/python3.9/dist-packages/torch/include/torch/csrc/api/include -I/usr/local/lib/python3.9/dist-packages/torch/include/TH -I/usr/local/lib/python3.9/dist-packages/torch/include/THC -I/usr/local/cuda/include -I/tmp/pip-req-build-i6xw8ja3/src -I/tmp/pip-req-build-i6xw8ja3/src/3rdparty -I/usr/include/python3.9 -c -c /tmp/pip-req-build-i6xw8ja3/src/pooling_max_kernel.cu -o /tmp/pip-req-build-i6xw8ja3/build/temp.linux-x86_64-3.9/tmp/pip-req-build-i6xw8ja3/src/pooling_max_kernel.o -D__CUDA_NO_HALF_OPERATORS__ -D__CUDA_NO_HALF_CONVERSIONS__ -D__CUDA_NO_BFLOAT16_CONVERSIONS__ -D__CUDA_NO_HALF2_OPERATORS__ --expt-relaxed-constexpr --compiler-options ''\"'\"'-fPIC'\"'\"'' --expt-relaxed-constexpr --expt-extended-lambda -O3 -Xcompiler=-fno-gnu-unique -DTORCH_API_INCLUDE_EXTENSION_H '-DPYBIND11_COMPILER_TYPE=\"_gcc\"' '-DPYBIND11_STDLIB=\"_libstdcpp\"' '-DPYBIND11_BUILD_ABI=\"_cxxabi1011\"' -DTORCH_EXTENSION_NAME=_C -D_GLIBCXX_USE_CXX11_ABI=0 -gencode=arch=compute_75,code=compute_75 -gencode=arch=compute_75,code=sm_75 -std=c++14\n",
            "  [18/21] c++ -MMD -MF /tmp/pip-req-build-i6xw8ja3/build/temp.linux-x86_64-3.9/tmp/pip-req-build-i6xw8ja3/src/quantization.o.d -pthread -Wno-unused-result -Wsign-compare -DNDEBUG -g -fwrapv -O2 -Wall -g -fstack-protector-strong -Wformat -Werror=format-security -g -fwrapv -O2 -g -fstack-protector-strong -Wformat -Werror=format-security -Wdate-time -D_FORTIFY_SOURCE=2 -fPIC -I/usr/local/lib/python3.9/dist-packages/torch/include -I/usr/local/lib/python3.9/dist-packages/torch/include/torch/csrc/api/include -I/usr/local/lib/python3.9/dist-packages/torch/include/TH -I/usr/local/lib/python3.9/dist-packages/torch/include/THC -I/usr/local/cuda/include -I/tmp/pip-req-build-i6xw8ja3/src -I/tmp/pip-req-build-i6xw8ja3/src/3rdparty -I/usr/include/python3.9 -c -c /tmp/pip-req-build-i6xw8ja3/src/quantization.cpp -o /tmp/pip-req-build-i6xw8ja3/build/temp.linux-x86_64-3.9/tmp/pip-req-build-i6xw8ja3/src/quantization.o -fopenmp -O3 -DTORCH_API_INCLUDE_EXTENSION_H '-DPYBIND11_COMPILER_TYPE=\"_gcc\"' '-DPYBIND11_STDLIB=\"_libstdcpp\"' '-DPYBIND11_BUILD_ABI=\"_cxxabi1011\"' -DTORCH_EXTENSION_NAME=_C -D_GLIBCXX_USE_CXX11_ABI=0 -std=c++14\n",
            "  In file included from /tmp/pip-req-build-i6xw8ja3/src/allocators.cuh:39,\n",
            "                   from /tmp/pip-req-build-i6xw8ja3/src/kernel_region.hpp:40,\n",
            "                   from /tmp/pip-req-build-i6xw8ja3/src/coordinate_map.hpp:30,\n",
            "                   from /tmp/pip-req-build-i6xw8ja3/src/coordinate_map_cpu.hpp:28,\n",
            "                   from /tmp/pip-req-build-i6xw8ja3/src/quantization.cpp:32:\n",
            "  /tmp/pip-req-build-i6xw8ja3/src/gpu.cuh:149: warning: \"THRUST_CHECK\" redefined\n",
            "    149 | #define THRUST_CHECK(condition)                                                \\\n",
            "        |\n",
            "  In file included from /tmp/pip-req-build-i6xw8ja3/src/coordinate.hpp:30,\n",
            "                   from /tmp/pip-req-build-i6xw8ja3/src/coordinate_map.hpp:29,\n",
            "                   from /tmp/pip-req-build-i6xw8ja3/src/coordinate_map_cpu.hpp:28,\n",
            "                   from /tmp/pip-req-build-i6xw8ja3/src/quantization.cpp:32:\n",
            "  /tmp/pip-req-build-i6xw8ja3/src/utils.hpp:169: note: this is the location of the previous definition\n",
            "    169 | #define THRUST_CHECK(condition) condition;\n",
            "        |\n",
            "  /tmp/pip-req-build-i6xw8ja3/src/quantization.cpp: In function ‘std::vector<std::vector<int> > minkowski::quantize_label(const int*, const int*, int, int, int)’:\n",
            "  /tmp/pip-req-build-i6xw8ja3/src/quantization.cpp:177:16: warning: variable ‘it’ set but not used [-Wunused-but-set-variable]\n",
            "    177 |     const auto it = map.find(key);\n",
            "        |                ^~\n",
            "  [19/21] /usr/local/cuda/bin/nvcc  -I/usr/local/lib/python3.9/dist-packages/torch/include -I/usr/local/lib/python3.9/dist-packages/torch/include/torch/csrc/api/include -I/usr/local/lib/python3.9/dist-packages/torch/include/TH -I/usr/local/lib/python3.9/dist-packages/torch/include/THC -I/usr/local/cuda/include -I/tmp/pip-req-build-i6xw8ja3/src -I/tmp/pip-req-build-i6xw8ja3/src/3rdparty -I/usr/include/python3.9 -c -c /tmp/pip-req-build-i6xw8ja3/src/pruning_gpu.cu -o /tmp/pip-req-build-i6xw8ja3/build/temp.linux-x86_64-3.9/tmp/pip-req-build-i6xw8ja3/src/pruning_gpu.o -D__CUDA_NO_HALF_OPERATORS__ -D__CUDA_NO_HALF_CONVERSIONS__ -D__CUDA_NO_BFLOAT16_CONVERSIONS__ -D__CUDA_NO_HALF2_OPERATORS__ --expt-relaxed-constexpr --compiler-options ''\"'\"'-fPIC'\"'\"'' --expt-relaxed-constexpr --expt-extended-lambda -O3 -Xcompiler=-fno-gnu-unique -DTORCH_API_INCLUDE_EXTENSION_H '-DPYBIND11_COMPILER_TYPE=\"_gcc\"' '-DPYBIND11_STDLIB=\"_libstdcpp\"' '-DPYBIND11_BUILD_ABI=\"_cxxabi1011\"' -DTORCH_EXTENSION_NAME=_C -D_GLIBCXX_USE_CXX11_ABI=0 -gencode=arch=compute_75,code=compute_75 -gencode=arch=compute_75,code=sm_75 -std=c++14\n",
            "  [20/21] /usr/local/cuda/bin/nvcc  -I/usr/local/lib/python3.9/dist-packages/torch/include -I/usr/local/lib/python3.9/dist-packages/torch/include/torch/csrc/api/include -I/usr/local/lib/python3.9/dist-packages/torch/include/TH -I/usr/local/lib/python3.9/dist-packages/torch/include/THC -I/usr/local/cuda/include -I/tmp/pip-req-build-i6xw8ja3/src -I/tmp/pip-req-build-i6xw8ja3/src/3rdparty -I/usr/include/python3.9 -c -c /tmp/pip-req-build-i6xw8ja3/src/spmm.cu -o /tmp/pip-req-build-i6xw8ja3/build/temp.linux-x86_64-3.9/tmp/pip-req-build-i6xw8ja3/src/spmm.o -D__CUDA_NO_HALF_OPERATORS__ -D__CUDA_NO_HALF_CONVERSIONS__ -D__CUDA_NO_BFLOAT16_CONVERSIONS__ -D__CUDA_NO_HALF2_OPERATORS__ --expt-relaxed-constexpr --compiler-options ''\"'\"'-fPIC'\"'\"'' --expt-relaxed-constexpr --expt-extended-lambda -O3 -Xcompiler=-fno-gnu-unique -DTORCH_API_INCLUDE_EXTENSION_H '-DPYBIND11_COMPILER_TYPE=\"_gcc\"' '-DPYBIND11_STDLIB=\"_libstdcpp\"' '-DPYBIND11_BUILD_ABI=\"_cxxabi1011\"' -DTORCH_EXTENSION_NAME=_C -D_GLIBCXX_USE_CXX11_ABI=0 -gencode=arch=compute_75,code=compute_75 -gencode=arch=compute_75,code=sm_75 -std=c++14\n",
            "  /tmp/pip-req-build-i6xw8ja3/src/spmm.cu(93): warning #177-D: variable \"is_int64\" was declared but never referenced\n",
            "\n",
            "  /tmp/pip-req-build-i6xw8ja3/src/spmm.cu(355): warning #177-D: variable \"is_int64\" was declared but never referenced\n",
            "\n",
            "  [21/21] /usr/local/cuda/bin/nvcc  -I/usr/local/lib/python3.9/dist-packages/torch/include -I/usr/local/lib/python3.9/dist-packages/torch/include/torch/csrc/api/include -I/usr/local/lib/python3.9/dist-packages/torch/include/TH -I/usr/local/lib/python3.9/dist-packages/torch/include/THC -I/usr/local/cuda/include -I/tmp/pip-req-build-i6xw8ja3/src -I/tmp/pip-req-build-i6xw8ja3/src/3rdparty -I/usr/include/python3.9 -c -c /tmp/pip-req-build-i6xw8ja3/pybind/minkowski.cu -o /tmp/pip-req-build-i6xw8ja3/build/temp.linux-x86_64-3.9/pybind/minkowski.o -D__CUDA_NO_HALF_OPERATORS__ -D__CUDA_NO_HALF_CONVERSIONS__ -D__CUDA_NO_BFLOAT16_CONVERSIONS__ -D__CUDA_NO_HALF2_OPERATORS__ --expt-relaxed-constexpr --compiler-options ''\"'\"'-fPIC'\"'\"'' --expt-relaxed-constexpr --expt-extended-lambda -O3 -Xcompiler=-fno-gnu-unique -DTORCH_API_INCLUDE_EXTENSION_H '-DPYBIND11_COMPILER_TYPE=\"_gcc\"' '-DPYBIND11_STDLIB=\"_libstdcpp\"' '-DPYBIND11_BUILD_ABI=\"_cxxabi1011\"' -DTORCH_EXTENSION_NAME=_C -D_GLIBCXX_USE_CXX11_ABI=0 -gencode=arch=compute_75,code=compute_75 -gencode=arch=compute_75,code=sm_75 -std=c++14\n",
            "  creating build/lib.linux-x86_64-3.9/MinkowskiEngineBackend\n",
            "  x86_64-linux-gnu-g++ -pthread -shared -Wl,-O1 -Wl,-Bsymbolic-functions -Wl,-Bsymbolic-functions -g -fwrapv -O2 -Wl,-Bsymbolic-functions -g -fwrapv -O2 -g -fstack-protector-strong -Wformat -Werror=format-security -Wdate-time -D_FORTIFY_SOURCE=2 /tmp/pip-req-build-i6xw8ja3/build/temp.linux-x86_64-3.9/tmp/pip-req-build-i6xw8ja3/src/broadcast_gpu.o /tmp/pip-req-build-i6xw8ja3/build/temp.linux-x86_64-3.9/tmp/pip-req-build-i6xw8ja3/src/broadcast_kernel.o /tmp/pip-req-build-i6xw8ja3/build/temp.linux-x86_64-3.9/tmp/pip-req-build-i6xw8ja3/src/convolution_gpu.o /tmp/pip-req-build-i6xw8ja3/build/temp.linux-x86_64-3.9/tmp/pip-req-build-i6xw8ja3/src/convolution_kernel.o /tmp/pip-req-build-i6xw8ja3/build/temp.linux-x86_64-3.9/tmp/pip-req-build-i6xw8ja3/src/convolution_transpose_gpu.o /tmp/pip-req-build-i6xw8ja3/build/temp.linux-x86_64-3.9/tmp/pip-req-build-i6xw8ja3/src/coordinate_map_gpu.o /tmp/pip-req-build-i6xw8ja3/build/temp.linux-x86_64-3.9/tmp/pip-req-build-i6xw8ja3/src/coordinate_map_manager.o /tmp/pip-req-build-i6xw8ja3/build/temp.linux-x86_64-3.9/tmp/pip-req-build-i6xw8ja3/src/direct_max_pool.o /tmp/pip-req-build-i6xw8ja3/build/temp.linux-x86_64-3.9/tmp/pip-req-build-i6xw8ja3/src/global_pooling_gpu.o /tmp/pip-req-build-i6xw8ja3/build/temp.linux-x86_64-3.9/tmp/pip-req-build-i6xw8ja3/src/gpu.o /tmp/pip-req-build-i6xw8ja3/build/temp.linux-x86_64-3.9/tmp/pip-req-build-i6xw8ja3/src/interpolation_gpu.o /tmp/pip-req-build-i6xw8ja3/build/temp.linux-x86_64-3.9/tmp/pip-req-build-i6xw8ja3/src/local_pooling_gpu.o /tmp/pip-req-build-i6xw8ja3/build/temp.linux-x86_64-3.9/tmp/pip-req-build-i6xw8ja3/src/local_pooling_transpose_gpu.o /tmp/pip-req-build-i6xw8ja3/build/temp.linux-x86_64-3.9/tmp/pip-req-build-i6xw8ja3/src/math_functions_cpu.o /tmp/pip-req-build-i6xw8ja3/build/temp.linux-x86_64-3.9/tmp/pip-req-build-i6xw8ja3/src/math_functions_gpu.o /tmp/pip-req-build-i6xw8ja3/build/temp.linux-x86_64-3.9/tmp/pip-req-build-i6xw8ja3/src/pooling_avg_kernel.o /tmp/pip-req-build-i6xw8ja3/build/temp.linux-x86_64-3.9/tmp/pip-req-build-i6xw8ja3/src/pooling_max_kernel.o /tmp/pip-req-build-i6xw8ja3/build/temp.linux-x86_64-3.9/tmp/pip-req-build-i6xw8ja3/src/pruning_gpu.o /tmp/pip-req-build-i6xw8ja3/build/temp.linux-x86_64-3.9/tmp/pip-req-build-i6xw8ja3/src/quantization.o /tmp/pip-req-build-i6xw8ja3/build/temp.linux-x86_64-3.9/tmp/pip-req-build-i6xw8ja3/src/spmm.o /tmp/pip-req-build-i6xw8ja3/build/temp.linux-x86_64-3.9/pybind/minkowski.o -L/usr/local/lib/python3.9/dist-packages/torch/lib -L/usr/local/cuda/lib64 -lcusparse -lopenblas -lc10 -ltorch -ltorch_cpu -ltorch_python -lcudart -lc10_cuda -ltorch_cuda_cu -ltorch_cuda_cpp -o build/lib.linux-x86_64-3.9/MinkowskiEngineBackend/_C.cpython-39-x86_64-linux-gnu.so\n",
            "  running install_lib\n",
            "  creating /usr/local/lib/python3.9/dist-packages/MinkowskiEngine\n",
            "  copying build/lib.linux-x86_64-3.9/MinkowskiEngine/MinkowskiOps.py -> /usr/local/lib/python3.9/dist-packages/MinkowskiEngine\n",
            "  copying build/lib.linux-x86_64-3.9/MinkowskiEngine/sparse_matrix_functions.py -> /usr/local/lib/python3.9/dist-packages/MinkowskiEngine\n",
            "  copying build/lib.linux-x86_64-3.9/MinkowskiEngine/MinkowskiKernelGenerator.py -> /usr/local/lib/python3.9/dist-packages/MinkowskiEngine\n",
            "  copying build/lib.linux-x86_64-3.9/MinkowskiEngine/__init__.py -> /usr/local/lib/python3.9/dist-packages/MinkowskiEngine\n",
            "  creating /usr/local/lib/python3.9/dist-packages/MinkowskiEngine/modules\n",
            "  copying build/lib.linux-x86_64-3.9/MinkowskiEngine/modules/__init__.py -> /usr/local/lib/python3.9/dist-packages/MinkowskiEngine/modules\n",
            "  copying build/lib.linux-x86_64-3.9/MinkowskiEngine/modules/senet_block.py -> /usr/local/lib/python3.9/dist-packages/MinkowskiEngine/modules\n",
            "  copying build/lib.linux-x86_64-3.9/MinkowskiEngine/modules/resnet_block.py -> /usr/local/lib/python3.9/dist-packages/MinkowskiEngine/modules\n",
            "  copying build/lib.linux-x86_64-3.9/MinkowskiEngine/MinkowskiNetwork.py -> /usr/local/lib/python3.9/dist-packages/MinkowskiEngine\n",
            "  copying build/lib.linux-x86_64-3.9/MinkowskiEngine/diagnostics.py -> /usr/local/lib/python3.9/dist-packages/MinkowskiEngine\n",
            "  copying build/lib.linux-x86_64-3.9/MinkowskiEngine/MinkowskiNormalization.py -> /usr/local/lib/python3.9/dist-packages/MinkowskiEngine\n",
            "  copying build/lib.linux-x86_64-3.9/MinkowskiEngine/MinkowskiFunctional.py -> /usr/local/lib/python3.9/dist-packages/MinkowskiEngine\n",
            "  copying build/lib.linux-x86_64-3.9/MinkowskiEngine/MinkowskiTensorField.py -> /usr/local/lib/python3.9/dist-packages/MinkowskiEngine\n",
            "  copying build/lib.linux-x86_64-3.9/MinkowskiEngine/MinkowskiCoordinateManager.py -> /usr/local/lib/python3.9/dist-packages/MinkowskiEngine\n",
            "  creating /usr/local/lib/python3.9/dist-packages/MinkowskiEngine/utils\n",
            "  copying build/lib.linux-x86_64-3.9/MinkowskiEngine/utils/__init__.py -> /usr/local/lib/python3.9/dist-packages/MinkowskiEngine/utils\n",
            "  copying build/lib.linux-x86_64-3.9/MinkowskiEngine/utils/init.py -> /usr/local/lib/python3.9/dist-packages/MinkowskiEngine/utils\n",
            "  copying build/lib.linux-x86_64-3.9/MinkowskiEngine/utils/coords.py -> /usr/local/lib/python3.9/dist-packages/MinkowskiEngine/utils\n",
            "  copying build/lib.linux-x86_64-3.9/MinkowskiEngine/utils/quantization.py -> /usr/local/lib/python3.9/dist-packages/MinkowskiEngine/utils\n",
            "  copying build/lib.linux-x86_64-3.9/MinkowskiEngine/utils/summary.py -> /usr/local/lib/python3.9/dist-packages/MinkowskiEngine/utils\n",
            "  copying build/lib.linux-x86_64-3.9/MinkowskiEngine/utils/gradcheck.py -> /usr/local/lib/python3.9/dist-packages/MinkowskiEngine/utils\n",
            "  copying build/lib.linux-x86_64-3.9/MinkowskiEngine/utils/collation.py -> /usr/local/lib/python3.9/dist-packages/MinkowskiEngine/utils\n",
            "  copying build/lib.linux-x86_64-3.9/MinkowskiEngine/MinkowskiBroadcast.py -> /usr/local/lib/python3.9/dist-packages/MinkowskiEngine\n",
            "  copying build/lib.linux-x86_64-3.9/MinkowskiEngine/MinkowskiPooling.py -> /usr/local/lib/python3.9/dist-packages/MinkowskiEngine\n",
            "  copying build/lib.linux-x86_64-3.9/MinkowskiEngine/MinkowskiUnion.py -> /usr/local/lib/python3.9/dist-packages/MinkowskiEngine\n",
            "  copying build/lib.linux-x86_64-3.9/MinkowskiEngine/MinkowskiInterpolation.py -> /usr/local/lib/python3.9/dist-packages/MinkowskiEngine\n",
            "  copying build/lib.linux-x86_64-3.9/MinkowskiEngine/MinkowskiConvolution.py -> /usr/local/lib/python3.9/dist-packages/MinkowskiEngine\n",
            "  copying build/lib.linux-x86_64-3.9/MinkowskiEngine/MinkowskiSparseTensor.py -> /usr/local/lib/python3.9/dist-packages/MinkowskiEngine\n",
            "  copying build/lib.linux-x86_64-3.9/MinkowskiEngine/MinkowskiCommon.py -> /usr/local/lib/python3.9/dist-packages/MinkowskiEngine\n",
            "  copying build/lib.linux-x86_64-3.9/MinkowskiEngine/MinkowskiNonlinearity.py -> /usr/local/lib/python3.9/dist-packages/MinkowskiEngine\n",
            "  copying build/lib.linux-x86_64-3.9/MinkowskiEngine/MinkowskiChannelwiseConvolution.py -> /usr/local/lib/python3.9/dist-packages/MinkowskiEngine\n",
            "  copying build/lib.linux-x86_64-3.9/MinkowskiEngine/MinkowskiPruning.py -> /usr/local/lib/python3.9/dist-packages/MinkowskiEngine\n",
            "  copying build/lib.linux-x86_64-3.9/MinkowskiEngine/MinkowskiTensor.py -> /usr/local/lib/python3.9/dist-packages/MinkowskiEngine\n",
            "  creating /usr/local/lib/python3.9/dist-packages/MinkowskiEngineBackend\n",
            "  copying build/lib.linux-x86_64-3.9/MinkowskiEngineBackend/_C.cpython-39-x86_64-linux-gnu.so -> /usr/local/lib/python3.9/dist-packages/MinkowskiEngineBackend\n",
            "  byte-compiling /usr/local/lib/python3.9/dist-packages/MinkowskiEngine/MinkowskiOps.py to MinkowskiOps.cpython-39.pyc\n",
            "  byte-compiling /usr/local/lib/python3.9/dist-packages/MinkowskiEngine/sparse_matrix_functions.py to sparse_matrix_functions.cpython-39.pyc\n",
            "  byte-compiling /usr/local/lib/python3.9/dist-packages/MinkowskiEngine/MinkowskiKernelGenerator.py to MinkowskiKernelGenerator.cpython-39.pyc\n",
            "  byte-compiling /usr/local/lib/python3.9/dist-packages/MinkowskiEngine/__init__.py to __init__.cpython-39.pyc\n",
            "  byte-compiling /usr/local/lib/python3.9/dist-packages/MinkowskiEngine/modules/__init__.py to __init__.cpython-39.pyc\n",
            "  byte-compiling /usr/local/lib/python3.9/dist-packages/MinkowskiEngine/modules/senet_block.py to senet_block.cpython-39.pyc\n",
            "  byte-compiling /usr/local/lib/python3.9/dist-packages/MinkowskiEngine/modules/resnet_block.py to resnet_block.cpython-39.pyc\n",
            "  byte-compiling /usr/local/lib/python3.9/dist-packages/MinkowskiEngine/MinkowskiNetwork.py to MinkowskiNetwork.cpython-39.pyc\n",
            "  byte-compiling /usr/local/lib/python3.9/dist-packages/MinkowskiEngine/diagnostics.py to diagnostics.cpython-39.pyc\n",
            "  byte-compiling /usr/local/lib/python3.9/dist-packages/MinkowskiEngine/MinkowskiNormalization.py to MinkowskiNormalization.cpython-39.pyc\n",
            "  byte-compiling /usr/local/lib/python3.9/dist-packages/MinkowskiEngine/MinkowskiFunctional.py to MinkowskiFunctional.cpython-39.pyc\n",
            "  byte-compiling /usr/local/lib/python3.9/dist-packages/MinkowskiEngine/MinkowskiTensorField.py to MinkowskiTensorField.cpython-39.pyc\n",
            "  byte-compiling /usr/local/lib/python3.9/dist-packages/MinkowskiEngine/MinkowskiCoordinateManager.py to MinkowskiCoordinateManager.cpython-39.pyc\n",
            "  byte-compiling /usr/local/lib/python3.9/dist-packages/MinkowskiEngine/utils/__init__.py to __init__.cpython-39.pyc\n",
            "  byte-compiling /usr/local/lib/python3.9/dist-packages/MinkowskiEngine/utils/init.py to init.cpython-39.pyc\n",
            "  byte-compiling /usr/local/lib/python3.9/dist-packages/MinkowskiEngine/utils/coords.py to coords.cpython-39.pyc\n",
            "  byte-compiling /usr/local/lib/python3.9/dist-packages/MinkowskiEngine/utils/quantization.py to quantization.cpython-39.pyc\n",
            "  byte-compiling /usr/local/lib/python3.9/dist-packages/MinkowskiEngine/utils/summary.py to summary.cpython-39.pyc\n",
            "  byte-compiling /usr/local/lib/python3.9/dist-packages/MinkowskiEngine/utils/gradcheck.py to gradcheck.cpython-39.pyc\n",
            "  byte-compiling /usr/local/lib/python3.9/dist-packages/MinkowskiEngine/utils/collation.py to collation.cpython-39.pyc\n",
            "  byte-compiling /usr/local/lib/python3.9/dist-packages/MinkowskiEngine/MinkowskiBroadcast.py to MinkowskiBroadcast.cpython-39.pyc\n",
            "  byte-compiling /usr/local/lib/python3.9/dist-packages/MinkowskiEngine/MinkowskiPooling.py to MinkowskiPooling.cpython-39.pyc\n",
            "  byte-compiling /usr/local/lib/python3.9/dist-packages/MinkowskiEngine/MinkowskiUnion.py to MinkowskiUnion.cpython-39.pyc\n",
            "  byte-compiling /usr/local/lib/python3.9/dist-packages/MinkowskiEngine/MinkowskiInterpolation.py to MinkowskiInterpolation.cpython-39.pyc\n",
            "  byte-compiling /usr/local/lib/python3.9/dist-packages/MinkowskiEngine/MinkowskiConvolution.py to MinkowskiConvolution.cpython-39.pyc\n",
            "  byte-compiling /usr/local/lib/python3.9/dist-packages/MinkowskiEngine/MinkowskiSparseTensor.py to MinkowskiSparseTensor.cpython-39.pyc\n",
            "  byte-compiling /usr/local/lib/python3.9/dist-packages/MinkowskiEngine/MinkowskiCommon.py to MinkowskiCommon.cpython-39.pyc\n",
            "  byte-compiling /usr/local/lib/python3.9/dist-packages/MinkowskiEngine/MinkowskiNonlinearity.py to MinkowskiNonlinearity.cpython-39.pyc\n",
            "  byte-compiling /usr/local/lib/python3.9/dist-packages/MinkowskiEngine/MinkowskiChannelwiseConvolution.py to MinkowskiChannelwiseConvolution.cpython-39.pyc\n",
            "  byte-compiling /usr/local/lib/python3.9/dist-packages/MinkowskiEngine/MinkowskiPruning.py to MinkowskiPruning.cpython-39.pyc\n",
            "  byte-compiling /usr/local/lib/python3.9/dist-packages/MinkowskiEngine/MinkowskiTensor.py to MinkowskiTensor.cpython-39.pyc\n",
            "  running install_egg_info\n",
            "  running egg_info\n",
            "  creating MinkowskiEngine.egg-info\n",
            "  writing MinkowskiEngine.egg-info/PKG-INFO\n",
            "  writing dependency_links to MinkowskiEngine.egg-info/dependency_links.txt\n",
            "  writing requirements to MinkowskiEngine.egg-info/requires.txt\n",
            "  writing top-level names to MinkowskiEngine.egg-info/top_level.txt\n",
            "  writing manifest file 'MinkowskiEngine.egg-info/SOURCES.txt'\n",
            "  reading manifest file 'MinkowskiEngine.egg-info/SOURCES.txt'\n",
            "  reading manifest template 'MANIFEST.in'\n",
            "  adding license file 'LICENSE'\n",
            "  writing manifest file 'MinkowskiEngine.egg-info/SOURCES.txt'\n",
            "  Copying MinkowskiEngine.egg-info to /usr/local/lib/python3.9/dist-packages/MinkowskiEngine-0.5.4-py3.9.egg-info\n",
            "  running install_scripts\n",
            "  writing list of installed files to '/tmp/pip-record-vzyc1c4o/install-record.txt'\n",
            "  Running setup.py install for MinkowskiEngine ... \u001b[?25l\u001b[?25hdone\n",
            "Successfully installed MinkowskiEngine-0.5.4\n"
          ]
        }
      ],
      "source": [
        "!pip install -U git+https://github.com/NVIDIA/MinkowskiEngine -v --no-deps \\\n",
        "                          --install-option=\"--force_cuda\" \\\n",
        "                          --install-option=\"--blas=openblas\""
      ]
    },
    {
      "cell_type": "markdown",
      "metadata": {
        "id": "ChjSICkFwain"
      },
      "source": [
        "5. Проверка, что все работает"
      ]
    },
    {
      "cell_type": "code",
      "execution_count": 9,
      "metadata": {
        "id": "pImwXHCvwaio",
        "colab": {
          "base_uri": "https://localhost:8080/"
        },
        "outputId": "2e83746b-62eb-484d-f2c1-09089cd463b1"
      },
      "outputs": [
        {
          "output_type": "stream",
          "name": "stdout",
          "text": [
            "Is CUDA available in torch?: True\n",
            "Is CUDA available in MinkowskiEngine?: True\n",
            "==========System==========\n",
            "Linux-5.10.147+-x86_64-with-glibc2.31\n",
            "3.9.16 (main, Dec  7 2022, 01:11:51) \n",
            "[GCC 9.4.0]\n",
            "==========Pytorch==========\n",
            "1.13.1+cu117\n",
            "torch.cuda.is_available(): True\n",
            "==========NVIDIA-SMI==========\n",
            "Driver Version 525.85.12\n",
            "CUDA Version 12.0\n",
            "VBIOS Version 90.04.A7.00.01\n",
            "Image Version G183.0200.00.02\n",
            "GSP Firmware Version N/A\n",
            "==========NVCC==========\n",
            "==========CC==========\n",
            "==========MinkowskiEngine==========\n",
            "0.5.4\n",
            "MinkowskiEngine compiled with CUDA Support: True\n",
            "NVCC version MinkowskiEngine is compiled: 11080\n",
            "CUDART version MinkowskiEngine is compiled: 11080\n"
          ]
        }
      ],
      "source": [
        "import torch\n",
        "print(f\"Is CUDA available in torch?: {torch.cuda.is_available()}\")\n",
        "import MinkowskiEngine as ME\n",
        "print(f\"Is CUDA available in MinkowskiEngine?: {ME.is_cuda_available()}\")\n",
        "ME.print_diagnostics()"
      ]
    },
    {
      "cell_type": "markdown",
      "metadata": {
        "id": "u0CHR8aLwaio"
      },
      "source": [
        "6. Финальный шаг - установка библиотеки [opr](https://github.com/alexmelekhin/open_place_recognition), код из которой будет использоваться в бейзлайне"
      ]
    },
    {
      "cell_type": "code",
      "execution_count": 10,
      "metadata": {
        "id": "25Cof41bwaip",
        "colab": {
          "base_uri": "https://localhost:8080/",
          "height": 1000
        },
        "outputId": "d30a5719-c378-4a17-f04c-bb5af2a861df"
      },
      "outputs": [
        {
          "output_type": "stream",
          "name": "stdout",
          "text": [
            "Downloading...\n",
            "From: https://drive.google.com/uc?id=1e4-rJIdnkVSx1u2GhHqyf0MDCwrrni8Z\n",
            "To: /content/open_place_recognition_MINE_SECOND-main.zip\n",
            "\r  0% 0.00/54.6k [00:00<?, ?B/s]\r100% 54.6k/54.6k [00:00<00:00, 47.7MB/s]\n",
            "Archive:  open_place_recognition_MINE_SECOND-main.zip\n",
            "9902db68ecb9680b8832394ad7d5d5ed481eb479\n",
            "   creating: /content/open_place_recognition_MINE_SECOND-main/\n",
            "  inflating: /content/open_place_recognition_MINE_SECOND-main/.gitignore  \n",
            "  inflating: /content/open_place_recognition_MINE_SECOND-main/.gitlab-ci.yml  \n",
            "  inflating: /content/open_place_recognition_MINE_SECOND-main/.pre-commit-config.yaml  \n",
            "  inflating: /content/open_place_recognition_MINE_SECOND-main/LICENSE  \n",
            "  inflating: /content/open_place_recognition_MINE_SECOND-main/README.md  \n",
            "   creating: /content/open_place_recognition_MINE_SECOND-main/configs/\n",
            "   creating: /content/open_place_recognition_MINE_SECOND-main/configs/datasets/\n",
            "  inflating: /content/open_place_recognition_MINE_SECOND-main/configs/datasets/nclt.yaml  \n",
            "  inflating: /content/open_place_recognition_MINE_SECOND-main/configs/datasets/oxford.yaml  \n",
            "  inflating: /content/open_place_recognition_MINE_SECOND-main/configs/datasets/phystech_campus.yaml  \n",
            "   creating: /content/open_place_recognition_MINE_SECOND-main/configs/losses/\n",
            "  inflating: /content/open_place_recognition_MINE_SECOND-main/configs/losses/triplet_margin.yaml  \n",
            "   creating: /content/open_place_recognition_MINE_SECOND-main/configs/models/\n",
            "  inflating: /content/open_place_recognition_MINE_SECOND-main/configs/models/minkloc_multimodal.yaml  \n",
            "   creating: /content/open_place_recognition_MINE_SECOND-main/docker/\n",
            "  inflating: /content/open_place_recognition_MINE_SECOND-main/docker/Dockerfile.cuda  \n",
            "  inflating: /content/open_place_recognition_MINE_SECOND-main/docker/build.sh  \n",
            "  inflating: /content/open_place_recognition_MINE_SECOND-main/docker/into.sh  \n",
            "  inflating: /content/open_place_recognition_MINE_SECOND-main/docker/start.sh  \n",
            "  inflating: /content/open_place_recognition_MINE_SECOND-main/mypy.ini  \n",
            "   creating: /content/open_place_recognition_MINE_SECOND-main/opr/\n",
            " extracting: /content/open_place_recognition_MINE_SECOND-main/opr/__init__.py  \n",
            "  inflating: /content/open_place_recognition_MINE_SECOND-main/opr/const.py  \n",
            "   creating: /content/open_place_recognition_MINE_SECOND-main/opr/datasets/\n",
            "  inflating: /content/open_place_recognition_MINE_SECOND-main/opr/datasets/__init__.py  \n",
            "  inflating: /content/open_place_recognition_MINE_SECOND-main/opr/datasets/augmentations.py  \n",
            "  inflating: /content/open_place_recognition_MINE_SECOND-main/opr/datasets/base.py  \n",
            "  inflating: /content/open_place_recognition_MINE_SECOND-main/opr/datasets/custom.py  \n",
            "  inflating: /content/open_place_recognition_MINE_SECOND-main/opr/datasets/dataloader_factory.py  \n",
            "  inflating: /content/open_place_recognition_MINE_SECOND-main/opr/datasets/nclt.py  \n",
            "  inflating: /content/open_place_recognition_MINE_SECOND-main/opr/datasets/oxford.py  \n",
            "   creating: /content/open_place_recognition_MINE_SECOND-main/opr/datasets/samplers/\n",
            "  inflating: /content/open_place_recognition_MINE_SECOND-main/opr/datasets/samplers/__init__.py  \n",
            "  inflating: /content/open_place_recognition_MINE_SECOND-main/opr/datasets/samplers/batch_sampler.py  \n",
            "   creating: /content/open_place_recognition_MINE_SECOND-main/opr/losses/\n",
            "  inflating: /content/open_place_recognition_MINE_SECOND-main/opr/losses/__init__.py  \n",
            "  inflating: /content/open_place_recognition_MINE_SECOND-main/opr/losses/triplet.py  \n",
            "   creating: /content/open_place_recognition_MINE_SECOND-main/opr/miners/\n",
            "  inflating: /content/open_place_recognition_MINE_SECOND-main/opr/miners/__init__.py  \n",
            "  inflating: /content/open_place_recognition_MINE_SECOND-main/opr/miners/hard_triplet_miner.py  \n",
            "   creating: /content/open_place_recognition_MINE_SECOND-main/opr/models/\n",
            "  inflating: /content/open_place_recognition_MINE_SECOND-main/opr/models/__init__.py  \n",
            "  inflating: /content/open_place_recognition_MINE_SECOND-main/opr/models/base_models.py  \n",
            "  inflating: /content/open_place_recognition_MINE_SECOND-main/opr/models/fusion.py  \n",
            "   creating: /content/open_place_recognition_MINE_SECOND-main/opr/models/layers/\n",
            "  inflating: /content/open_place_recognition_MINE_SECOND-main/opr/models/layers/eca.py  \n",
            "  inflating: /content/open_place_recognition_MINE_SECOND-main/opr/models/layers/gem.py  \n",
            "  inflating: /content/open_place_recognition_MINE_SECOND-main/opr/models/minkloc.py  \n",
            "  inflating: /content/open_place_recognition_MINE_SECOND-main/opr/models/multimodal.py  \n",
            "  inflating: /content/open_place_recognition_MINE_SECOND-main/opr/models/resnet.py  \n",
            "  inflating: /content/open_place_recognition_MINE_SECOND-main/opr/testing.py  \n",
            "  inflating: /content/open_place_recognition_MINE_SECOND-main/opr/training.py  \n",
            "  inflating: /content/open_place_recognition_MINE_SECOND-main/opr/utils.py  \n",
            "  inflating: /content/open_place_recognition_MINE_SECOND-main/pyproject.toml  \n",
            "  inflating: /content/open_place_recognition_MINE_SECOND-main/requirements-dev.txt  \n",
            " extracting: /content/open_place_recognition_MINE_SECOND-main/requirements-notebook.txt  \n",
            "  inflating: /content/open_place_recognition_MINE_SECOND-main/requirements.txt  \n",
            "  inflating: /content/open_place_recognition_MINE_SECOND-main/sample_train.py  \n",
            "  inflating: /content/open_place_recognition_MINE_SECOND-main/setup.cfg  \n",
            "   creating: /content/open_place_recognition_MINE_SECOND-main/tests/\n",
            " extracting: /content/open_place_recognition_MINE_SECOND-main/tests/__init__.py  \n",
            "  inflating: /content/open_place_recognition_MINE_SECOND-main/tests/test_const.py  \n",
            "  inflating: /content/open_place_recognition_MINE_SECOND-main/tests/test_utils.py  \n",
            "/content/open_place_recognition\n",
            "Looking in indexes: https://pypi.org/simple, https://us-python.pkg.dev/colab-wheels/public/simple/\n",
            "Obtaining file:///content/open_place_recognition\n",
            "  Installing build dependencies ... \u001b[?25l\u001b[?25hdone\n",
            "  Checking if build backend supports build_editable ... \u001b[?25l\u001b[?25hdone\n",
            "  Getting requirements to build editable ... \u001b[?25l\u001b[?25hdone\n",
            "  Installing backend dependencies ... \u001b[?25l\u001b[?25hdone\n",
            "  Preparing editable metadata (pyproject.toml) ... \u001b[?25l\u001b[?25hdone\n",
            "Collecting pytorch-metric-learning\n",
            "  Downloading pytorch_metric_learning-2.1.0-py3-none-any.whl (110 kB)\n",
            "\u001b[2K     \u001b[90m━━━━━━━━━━━━━━━━━━━━━━━━━━━━━━━━━━━━━━━\u001b[0m \u001b[32m110.8/110.8 kB\u001b[0m \u001b[31m3.7 MB/s\u001b[0m eta \u001b[36m0:00:00\u001b[0m\n",
            "\u001b[?25hRequirement already satisfied: scipy in /usr/local/lib/python3.9/dist-packages (from opr==0.1.1) (1.10.1)\n",
            "Requirement already satisfied: opencv-python in /usr/local/lib/python3.9/dist-packages (from opr==0.1.1) (4.7.0.72)\n",
            "Requirement already satisfied: pandas in /usr/local/lib/python3.9/dist-packages (from opr==0.1.1) (1.5.3)\n",
            "Requirement already satisfied: tqdm in /usr/local/lib/python3.9/dist-packages (from opr==0.1.1) (4.65.0)\n",
            "Collecting hydra-core\n",
            "  Downloading hydra_core-1.3.2-py3-none-any.whl (154 kB)\n",
            "\u001b[2K     \u001b[90m━━━━━━━━━━━━━━━━━━━━━━━━━━━━━━━━━━━━━━\u001b[0m \u001b[32m154.5/154.5 kB\u001b[0m \u001b[31m11.0 MB/s\u001b[0m eta \u001b[36m0:00:00\u001b[0m\n",
            "\u001b[?25hRequirement already satisfied: albumentations in /usr/local/lib/python3.9/dist-packages (from opr==0.1.1) (1.2.1)\n",
            "Requirement already satisfied: numpy in /usr/local/lib/python3.9/dist-packages (from opr==0.1.1) (1.22.4)\n",
            "Requirement already satisfied: scikit-image>=0.16.1 in /usr/local/lib/python3.9/dist-packages (from albumentations->opr==0.1.1) (0.19.3)\n",
            "Requirement already satisfied: qudida>=0.0.4 in /usr/local/lib/python3.9/dist-packages (from albumentations->opr==0.1.1) (0.0.4)\n",
            "Requirement already satisfied: PyYAML in /usr/local/lib/python3.9/dist-packages (from albumentations->opr==0.1.1) (6.0)\n",
            "Requirement already satisfied: opencv-python-headless>=4.1.1 in /usr/local/lib/python3.9/dist-packages (from albumentations->opr==0.1.1) (4.7.0.72)\n",
            "Requirement already satisfied: packaging in /usr/local/lib/python3.9/dist-packages (from hydra-core->opr==0.1.1) (23.1)\n",
            "Collecting antlr4-python3-runtime==4.9.*\n",
            "  Downloading antlr4-python3-runtime-4.9.3.tar.gz (117 kB)\n",
            "\u001b[2K     \u001b[90m━━━━━━━━━━━━━━━━━━━━━━━━━━━━━━━━━━━━━━\u001b[0m \u001b[32m117.0/117.0 kB\u001b[0m \u001b[31m14.8 MB/s\u001b[0m eta \u001b[36m0:00:00\u001b[0m\n",
            "\u001b[?25h  Preparing metadata (setup.py) ... \u001b[?25l\u001b[?25hdone\n",
            "Collecting omegaconf<2.4,>=2.2\n",
            "  Downloading omegaconf-2.3.0-py3-none-any.whl (79 kB)\n",
            "\u001b[2K     \u001b[90m━━━━━━━━━━━━━━━━━━━━━━━━━━━━━━━━━━━━━━━━\u001b[0m \u001b[32m79.5/79.5 kB\u001b[0m \u001b[31m9.4 MB/s\u001b[0m eta \u001b[36m0:00:00\u001b[0m\n",
            "\u001b[?25hRequirement already satisfied: python-dateutil>=2.8.1 in /usr/local/lib/python3.9/dist-packages (from pandas->opr==0.1.1) (2.8.2)\n",
            "Requirement already satisfied: pytz>=2020.1 in /usr/local/lib/python3.9/dist-packages (from pandas->opr==0.1.1) (2022.7.1)\n",
            "Requirement already satisfied: torch>=1.6.0 in /usr/local/lib/python3.9/dist-packages (from pytorch-metric-learning->opr==0.1.1) (1.13.1)\n",
            "Requirement already satisfied: scikit-learn in /usr/local/lib/python3.9/dist-packages (from pytorch-metric-learning->opr==0.1.1) (1.2.2)\n",
            "Requirement already satisfied: six>=1.5 in /usr/local/lib/python3.9/dist-packages (from python-dateutil>=2.8.1->pandas->opr==0.1.1) (1.16.0)\n",
            "Requirement already satisfied: typing-extensions in /usr/local/lib/python3.9/dist-packages (from qudida>=0.0.4->albumentations->opr==0.1.1) (4.5.0)\n",
            "Requirement already satisfied: networkx>=2.2 in /usr/local/lib/python3.9/dist-packages (from scikit-image>=0.16.1->albumentations->opr==0.1.1) (3.1)\n",
            "Requirement already satisfied: tifffile>=2019.7.26 in /usr/local/lib/python3.9/dist-packages (from scikit-image>=0.16.1->albumentations->opr==0.1.1) (2023.4.12)\n",
            "Requirement already satisfied: PyWavelets>=1.1.1 in /usr/local/lib/python3.9/dist-packages (from scikit-image>=0.16.1->albumentations->opr==0.1.1) (1.4.1)\n",
            "Requirement already satisfied: pillow!=7.1.0,!=7.1.1,!=8.3.0,>=6.1.0 in /usr/local/lib/python3.9/dist-packages (from scikit-image>=0.16.1->albumentations->opr==0.1.1) (8.4.0)\n",
            "Requirement already satisfied: imageio>=2.4.1 in /usr/local/lib/python3.9/dist-packages (from scikit-image>=0.16.1->albumentations->opr==0.1.1) (2.25.1)\n",
            "Requirement already satisfied: joblib>=1.1.1 in /usr/local/lib/python3.9/dist-packages (from scikit-learn->pytorch-metric-learning->opr==0.1.1) (1.2.0)\n",
            "Requirement already satisfied: threadpoolctl>=2.0.0 in /usr/local/lib/python3.9/dist-packages (from scikit-learn->pytorch-metric-learning->opr==0.1.1) (3.1.0)\n",
            "Requirement already satisfied: nvidia-cublas-cu11==11.10.3.66 in /usr/local/lib/python3.9/dist-packages (from torch>=1.6.0->pytorch-metric-learning->opr==0.1.1) (11.10.3.66)\n",
            "Requirement already satisfied: nvidia-cudnn-cu11==8.5.0.96 in /usr/local/lib/python3.9/dist-packages (from torch>=1.6.0->pytorch-metric-learning->opr==0.1.1) (8.5.0.96)\n",
            "Requirement already satisfied: nvidia-cuda-runtime-cu11==11.7.99 in /usr/local/lib/python3.9/dist-packages (from torch>=1.6.0->pytorch-metric-learning->opr==0.1.1) (11.7.99)\n",
            "Requirement already satisfied: nvidia-cuda-nvrtc-cu11==11.7.99 in /usr/local/lib/python3.9/dist-packages (from torch>=1.6.0->pytorch-metric-learning->opr==0.1.1) (11.7.99)\n",
            "Requirement already satisfied: setuptools in /usr/local/lib/python3.9/dist-packages (from nvidia-cublas-cu11==11.10.3.66->torch>=1.6.0->pytorch-metric-learning->opr==0.1.1) (67.7.2)\n",
            "Requirement already satisfied: wheel in /usr/local/lib/python3.9/dist-packages (from nvidia-cublas-cu11==11.10.3.66->torch>=1.6.0->pytorch-metric-learning->opr==0.1.1) (0.40.0)\n",
            "Building wheels for collected packages: opr, antlr4-python3-runtime\n",
            "  Building editable for opr (pyproject.toml) ... \u001b[?25l\u001b[?25hdone\n",
            "  Created wheel for opr: filename=opr-0.1.1-0.editable-py3-none-any.whl size=3262 sha256=aa7b375909df29edc57dad6275dfb310d933b3d2a5f072dad880874b894dc21e\n",
            "  Stored in directory: /tmp/pip-ephem-wheel-cache-i148k8os/wheels/fc/6e/46/8d72749dfa7887bcdccbc4ebd87174be996e9b918989097cd3\n",
            "  Building wheel for antlr4-python3-runtime (setup.py) ... \u001b[?25l\u001b[?25hdone\n",
            "  Created wheel for antlr4-python3-runtime: filename=antlr4_python3_runtime-4.9.3-py3-none-any.whl size=144573 sha256=99497d38bd114e7df53bb03174b5d83cf9a8c6b69e0a59cafcf9bd1cae7963ce\n",
            "  Stored in directory: /root/.cache/pip/wheels/23/cf/80/f3efa822e6ab23277902ee9165fe772eeb1dfb8014f359020a\n",
            "Successfully built opr antlr4-python3-runtime\n",
            "Installing collected packages: antlr4-python3-runtime, omegaconf, hydra-core, pytorch-metric-learning, opr\n",
            "Successfully installed antlr4-python3-runtime-4.9.3 hydra-core-1.3.2 omegaconf-2.3.0 opr-0.1.1 pytorch-metric-learning-2.1.0\n"
          ]
        },
        {
          "output_type": "display_data",
          "data": {
            "application/vnd.colab-display-data+json": {
              "pip_warning": {
                "packages": [
                  "pydevd_plugins"
                ]
              }
            }
          },
          "metadata": {}
        },
        {
          "output_type": "stream",
          "name": "stdout",
          "text": [
            "/content\n"
          ]
        }
      ],
      "source": [
        "# !git clone https://github.com/Pqlet/open_place_recognition_MINE_SECOND\n",
        "# !mv open_place_recognition_MINE_SECOND open_place_recognition\n",
        "\n",
        "\n",
        "# !gdown --fuzzy https://drive.google.com/file/d/1e4-rJIdnkVSx1u2GhHqyf0MDCwrrni8Z/view?usp=sharing -O \"/content/\"\n",
        "# !unzip open_place_recognition_MINE_SECOND-main.zip -d \"/content\"\n",
        "# !mv /content/open_place_recognition_MINE_SECOND-main /content/open_place_recognition\n",
        "\n",
        "\n",
        "%cd open_place_recognition\n",
        "!pip install -e .  # флаг -e необходим для возможности редактировать код уже установленной библиотеки\n",
        "%cd .."
      ]
    },
    {
      "cell_type": "markdown",
      "metadata": {
        "id": "DN7Q7PRNwaiq"
      },
      "source": [
        "## Загрузка датасета в Google Colab\n",
        "\n",
        "Пример кода для загрузки датасета."
      ]
    },
    {
      "cell_type": "markdown",
      "metadata": {
        "id": "qxYqM95_waiq"
      },
      "source": [
        "Вы можете воспользоваться утилитой gdown, которая по умолчанию доступна в Colab. Допустим, https://drive.google.com/file/d/1EdOTVgBJxsNUMecne7Fs4obJdJnDuJ18/view?usp=share_link - ссылка на файл. Чтобы скачать его, нам нужно передать в gdown в качестве аргумента его id - для данного примера это `1EdOTVgBJxsNUMecne7Fs4obJdJnDuJ18` (часть ссылки между `file/d/` и `/view`)."
      ]
    },
    {
      "cell_type": "code",
      "execution_count": 3,
      "metadata": {
        "id": "7Ds-Q1ymwair",
        "colab": {
          "base_uri": "https://localhost:8080/"
        },
        "outputId": "da4481eb-9320-4f60-a8e2-d69978ea0c35"
      },
      "outputs": [
        {
          "output_type": "stream",
          "name": "stdout",
          "text": [
            "Downloading...\n",
            "From: https://drive.google.com/uc?id=1P_pHnamCzX3PDrjC1X3xWcs3WItMwdef\n",
            "To: /content/public.zip\n",
            "100% 4.85G/4.85G [00:32<00:00, 150MB/s]\n"
          ]
        }
      ],
      "source": [
        "# !gdown --fuzzy https://drive.google.com/file/d/1EdOTVgBJxsNUMecne7Fs4obJdJnDuJ18/view # official\n",
        "!gdown --fuzzy https://drive.google.com/file/d/1P_pHnamCzX3PDrjC1X3xWcs3WItMwdef/view?usp=share_link # mine"
      ]
    },
    {
      "cell_type": "markdown",
      "metadata": {
        "id": "9dFQ4o5nwais"
      },
      "source": [
        "Вы можете сверить хэш-сумму файла:"
      ]
    },
    {
      "cell_type": "code",
      "execution_count": 2,
      "metadata": {
        "id": "jNpoKcgswait"
      },
      "outputs": [],
      "source": [
        "# !sha256sum public.zip"
      ]
    },
    {
      "cell_type": "markdown",
      "metadata": {
        "id": "-seAMXmWwait"
      },
      "source": [
        "И распаковать архив:"
      ]
    },
    {
      "cell_type": "code",
      "execution_count": null,
      "metadata": {
        "id": "gY-SfK1wwaiu"
      },
      "outputs": [],
      "source": [
        "!unzip public.zip "
      ]
    },
    {
      "cell_type": "markdown",
      "metadata": {
        "id": "InKlPMxgwaiu"
      },
      "source": [
        "## Базовое решение"
      ]
    },
    {
      "cell_type": "markdown",
      "metadata": {
        "id": "0x-mBi8dwaiv"
      },
      "source": [
        "Загрузите веса MinkLoc++, предобученного на датасете Oxford RobotCar по ссылке: https://drive.google.com/file/d/1zlfdX217Nh3_QL5r0XAHUjDFjIPxUmMg/view?usp=share_link"
      ]
    },
    {
      "cell_type": "code",
      "execution_count": 8,
      "metadata": {
        "id": "gXxaoCLTwaiv"
      },
      "outputs": [],
      "source": [
        "# если вы в colab'е:\n",
        "# !gdown 1zlfdX217Nh3_QL5r0XAHUjDFjIPxUmMg"
      ]
    },
    {
      "cell_type": "code",
      "source": [
        "#####################################################################\n",
        "#####################################################################\n",
        "#####################################################################\n",
        "################## START FROM HERRE 1124 #################################\n",
        "#####################################################################\n",
        "#####################################################################\n",
        "#####################################################################\n"
      ],
      "metadata": {
        "id": "9VqJN8QMD7xJ"
      },
      "execution_count": 4,
      "outputs": []
    },
    {
      "cell_type": "code",
      "source": [
        "# from opr.models import minkloc_multimodal\n",
        "\"\"\"Multimodal Place Recognition models.\"\"\"\n",
        "from pathlib import Path\n",
        "from typing import Optional, Union\n",
        "\n",
        "import torch\n",
        "from hydra.utils import instantiate\n",
        "from omegaconf import DictConfig\n",
        "\n",
        "# from .base_models import ComposedModel"
      ],
      "metadata": {
        "id": "YztJaL3HCcyE"
      },
      "execution_count": 5,
      "outputs": []
    },
    {
      "cell_type": "code",
      "source": [
        "\"\"\"Interfaces and meta-models definitions.\"\"\"\n",
        "from typing import Dict, Optional, Union\n",
        "\n",
        "import MinkowskiEngine as ME  # noqa: N817\n",
        "from torch import Tensor, nn\n",
        "\n",
        "\n",
        "class ImageFeatureExtractor(nn.Module):\n",
        "    \"\"\"Interface class for image feature extractor module.\"\"\"\n",
        "\n",
        "    def __init__(self):\n",
        "        \"\"\"Interface class for image feature extractor module.\"\"\"\n",
        "        super().__init__()\n",
        "\n",
        "    def forward(self, image: Tensor) -> Tensor:  # noqa: D102\n",
        "        raise NotImplementedError()\n",
        "\n",
        "\n",
        "class ImageHead(nn.Module):\n",
        "    \"\"\"Interface class for image head module.\"\"\"\n",
        "\n",
        "    def __init__(self):\n",
        "        \"\"\"Interface class for image head module.\"\"\"\n",
        "        super().__init__()\n",
        "\n",
        "    def forward(self, feature_map: Tensor) -> Tensor:  # noqa: D102\n",
        "        raise NotImplementedError()\n",
        "\n",
        "\n",
        "class ImageModule(nn.Module):\n",
        "    \"\"\"Meta-module for image branch. Combines feature extraction backbone and head modules.\"\"\"\n",
        "\n",
        "    def __init__(\n",
        "        self,\n",
        "        backbone: ImageFeatureExtractor,\n",
        "        head: ImageHead,\n",
        "    ):\n",
        "        \"\"\"Meta-module for image branch.\n",
        "\n",
        "        Args:\n",
        "            backbone (ImageFeatureExtractor): Image feature extraction backbone.\n",
        "            head (ImageHead): Image head module.\n",
        "        \"\"\"\n",
        "        super().__init__()\n",
        "        self.backbone = backbone\n",
        "        self.head = head\n",
        "\n",
        "    def forward(self, x: Tensor) -> Tensor:  # noqa: D102\n",
        "        x = self.backbone(x)\n",
        "        x = self.head(x)\n",
        "        return x\n",
        "\n",
        "\n",
        "class CloudFeatureExtractor(nn.Module):\n",
        "    \"\"\"Interface class for cloud feature extractor module.\"\"\"\n",
        "\n",
        "    sparse: bool\n",
        "\n",
        "    def __init__(self):\n",
        "        \"\"\"Interface class for cloud feature extractor module.\"\"\"\n",
        "        super().__init__()\n",
        "        assert self.sparse is not None\n",
        "\n",
        "    def forward(self, cloud: Union[Tensor, ME.SparseTensor]) -> Union[Tensor, ME.SparseTensor]:  # noqa: D102\n",
        "        raise NotImplementedError()\n",
        "\n",
        "\n",
        "class CloudHead(nn.Module):\n",
        "    \"\"\"Interface class for cloud head module.\"\"\"\n",
        "\n",
        "    sparse: bool\n",
        "\n",
        "    def __init__(self):\n",
        "        \"\"\"Interface class for cloud head module.\"\"\"\n",
        "        super().__init__()\n",
        "        assert self.sparse is not None\n",
        "\n",
        "    def forward(self, feature_map: Union[Tensor, ME.SparseTensor]) -> Tensor:  # noqa: D102\n",
        "        raise NotImplementedError()\n",
        "\n",
        "\n",
        "class CloudModule(nn.Module):\n",
        "    \"\"\"Meta-module for cloud branch. Combines feature extraction backbone and head modules.\"\"\"\n",
        "\n",
        "    def __init__(\n",
        "        self,\n",
        "        backbone: CloudFeatureExtractor,\n",
        "        head: CloudHead,\n",
        "    ):\n",
        "        \"\"\"Meta-module for cloud branch.\n",
        "\n",
        "        Args:\n",
        "            backbone (CloudFeatureExtractor): Cloud feature extraction backbone.\n",
        "            head (CloudHead): Cloud head module.\n",
        "\n",
        "        Raises:\n",
        "            ValueError: If incompatible cloud backbone and head are given.\n",
        "        \"\"\"\n",
        "        super().__init__()\n",
        "        self.backbone = backbone\n",
        "        self.head = head\n",
        "        self.sparse = self.backbone.sparse\n",
        "        if self.backbone.sparse != self.head.sparse:\n",
        "            raise ValueError(\"Incompatible cloud backbone and head\")\n",
        "\n",
        "    def forward(self, x: Union[Tensor, ME.SparseTensor]) -> Tensor:  # noqa: D102\n",
        "        if self.sparse:\n",
        "            assert isinstance(x, ME.SparseTensor)\n",
        "        else:\n",
        "            assert isinstance(x, Tensor)\n",
        "        x = self.backbone(x)\n",
        "        x = self.head(x)\n",
        "        return x\n",
        "\n",
        "\n",
        "class FusionModule(nn.Module):\n",
        "    \"\"\"Interface class for fusion module.\"\"\"\n",
        "\n",
        "    def __init__(self):\n",
        "        \"\"\"Interface class for fusion module.\"\"\"\n",
        "        super().__init__()\n",
        "\n",
        "    def forward(self, data: Dict[str, Union[Tensor, ME.SparseTensor]]) -> Tensor:  # noqa: D102\n",
        "        raise NotImplementedError()\n",
        "\n",
        "\n",
        "class ComposedModel(nn.Module):\n",
        "    \"\"\"Composition model for multimodal architectures.\"\"\"\n",
        "\n",
        "    sparse_cloud: Optional[bool] = None\n",
        "\n",
        "    def __init__(\n",
        "        self,\n",
        "        image_module: Optional[ImageModule] = None,\n",
        "        cloud_module: Optional[CloudModule] = None,\n",
        "        # text_module: Optional[FusionTextModel] = None,\n",
        "        # ADDED but now try with the same image_module\n",
        "        # image_back_module: Optional[ImageModule] = None,\n",
        "        fusion_module: Optional[FusionModule] = None,\n",
        "    ) -> None:\n",
        "        \"\"\"Composition model for multimodal architectures.\n",
        "\n",
        "        Args:\n",
        "            image_module (ImageModule, optional): Image modality branch. Defaults to None.\n",
        "            cloud_module (CloudModule, optional): Cloud modality branch. Defaults to None.\n",
        "            fusion_module (FusionModule, optional): Module to fuse different modalities. Defaults to None.\n",
        "        \"\"\"\n",
        "        super().__init__()\n",
        "\n",
        "        self.image_module = image_module\n",
        "        self.cloud_module = cloud_module\n",
        "        # ADDED image_back_module - the same as for front image\n",
        "        self.image_back_module = image_module\n",
        "        # ADDED here text_module\n",
        "        # self.text_module = text_module\n",
        "        self.fusion_module = fusion_module\n",
        "        if self.cloud_module:\n",
        "            self.sparse_cloud = self.cloud_module.sparse\n",
        "\n",
        "    def forward(self, batch: Dict[str, Tensor]) -> Dict[str, Optional[Tensor]]:  # noqa: D102\n",
        "        out_dict: Dict[str, Optional[Tensor]] = {\n",
        "            \"image\": None,\n",
        "            \"cloud\": None,\n",
        "            \"fusion\": None,\n",
        "            # ADDED image_back\n",
        "            \"image_back\": None,\n",
        "            # ADDED here text\n",
        "            # \"text\": None,\n",
        "        }\n",
        "\n",
        "        if self.image_module is not None:\n",
        "            out_dict[\"image\"] = self.image_module(batch[\"images\"])\n",
        "            # ADDED here image_back\n",
        "            out_dict[\"image_back\"] = self.image_module(batch[\"images_back\"])\n",
        "\n",
        "        if self.cloud_module is not None:\n",
        "            if self.sparse_cloud:\n",
        "                cloud = ME.SparseTensor(features=batch[\"features\"], coordinates=batch[\"coordinates\"])\n",
        "            else:\n",
        "                raise NotImplementedError(\"Currently we support only sparse cloud modules.\")\n",
        "            out_dict[\"cloud\"] = self.cloud_module(cloud)\n",
        "\n",
        "        if self.fusion_module is not None:\n",
        "            out_dict[\"fusion\"] = self.fusion_module(out_dict)\n",
        "\n",
        "        # ADDED here text_module\n",
        "        if self.text_module is not None:\n",
        "            out_dict[\"text\"] = self.text_module(batch[\"back_embs\"], batch[\"front_embs\"])\n",
        "\n",
        "        return out_dict\n"
      ],
      "metadata": {
        "id": "Jz2YGGmBCcrl"
      },
      "execution_count": 6,
      "outputs": []
    },
    {
      "cell_type": "code",
      "execution_count": 7,
      "metadata": {
        "id": "WDfD77K6waiw"
      },
      "outputs": [],
      "source": [
        "\n",
        "\n",
        "def minkloc_multimodal(weights: Optional[Union[str, Path]] = None) -> ComposedModel:\n",
        "    \"\"\"Default MinkLoc++ model configuration.\n",
        "\n",
        "    Paper: https://arxiv.org/abs/2104.05327\n",
        "\n",
        "    Komorowski, Jacek, Monika Wysoczańska, and Tomasz Trzcinski. \"MinkLoc++: lidar\n",
        "    and monocularimage fusion for place recognition.\" 2021 International Joint\n",
        "    Conference on Neural Networks (IJCNN). IEEE, 2021.\n",
        "\n",
        "    Args:\n",
        "        weights (Union[str, Path], optional): The path to the weights 'pth' file. Defaults to None.\n",
        "\n",
        "    Raises:\n",
        "        ValueError: If given weights file does not exist.\n",
        "\n",
        "    Returns:\n",
        "        ComposedModel: MinkLoc++ model with default configuration from the original paper.\n",
        "    \"\"\"\n",
        "    model_config = DictConfig(\n",
        "        {\n",
        "            \"_target_\": \"opr.models.base_models.ComposedModel\",\n",
        "            \"image_module\": {\n",
        "                \"_target_\": \"opr.models.base_models.ImageModule\",\n",
        "                \"backbone\": {\n",
        "                    \"_target_\": \"opr.models.resnet.ResNet18FPNExtractor\",\n",
        "                    \"lateral_dim\": 128,\n",
        "                    \"fh_num_bottom_up\": 4,\n",
        "                    \"fh_num_top_down\": 0,\n",
        "                    \"pretrained\": True,\n",
        "                },\n",
        "                \"head\": {\"_target_\": \"opr.models.layers.gem.GeM\", \"p\": 3, \"eps\": 1e-06},\n",
        "            },\n",
        "            \"cloud_module\": {\n",
        "                \"_target_\": \"opr.models.base_models.CloudModule\",\n",
        "                \"backbone\": {\n",
        "                    \"_target_\": \"opr.models.minkloc.MinkResNetFPNExtractor\",\n",
        "                    \"out_channels\": 128,\n",
        "                    \"num_top_down\": 1,\n",
        "                    \"conv0_kernel_size\": 5,\n",
        "                    \"block\": \"ECABasicBlock\",\n",
        "                    \"layers\": [1, 1, 1],\n",
        "                    \"planes\": [32, 64, 64],\n",
        "                },\n",
        "                \"head\": {\"_target_\": \"opr.models.layers.gem.MinkGeM\", \"p\": 3, \"eps\": 1e-06},\n",
        "            },\n",
        "            \"fusion_module\": {\"_target_\": \"opr.models.fusion.Concat\"},\n",
        "        }\n",
        "    )\n",
        "    model = instantiate(model_config)\n",
        "    if weights is not None:\n",
        "        if not Path(weights).exists():\n",
        "            raise ValueError(f\"Given weights file does not exist: {weights}\")\n",
        "        ckpt = torch.load(weights)[\"model_state_dict\"]\n",
        "        model.load_state_dict(ckpt)\n",
        "    return model\n",
        "\n",
        "\n",
        "\n",
        "\n",
        "# model = minkloc_multimodal(weights=\"baseline_minkloc_multimodal.pth\")"
      ]
    },
    {
      "cell_type": "code",
      "execution_count": 8,
      "metadata": {
        "id": "vPFfBwtbwaiw"
      },
      "outputs": [],
      "source": [
        "from pathlib import Path\n",
        "\n",
        "EPOCHS = 20\n",
        "\n",
        "IMAGE_LR = 0.0001\n",
        "CLOUD_LR = 0.001\n",
        "FUSION_LR = 0.001\n",
        "\n",
        "IMAGE_BACK_LR = 0.0001\n",
        "\n",
        "WEIGHT_DECAY = 0.0001\n",
        "\n",
        "SCHEDULER_GAMMA = 0.1\n",
        "SCHEDULER_STEPS = [7]\n",
        "\n",
        "DEVICE = \"cuda\"\n",
        "# BATCH_EXPANSION_TH = 0.7\n",
        "BATCH_EXPANSION_TH = 0.7\n",
        "\n",
        "CHECKPOINTS_DIR = Path(\"checkpoints\")\n",
        "\n",
        "model = minkloc_multimodal()\n"
      ]
    },
    {
      "cell_type": "markdown",
      "metadata": {
        "id": "xQ_KyHKuwaix"
      },
      "source": [
        "Для инициализации функции лосса предлагается воспользоваться средствами библиотеки [Hydra](https://hydra.cc/docs/intro/).\n",
        "\n",
        "Примеры готовых конфиг-файлов есть в директории \"configs\" [репозитория opr](https://github.com/alexmelekhin/open_place_recognition). Обратите внимание, что в конфигурации датасета необходимо указать путь к его директории."
      ]
    },
    {
      "cell_type": "code",
      "source": [
        "from torch.optim import Adam\n",
        "from torch.optim.lr_scheduler import MultiStepLR\n",
        "\n",
        "from hydra.utils import instantiate\n",
        "from omegaconf import OmegaConf\n",
        "\n",
        "# from opr.datasets.dataloader_factory import make_dataloaders"
      ],
      "metadata": {
        "id": "kQYeSOLyA9UM"
      },
      "execution_count": 9,
      "outputs": []
    },
    {
      "cell_type": "code",
      "source": [
        "\"\"\"Functions to create PyTorch DataLoaders for different datasets.\"\"\"\n",
        "from typing import Callable, Dict, List, Optional, Tuple, Union\n",
        "\n",
        "import MinkowskiEngine as ME  # noqa: N817\n",
        "import torch\n",
        "from hydra.utils import instantiate\n",
        "from omegaconf import DictConfig\n",
        "from torch import Tensor\n",
        "from torch.utils.data import DataLoader"
      ],
      "metadata": {
        "id": "Hf_v2gCQC8Yj"
      },
      "execution_count": 10,
      "outputs": []
    },
    {
      "cell_type": "code",
      "source": [
        "import importlib\n",
        "from opr.datasets import base, custom\n",
        "\n",
        "importlib.reload(base)\n",
        "importlib.reload(custom)\n"
      ],
      "metadata": {
        "colab": {
          "base_uri": "https://localhost:8080/"
        },
        "id": "zTUztQn9G6qu",
        "outputId": "8ff15292-cd42-40a7-e61c-0ec959fc5647"
      },
      "execution_count": 11,
      "outputs": [
        {
          "output_type": "execute_result",
          "data": {
            "text/plain": [
              "<module 'opr.datasets.custom' from '/content/open_place_recognition/opr/datasets/custom.py'>"
            ]
          },
          "metadata": {},
          "execution_count": 11
        }
      ]
    },
    {
      "cell_type": "code",
      "source": [
        "# from opr.datasets.base import BaseDataset\n",
        "\n",
        "\n",
        "\"\"\"Base dataset implementation.\"\"\"\n",
        "import pickle\n",
        "from pathlib import Path\n",
        "from typing import Dict, List, Literal, Optional, Tuple, Union\n",
        "\n",
        "import numpy as np\n",
        "import pandas as pd\n",
        "from pandas import DataFrame\n",
        "from torch import Tensor\n",
        "from torch.utils.data import Dataset\n",
        "\n",
        "from opr.datasets.augmentations import (\n",
        "    DefaultCloudSetTransform,\n",
        "    DefaultCloudTransform,\n",
        "    DefaultImageTransform,\n",
        ")\n",
        "\n",
        "\n",
        "class BaseDataset(Dataset):\n",
        "    \"\"\"Base class for track-based Place Recognition dataset.\"\"\"\n",
        "\n",
        "    valid_subsets: Tuple[str, ...] = (\"train\", \"val\", \"test\")\n",
        "    valid_modalities: Tuple[str, ...] = (\"image\", \"cloud\")\n",
        "    dataset_root: Path\n",
        "    subset: Literal[\"train\", \"val\", \"test\"]\n",
        "    dataset_df: DataFrame\n",
        "    modalities: Tuple[str, ...]\n",
        "    images_subdir: Optional[Path] = None\n",
        "    clouds_subdir: Optional[Path] = None\n",
        "    images_back_subdir: Optional[Union[str, Path]] = None,\n",
        "\n",
        "    positives_index: Dict[int, List[int]]\n",
        "    nonnegatives_index: Dict[int, List[int]]\n",
        "    image_transform: DefaultImageTransform\n",
        "    cloud_transform: DefaultCloudTransform\n",
        "    cloud_set_transform: DefaultCloudSetTransform\n",
        "    mink_quantization_size: Optional[float]\n",
        "\n",
        "    def __init__(\n",
        "        self,\n",
        "        dataset_root: Union[str, Path],\n",
        "        subset: Literal[\"train\", \"val\", \"test\"] = \"train\",\n",
        "        modalities: Union[str, Tuple[str, ...]] = (\"image\", \"cloud\", \"image_back\"),\n",
        "    ) -> None:\n",
        "        \"\"\"Base class for track-based Place Recognition dataset.\n",
        "\n",
        "        Args:\n",
        "            dataset_root (Union[str, Path]): Path to the dataset root directory.\n",
        "            subset (Literal[\"train\", \"val\", \"test\"]): Current subset to load. Defaults to \"train\".\n",
        "            modalities (Union[str, Tuple[str, ...]]): List of modalities for which the data should be loaded.\n",
        "                Defaults to ( \"image\", \"cloud\").\n",
        "\n",
        "        Raises:\n",
        "            FileNotFoundError: If dataset_root doesn't exist.\n",
        "            ValueError: If invalid subset given.\n",
        "            FileNotFoundError: If there is no csv file for given subset.\n",
        "            ValueError: If invalid modalities given.\n",
        "            ValueError: If \"subset_positives_index.pkl\" file is missing.\n",
        "            ValueError: If \"subset_nonnegatives_index.pkl\" file is missing.\n",
        "        \"\"\"\n",
        "        self.dataset_root = Path(dataset_root)\n",
        "        if not self.dataset_root.exists():\n",
        "            raise FileNotFoundError(f\"Given dataset_root={self.dataset_root} doesn't exist\")\n",
        "\n",
        "        if subset not in self.valid_subsets:\n",
        "            raise ValueError(f\"Invalid subset argument: '{subset}' not in {self.valid_subsets}\")\n",
        "        self.subset = subset\n",
        "        subset_csv = self.dataset_root / f\"{subset}.csv\"\n",
        "        if not subset_csv.exists():\n",
        "            raise FileNotFoundError(\n",
        "                f\"There is no {subset}.csv file in given dataset_root={self.dataset_root}.\"\n",
        "                \"Consider checking documentation on how to preprocess the dataset.\"\n",
        "            )\n",
        "        self.dataset_df = pd.read_csv(subset_csv, index_col=0)\n",
        "\n",
        "        if isinstance(modalities, str):\n",
        "            modalities = tuple([modalities])\n",
        "        if not set(modalities).issubset(self.valid_modalities):\n",
        "            raise ValueError(f\"Invalid modalities argument: '{modalities}' not in {self.valid_modalities}\")\n",
        "        self.modalities = modalities\n",
        "\n",
        "        positives_index_pkl = self.dataset_root / f\"{subset}_positives_index.pkl\"\n",
        "        if not positives_index_pkl.exists():\n",
        "            raise ValueError(f\"Missing '{subset}_positives_index.pkl' file.\")\n",
        "        with open(positives_index_pkl, \"rb\") as f:\n",
        "            self.positives_index = pickle.load(f)\n",
        "        nonnegatives_index_pkl = self.dataset_root / f\"{subset}_nonnegatives_index.pkl\"\n",
        "        if not nonnegatives_index_pkl.exists():\n",
        "            raise ValueError(f\"Missing '{subset}_nonnegatives_index.pkl' file.\")\n",
        "        with open(nonnegatives_index_pkl, \"rb\") as f:\n",
        "            self.nonnegatives_index = pickle.load(f)\n",
        "\n",
        "    def __len__(self) -> int:  # noqa: D105\n",
        "        return len(self.dataset_df)\n",
        "\n",
        "    def __getitem__(self, idx: int) -> Dict[str, Union[int, Tensor]]:  # noqa: D105\n",
        "        raise NotImplementedError()\n",
        "\n",
        "    def get_positives(self, idx: int) -> np.ndarray:\n",
        "        \"\"\"Return the indices of positive elements.\n",
        "\n",
        "        Args:\n",
        "            idx (int): Index of element for which the positives needs to be found.\n",
        "\n",
        "        Returns:\n",
        "            ndarray: The array of indices of positive elements.\n",
        "        \"\"\"\n",
        "        return np.array(self.positives_index[idx])\n",
        "\n",
        "    def get_nonnegatives(self, idx: int) -> np.ndarray:\n",
        "        \"\"\"Return the indices of non-negatives elements.\n",
        "\n",
        "        Args:\n",
        "            idx (int): Index of element for which the non-negatives needs to be found.\n",
        "\n",
        "        Returns:\n",
        "            ndarray: The array of indices of non-negatives elements.\n",
        "        \"\"\"\n",
        "        return np.array(self.nonnegatives_index[idx])\n"
      ],
      "metadata": {
        "id": "p5zK7hkgC813"
      },
      "execution_count": 12,
      "outputs": []
    },
    {
      "cell_type": "code",
      "source": [
        "from opr.utils import in_sorted_array\n",
        "\n",
        "\n",
        "def make_collate_fn(dataset: BaseDataset, batch_split_size: Optional[int] = None) -> Callable:\n",
        "    \"\"\"Creates collate_fn function for given dataset.\n",
        "\n",
        "    Args:\n",
        "        dataset (BaseDataset): Dataset object.\n",
        "        batch_split_size (int, optional): Whether to split batches into sub-batches\n",
        "            for multistaged batch training. Defaults to None.\n",
        "\n",
        "    Returns:\n",
        "        Callable: collate_fn function that takes data_list and returns batch.\n",
        "    \"\"\"\n",
        "\n",
        "    def collate_fn(\n",
        "        data_list: List[Dict[str, Tensor]]\n",
        "    ) -> Tuple[Union[List[Dict[str, Tensor]], Dict[str, Tensor]], Tensor, Tensor]:\n",
        "        \"\"\"Pack input data list into batch.\n",
        "\n",
        "        Args:\n",
        "            data_list (List[Dict[str, Tensor]]]): batch data list\n",
        "                generated by DataLoader.\n",
        "\n",
        "        Raises:\n",
        "            NotImplementedError: If trying to use multistaged training.\n",
        "\n",
        "        Returns:\n",
        "            Dict[str, Tensor]: dictionary of batched data.\n",
        "        \"\"\"\n",
        "        if \"cloud\" in data_list[0]:\n",
        "            clouds: Union[Tensor, List[Tensor]] = [e[\"cloud\"] for e in data_list]\n",
        "            n_points = [int(e.shape[0]) for e in clouds]\n",
        "            clouds = torch.cat(list(clouds), dim=0).unsqueeze(0)  # (1, batch_size*n_points, 3) tensor\n",
        "            if dataset.cloud_set_transform is not None:\n",
        "                # Apply the same transformation on all dataset elements\n",
        "                clouds = dataset.cloud_set_transform(clouds)\n",
        "            clouds = torch.split(clouds.squeeze(0), split_size_or_sections=n_points, dim=0)  # back to list\n",
        "            quantized_coords = [\n",
        "                ME.utils.sparse_quantize(coordinates=e, quantization_size=dataset.mink_quantization_size)\n",
        "                for e in clouds\n",
        "            ]\n",
        "        if \"image\" in data_list[0]:\n",
        "            images = [e[\"image\"] for e in data_list]\n",
        "        if \"range_image\" in data_list[0]:\n",
        "            range_images = [e[\"range_image\"] for e in data_list]\n",
        "        # ADDED back image\n",
        "        if \"image_back\" in data_list[0]:\n",
        "            images_back = [e[\"image_back\"] for e in data_list]\n",
        "        # # ADDED text_back and text_front\n",
        "        # if \"text_emb_back\" in data_list[0]:\n",
        "        #     back_embs = [e[\"text_emb_back\"] for e in data_list]\n",
        "        # if \"text_emb_front\" in data_list[0]:\n",
        "        #     front_embs = [e[\"text_emb_front\"] for e in data_list]\n",
        "\n",
        "        utms = torch.stack([e[\"utm\"] for e in data_list], dim=0)\n",
        "\n",
        "        result: Union[List[Dict[str, Tensor]], Dict[str, Tensor]]\n",
        "\n",
        "        if batch_split_size is None or batch_split_size == 0:\n",
        "            result = {}\n",
        "            if \"cloud\" in data_list[0]:\n",
        "                result[\"coordinates\"] = ME.utils.batched_coordinates(quantized_coords)\n",
        "                result[\"features\"] = torch.ones((result[\"coordinates\"].shape[0], 1), dtype=torch.float32)\n",
        "            if \"image\" in data_list[0]:\n",
        "                result[\"images\"] = torch.stack(images, dim=0)\n",
        "            if \"range_image\" in data_list[0]:\n",
        "                result[\"range_images\"] = torch.stack(range_images, dim=0)\n",
        "            # ADDED back image\n",
        "            if \"image_back\" in data_list[0]:\n",
        "                result[\"images_back\"] = torch.stack(images_back, dim=0)\n",
        "            # #  ADDED text_back text_front\n",
        "            # if \"text_emb_back\" in data_list[0]:\n",
        "            #     result[\"back_embs\"] = torch.stack(back_embs, dim=0).squeeze(1)\n",
        "            # if \"text_emb_front\" in data_list[0]:\n",
        "            #     result[\"front_embs\"] = torch.stack(front_embs, dim=0).squeeze(1)\n",
        "            result[\"utms\"] = utms\n",
        "        else:  # split the batch into chunks\n",
        "            raise NotImplementedError(\"Multistaged batch training not yet implemented\")\n",
        "\n",
        "        indices = [int(e[\"idx\"]) for e in data_list]\n",
        "        positives_mask_list = [\n",
        "            [in_sorted_array(e, dataset.get_positives(label)) for e in indices] for label in indices\n",
        "        ]\n",
        "        negatives_mask_list = [\n",
        "            [not in_sorted_array(e, dataset.get_nonnegatives(label)) for e in indices] for label in indices\n",
        "        ]\n",
        "        positives_mask = torch.tensor(positives_mask_list)\n",
        "        negatives_mask = torch.tensor(negatives_mask_list)\n",
        "        return result, positives_mask, negatives_mask\n",
        "\n",
        "    return collate_fn\n",
        "\n",
        "\n",
        "def make_dataloaders(\n",
        "    dataset_cfg: DictConfig,\n",
        "    batch_sampler_cfg: DictConfig,\n",
        "    num_workers: int = 0,\n",
        ") -> Dict[str, DataLoader]:\n",
        "    \"\"\"Function to create DataLoader objects from given dataset and sampler configs.\n",
        "\n",
        "    Args:\n",
        "        dataset_cfg (DictConfig): Dataset configuration.\n",
        "        batch_sampler_cfg (DictConfig): Batch sampler configuration.\n",
        "        num_workers (int): Number of workers for DataLoader. Defaults to 0.\n",
        "\n",
        "    Returns:\n",
        "        Dict[str, DataLoader]: Dictionary with DataLoaders.\n",
        "    \"\"\"\n",
        "    dataset = {}\n",
        "    for subset in [\"train\", \"val\", \"test\"]:\n",
        "        dataset[subset] = instantiate(dataset_cfg, subset=subset)\n",
        "        # HERE !!!!!!!!!!!!!!!!!!!!!\n",
        "        # print(dataset[subset][0])\n",
        "\n",
        "    batch_split_size: Dict[str, Optional[int]] = {}\n",
        "    if \"batch_split_size\" not in batch_sampler_cfg:\n",
        "        batch_split_size[\"train\"] = None\n",
        "        batch_split_size[\"val\"] = None\n",
        "    else:\n",
        "        batch_split_size[\"train\"] = batch_sampler_cfg.batch_split_size\n",
        "        batch_split_size[\"val\"] = batch_sampler_cfg.batch_split_size\n",
        "\n",
        "    sampler = {}\n",
        "    sampler[\"train\"] = instantiate(batch_sampler_cfg, dataset=dataset[\"train\"])\n",
        "    if \"val_batch_size\" in batch_sampler_cfg and batch_sampler_cfg.val_batch_size is not None:\n",
        "        val_batch_size = batch_sampler_cfg.val_batch_size\n",
        "        sampler[\"val\"] = instantiate(\n",
        "            batch_sampler_cfg,\n",
        "            dataset=dataset[\"val\"],\n",
        "            batch_size=val_batch_size,\n",
        "            batch_size_limit=None,\n",
        "            batch_expansion_rate=None,\n",
        "        )\n",
        "        batch_split_size[\"val\"] = None\n",
        "    elif \"batch_size_limit\" not in batch_sampler_cfg or batch_sampler_cfg.batch_size_limit is None:\n",
        "        val_batch_size = batch_sampler_cfg.batch_size\n",
        "        sampler[\"val\"] = instantiate(batch_sampler_cfg, dataset=dataset[\"val\"])\n",
        "    else:\n",
        "        val_batch_size = batch_sampler_cfg.batch_size_limit\n",
        "        sampler[\"val\"] = instantiate(\n",
        "            batch_sampler_cfg,\n",
        "            dataset=dataset[\"val\"],\n",
        "            batch_size=val_batch_size,\n",
        "            batch_size_limit=None,\n",
        "            batch_expansion_rate=None,\n",
        "        )\n",
        "\n",
        "    dataloaders = {}\n",
        "    for subset in [\"train\", \"val\"]:\n",
        "        dataloaders[subset] = DataLoader(\n",
        "            dataset=dataset[subset],\n",
        "            batch_sampler=sampler[subset],\n",
        "            collate_fn=make_collate_fn(dataset[subset], batch_split_size=batch_split_size[subset]),\n",
        "            num_workers=num_workers,\n",
        "            pin_memory=True,\n",
        "        )\n",
        "    dataloaders[\"test\"] = DataLoader(\n",
        "        dataset=dataset[\"test\"],\n",
        "        batch_size=val_batch_size,\n",
        "        collate_fn=make_collate_fn(dataset[\"test\"], batch_split_size=None),\n",
        "        num_workers=num_workers,\n",
        "        pin_memory=True,\n",
        "        drop_last=False,\n",
        "    )\n",
        "    return dataloaders\n"
      ],
      "metadata": {
        "id": "yTv_B_-bA7YM"
      },
      "execution_count": 13,
      "outputs": []
    },
    {
      "cell_type": "code",
      "execution_count": 14,
      "metadata": {
        "id": "rRobwUU9waiy",
        "colab": {
          "base_uri": "https://localhost:8080/"
        },
        "outputId": "5088b01c-08fa-4844-afe3-106b0fbcee78"
      },
      "outputs": [
        {
          "output_type": "stream",
          "name": "stdout",
          "text": [
            "back_cam\n",
            "back_cam\n",
            "back_cam\n"
          ]
        },
        {
          "output_type": "stream",
          "name": "stderr",
          "text": [
            "/usr/local/lib/python3.9/dist-packages/torch/utils/data/dataloader.py:554: UserWarning: This DataLoader will create 4 worker processes in total. Our suggested max number of worker in current system is 2, which is smaller than what this DataLoader is going to create. Please be aware that excessive worker creation might get DataLoader running slow or even freeze, lower the worker number to avoid potential slowness/freeze if necessary.\n",
            "  warnings.warn(_create_warning_msg(\n"
          ]
        }
      ],
      "source": [
        "\n",
        "\n",
        "LOSS_CFG_PATH = \"/content/open_place_recognition/configs/losses/triplet_margin.yaml\"\n",
        "DATASET_CFG_PATH = \"/content/open_place_recognition/configs/datasets/phystech_campus.yaml\"\n",
        "\n",
        "loss_cfg = OmegaConf.load(LOSS_CFG_PATH)\n",
        "loss_fn = instantiate(loss_cfg)\n",
        "\n",
        "dataset_cfg = OmegaConf.load(DATASET_CFG_PATH)\n",
        "\n",
        "dataset_cfg.dataset.dataset_root = \"/content/public\"  # change path - we need a path to the downloaded dataset a cell above\n",
        "\n",
        "dataloaders = make_dataloaders(\n",
        "    dataset_cfg=dataset_cfg.dataset,\n",
        "    batch_sampler_cfg=dataset_cfg.sampler,\n",
        "    num_workers=dataset_cfg.num_workers,\n",
        ")\n",
        "\n",
        "params_list = []\n",
        "if model.image_module is not None and IMAGE_LR is not None:\n",
        "    params_list.append({\"params\": model.image_module.parameters(), \"lr\": IMAGE_LR})\n",
        "if model.cloud_module is not None and CLOUD_LR is not None:\n",
        "    params_list.append({\"params\": model.cloud_module.parameters(), \"lr\": CLOUD_LR})\n",
        "if model.fusion_module is not None and FUSION_LR is not None:\n",
        "    params_list.append({\"params\": model.fusion_module.parameters(), \"lr\": FUSION_LR})\n",
        "optimizer = Adam(params_list, weight_decay=WEIGHT_DECAY)\n",
        "scheduler = MultiStepLR(optimizer, milestones=SCHEDULER_STEPS, gamma=SCHEDULER_GAMMA)\n",
        "\n",
        "if not CHECKPOINTS_DIR.exists():\n",
        "    CHECKPOINTS_DIR.mkdir(parents=True)\n",
        "\n",
        "model = model.to(DEVICE)"
      ]
    },
    {
      "cell_type": "code",
      "execution_count": 15,
      "metadata": {
        "id": "NSeNnph_waiz"
      },
      "outputs": [],
      "source": [
        "\"\"\"Testing functions implementation.\"\"\"\n",
        "import itertools\n",
        "from typing import Literal, Optional, Tuple\n",
        "\n",
        "import numpy as np\n",
        "import torch\n",
        "from pytorch_metric_learning.distances import LpDistance\n",
        "from sklearn.neighbors import KDTree\n",
        "from torch.utils.data import DataLoader\n",
        "from tqdm import tqdm\n",
        "\n",
        "# from opr.models.base_models import ComposedModel\n",
        "\n",
        "\n",
        "def get_recalls(\n",
        "    query_embs: np.ndarray,\n",
        "    db_embs: np.ndarray,\n",
        "    dist_matrix: np.ndarray,\n",
        "    dist_thresh: float = 25.0,\n",
        "    at_n: int = 25,\n",
        ") -> Tuple[np.ndarray, float, Optional[float]]:\n",
        "    \"\"\"Calculate Recall@N, Recall@1% and mean top-1 distance for the given query and db embeddings.\n",
        "\n",
        "    Args:\n",
        "        query_embs (np.ndarray): Query embeddings array.\n",
        "        db_embs (np.ndarray): Database embeddings array.\n",
        "        dist_matrix (np.ndarray): Distance matrix of shape (query_len, db_len).\n",
        "        dist_thresh (float): Distance threshold for positive match. Defaults to 25.0.\n",
        "        at_n (int): The maximum N value for the Recall@N metric. Defaults to 25.\n",
        "\n",
        "    Returns:\n",
        "        Tuple[np.ndarray, float, Optional[float]]: (Recall@N, Recall@1%, mean top-1 distance).\n",
        "            The 'mean top-1 distance' metric may be `None` if Recall@1 = 0.\n",
        "    \"\"\"\n",
        "    database_tree = KDTree(db_embs)\n",
        "\n",
        "    positives_mask = dist_matrix <= dist_thresh\n",
        "    queries_with_matches = int((positives_mask.sum(axis=1) > 0).sum())\n",
        "    queries_with_matches_indices = np.argwhere(positives_mask.sum(axis=1) > 0)\n",
        "    assert queries_with_matches_indices.shape[0] == queries_with_matches\n",
        "\n",
        "    recall_at_n = np.zeros((at_n,), dtype=float)\n",
        "\n",
        "    top1_distances = []\n",
        "    errors_query = []\n",
        "    errors_db = []\n",
        "    gt_db = []\n",
        "    errors_dists = []\n",
        "    one_percent_threshold = max(int(round(len(db_embs) / 100.0)), 1)\n",
        "\n",
        "    distances, indices = database_tree.query(query_embs, k=at_n)\n",
        "\n",
        "    for query_i, closest_inds in enumerate(indices):\n",
        "        query_gt_matches_mask = positives_mask[query_i][closest_inds]\n",
        "        if query_gt_matches_mask[0]:\n",
        "            top1_distances.append(distances[query_i][0])\n",
        "        elif query_i in queries_with_matches_indices:\n",
        "            errors_dists.append(distances[query_i][0])\n",
        "            errors_query.append(query_i)\n",
        "            errors_db.append(closest_inds[0])\n",
        "            gt_db.append(dist_matrix[query_i].argmin())\n",
        "        recall_at_n += np.cumsum(query_gt_matches_mask, axis=0, dtype=bool)\n",
        "\n",
        "    recall_at_n = recall_at_n / queries_with_matches\n",
        "    one_percent_recall = recall_at_n[one_percent_threshold - 1]\n",
        "    if len(top1_distances) > 0:\n",
        "        mean_top1_distance = np.mean(top1_distances)\n",
        "    else:\n",
        "        mean_top1_distance = None\n",
        "\n",
        "    return recall_at_n, one_percent_recall, mean_top1_distance\n",
        "\n",
        "\n",
        "def test(\n",
        "    model: ComposedModel,\n",
        "    descriptor_key: Literal[\"image\", \"cloud\", \"fusion\"],\n",
        "    dataloader: DataLoader,\n",
        "    dist_thresh: float = 25.0,\n",
        "    device: str = \"cuda\",\n",
        ") -> Tuple[np.ndarray, float, float]:\n",
        "    \"\"\"Test Place Recognition Average Recall@N metric performance.\n",
        "\n",
        "    Args:\n",
        "        model (ComposedModel): The model to test.\n",
        "        descriptor_key (Literal[\"image\", \"cloud\", \"fusion\"]): The embedding key which should be tested.\n",
        "        dataloader (DataLoader): Test dataloader object.\n",
        "        dist_thresh (float): Distance threshold for positive match. Defaults to 25.0.\n",
        "        device (str): Device (\"cpu\" or \"cuda\"). Defaults to \"cuda\".\n",
        "\n",
        "    Returns:\n",
        "        Tuple[np.ndarray, float, float]: Array of AverageRecall@N (N from 1 to 25), AverageRecall@1%\n",
        "            and mean top-1 distance.\n",
        "    \"\"\"\n",
        "    model = model.to(device)\n",
        "    model.eval()\n",
        "    with torch.no_grad():\n",
        "        test_embeddings_list = []\n",
        "        for data in tqdm(dataloader, desc=\"Calculating test set descriptors\"):\n",
        "            batch, _, _ = data\n",
        "            batch = {e: batch[e].to(device) for e in batch}\n",
        "            batch_embeddings = model(batch)\n",
        "            test_embeddings_list.append(batch_embeddings[descriptor_key].cpu().numpy())\n",
        "        test_embeddings = np.vstack(test_embeddings_list)\n",
        "\n",
        "    # TODO: resolve mypy typing here\n",
        "    test_df = dataloader.dataset.dataset_df  # type: ignore\n",
        "\n",
        "    queries = []\n",
        "    databases = []\n",
        "\n",
        "    for _, group in test_df.groupby(\"track\"):\n",
        "        databases.append(group.index.to_list())\n",
        "        selected_queries = group[group[\"in_query\"]]\n",
        "        queries.append(selected_queries.index.to_list())\n",
        "\n",
        "    utms = torch.tensor(test_df[[\"northing\", \"easting\"]].to_numpy())\n",
        "    dist_fn = LpDistance(normalize_embeddings=False)\n",
        "    dist_utms = dist_fn(utms).numpy()\n",
        "\n",
        "    n = 25\n",
        "    recalls_at_n = np.zeros((len(queries), len(databases), n))\n",
        "    recalls_at_one_percent = np.zeros((len(queries), len(databases), 1))\n",
        "    top1_distances = np.zeros((len(queries), len(databases), 1))\n",
        "    ij_permutations = list(itertools.permutations(range(len(queries)), 2))\n",
        "    count_r_at_1 = 0\n",
        "\n",
        "    for i, j in tqdm(ij_permutations, desc=\"Calculating metrics\"):\n",
        "        query = queries[i]\n",
        "        database = databases[j]\n",
        "        query_embs = test_embeddings[query]\n",
        "        database_embs = test_embeddings[database]\n",
        "\n",
        "        distances = dist_utms[query][:, database]\n",
        "        (\n",
        "            recalls_at_n[i, j],\n",
        "            recalls_at_one_percent[i, j],\n",
        "            top1_distance,\n",
        "        ) = get_recalls(query_embs, database_embs, distances, at_n=n, dist_thresh=dist_thresh)\n",
        "\n",
        "        if top1_distance:\n",
        "            count_r_at_1 += 1\n",
        "            top1_distances[i, j] = top1_distance\n",
        "    mean_recall_at_n = recalls_at_n.sum(axis=(0, 1)) / len(ij_permutations)\n",
        "    mean_recall_at_one_percent = recalls_at_one_percent.sum(axis=(0, 1)).squeeze() / len(ij_permutations)\n",
        "    mean_top1_distance = top1_distances.sum(axis=(0, 1)).squeeze() / len(ij_permutations)\n",
        "    print(f\"Mean Recall@N:\\n{mean_recall_at_n}\")\n",
        "    print(f\"Mean Recall@1% = {mean_recall_at_one_percent}\")\n",
        "    print(f\"Mean top-1 distance = {mean_top1_distance}\")\n",
        "\n",
        "    return mean_recall_at_n, mean_recall_at_one_percent, mean_top1_distance\n",
        "\n",
        "\n",
        "\n",
        "\n",
        "\n",
        "# recall_at_n, recall_at_one_percent, mean_top1_distance = test(\n",
        "#     model=model,\n",
        "#     descriptor_key=\"fusion\",\n",
        "#     dataloader=dataloaders[\"test\"],\n",
        "#     dist_thresh=5.0,\n",
        "#     device=DEVICE,\n",
        "# )\n",
        "# BEFRE"
      ]
    },
    {
      "cell_type": "code",
      "execution_count": 16,
      "metadata": {
        "id": "MJT8RX47wai0"
      },
      "outputs": [],
      "source": [
        "# print(recall_at_n)"
      ]
    },
    {
      "cell_type": "markdown",
      "metadata": {
        "id": "I6_OwbvOwai0"
      },
      "source": [
        "### Цикл обучения"
      ]
    },
    {
      "cell_type": "code",
      "source": [
        "dataloaders[\"train\"].dataset[0]"
      ],
      "metadata": {
        "colab": {
          "base_uri": "https://localhost:8080/"
        },
        "id": "Mvc6wSPfhRgX",
        "outputId": "260e5460-60dc-4694-980b-a86539a41825"
      },
      "execution_count": 17,
      "outputs": [
        {
          "output_type": "execute_result",
          "data": {
            "text/plain": [
              "{'idx': 0,\n",
              " 'utm': tensor([-23.8398, -17.6552]),\n",
              " 'image': tensor([[[ 2.2489,  2.2489,  2.2489,  ..., -0.5938, -0.5253, -1.0219],\n",
              "          [ 2.2489,  2.2489,  2.2489,  ..., -0.4911, -1.2274,  2.2489],\n",
              "          [ 2.2489,  2.2489,  2.2489,  ..., -0.4568, -0.0287,  0.9646],\n",
              "          ...,\n",
              "          [-0.4397, -0.5253, -1.0904,  ..., -0.9192, -0.8678, -0.8335],\n",
              "          [-1.0048, -0.9534, -0.9877,  ..., -0.9363, -0.9363, -0.9020],\n",
              "          [-0.8849, -0.9020, -1.0048,  ..., -1.0048, -1.0048, -0.9877]],\n",
              " \n",
              "         [[ 2.4286,  2.4286,  2.4286,  ..., -0.3901, -0.3725, -0.8978],\n",
              "          [ 2.4286,  2.4286,  2.4286,  ..., -0.3375, -1.1604,  2.4286],\n",
              "          [ 2.4286,  2.4286,  2.4286,  ..., -0.3550,  0.0476,  1.0105],\n",
              "          ...,\n",
              "          [-0.1800, -0.2500, -0.8277,  ..., -0.8102, -0.7577, -0.7227],\n",
              "          [-0.8452, -0.7577, -0.8277,  ..., -0.8277, -0.8277, -0.7927],\n",
              "          [-0.7752, -0.7927, -0.8978,  ..., -0.8978, -0.8978, -0.8803]],\n",
              " \n",
              "         [[ 2.6400,  2.6400,  2.6400,  ..., -0.2707, -0.2358, -0.7587],\n",
              "          [ 2.6400,  2.6400,  2.6400,  ..., -0.3230, -1.0550,  2.6400],\n",
              "          [ 2.6400,  2.6400,  2.6400,  ..., -0.2881,  0.1476,  1.1237],\n",
              "          ...,\n",
              "          [ 0.2348,  0.1476, -0.4624,  ..., -0.5844, -0.5321, -0.4973],\n",
              "          [-0.4275, -0.3404, -0.3927,  ..., -0.6018, -0.6018, -0.5670],\n",
              "          [-0.3055, -0.3230, -0.4275,  ..., -0.6715, -0.6715, -0.6541]]]),\n",
              " 'image_back': tensor([[[ 0.2796,  0.1426, -0.0629,  ..., -1.3473, -1.3130, -1.3644],\n",
              "          [ 0.2111,  0.0741, -0.0629,  ..., -1.4158, -1.3815, -1.4329],\n",
              "          [ 0.0912, -0.0116, -0.1143,  ..., -1.4329, -1.4329, -1.4329],\n",
              "          ...,\n",
              "          [-0.2171,  0.0741, -0.1828,  ..., -0.8849, -0.7822, -0.7479],\n",
              "          [ 0.8789,  0.9988,  0.7077,  ..., -0.8335, -0.7822, -0.7650],\n",
              "          [ 1.1529,  0.9303,  1.0331,  ..., -0.8335, -0.8164, -0.7993]],\n",
              " \n",
              "         [[-0.5301, -0.3375, -0.4076,  ..., -1.0028, -1.0028, -1.0553],\n",
              "          [-0.4776, -0.4426, -0.4251,  ..., -1.0203, -1.0203, -1.0903],\n",
              "          [-0.4426, -0.4251, -0.4426,  ..., -1.0553, -1.0903, -1.1078],\n",
              "          ...,\n",
              "          [-0.1099,  0.2577,  0.0476,  ..., -0.2150, -0.1275, -0.1275],\n",
              "          [ 1.1331,  1.3081,  1.0980,  ..., -0.2325, -0.1625, -0.1625],\n",
              "          [ 1.3606,  1.2731,  1.3957,  ..., -0.2325, -0.2150, -0.1800]],\n",
              " \n",
              "         [[-0.3055, -0.0615, -0.1661,  ..., -0.6715, -0.6541, -0.6890],\n",
              "          [-0.3230, -0.2532, -0.2358,  ..., -0.7238, -0.7238, -0.7587],\n",
              "          [-0.2532, -0.2881, -0.2881,  ..., -0.7413, -0.7761, -0.7761],\n",
              "          ...,\n",
              "          [ 0.2696,  0.6008,  0.3916,  ...,  0.1128,  0.2348,  0.2871],\n",
              "          [ 1.5245,  1.5942,  1.4548,  ...,  0.1128,  0.1999,  0.2696],\n",
              "          [ 1.6465,  1.5942,  1.6465,  ...,  0.1476,  0.1651,  0.2348]]]),\n",
              " 'cloud': tensor([[-0.9779,  0.4155, -0.2847],\n",
              "         [-0.9433,  0.4012, -0.2366],\n",
              "         [-0.8725,  0.3713, -0.1843],\n",
              "         ...,\n",
              "         [-0.7361,  0.3584,  0.1591],\n",
              "         [-0.7340,  0.3577,  0.1885],\n",
              "         [-0.7328,  0.3573,  0.2184]])}"
            ]
          },
          "metadata": {},
          "execution_count": 17
        }
      ]
    },
    {
      "cell_type": "code",
      "execution_count": null,
      "metadata": {
        "id": "XWm1UrL3wai0",
        "colab": {
          "base_uri": "https://localhost:8080/"
        },
        "outputId": "18f406bc-af90-4e55-c4fd-07057d78f62c"
      },
      "outputs": [
        {
          "output_type": "stream",
          "name": "stdout",
          "text": [
            "\n",
            "\n",
            "=====> Epoch 1:\n",
            "\n",
            "=> Training:\n",
            "\n"
          ]
        },
        {
          "output_type": "stream",
          "name": "stderr",
          "text": [
            "/usr/local/lib/python3.9/dist-packages/torch/utils/data/dataloader.py:554: UserWarning: This DataLoader will create 4 worker processes in total. Our suggested max number of worker in current system is 2, which is smaller than what this DataLoader is going to create. Please be aware that excessive worker creation might get DataLoader running slow or even freeze, lower the worker number to avoid potential slowness/freeze if necessary.\n",
            "  warnings.warn(_create_warning_msg(\n",
            "train:   0%|          | 0/90 [00:00<?, ?it/s]<ipython-input-13-fcc52b8a73d7>:88: DeprecationWarning: In future, it will be an error for 'np.bool_' scalars to be interpreted as an index\n",
            "  positives_mask = torch.tensor(positives_mask_list)\n",
            "<ipython-input-13-fcc52b8a73d7>:88: DeprecationWarning: In future, it will be an error for 'np.bool_' scalars to be interpreted as an index\n",
            "  positives_mask = torch.tensor(positives_mask_list)\n",
            "<ipython-input-13-fcc52b8a73d7>:88: DeprecationWarning: In future, it will be an error for 'np.bool_' scalars to be interpreted as an index\n",
            "  positives_mask = torch.tensor(positives_mask_list)\n",
            "<ipython-input-13-fcc52b8a73d7>:88: DeprecationWarning: In future, it will be an error for 'np.bool_' scalars to be interpreted as an index\n",
            "  positives_mask = torch.tensor(positives_mask_list)\n",
            "<ipython-input-13-fcc52b8a73d7>:88: DeprecationWarning: In future, it will be an error for 'np.bool_' scalars to be interpreted as an index\n",
            "  positives_mask = torch.tensor(positives_mask_list)\n",
            "<ipython-input-13-fcc52b8a73d7>:88: DeprecationWarning: In future, it will be an error for 'np.bool_' scalars to be interpreted as an index\n",
            "  positives_mask = torch.tensor(positives_mask_list)\n",
            "<ipython-input-13-fcc52b8a73d7>:88: DeprecationWarning: In future, it will be an error for 'np.bool_' scalars to be interpreted as an index\n",
            "  positives_mask = torch.tensor(positives_mask_list)\n",
            "<ipython-input-13-fcc52b8a73d7>:88: DeprecationWarning: In future, it will be an error for 'np.bool_' scalars to be interpreted as an index\n",
            "  positives_mask = torch.tensor(positives_mask_list)\n",
            "<ipython-input-13-fcc52b8a73d7>:88: DeprecationWarning: In future, it will be an error for 'np.bool_' scalars to be interpreted as an index\n",
            "  positives_mask = torch.tensor(positives_mask_list)\n"
          ]
        },
        {
          "output_type": "stream",
          "name": "stdout",
          "text": [
            "inside triplet.py ['image', 'cloud', 'fusion', 'image_back']\n"
          ]
        },
        {
          "output_type": "stream",
          "name": "stderr",
          "text": [
            "\rtrain:   1%|          | 1/90 [00:13<19:28, 13.13s/it]"
          ]
        },
        {
          "output_type": "stream",
          "name": "stdout",
          "text": [
            "inside triplet.py ['image', 'cloud', 'fusion', 'image_back']\n"
          ]
        },
        {
          "output_type": "stream",
          "name": "stderr",
          "text": [
            "\rtrain:   2%|▏         | 2/90 [00:13<08:25,  5.75s/it]"
          ]
        },
        {
          "output_type": "stream",
          "name": "stdout",
          "text": [
            "inside triplet.py ['image', 'cloud', 'fusion', 'image_back']\n"
          ]
        },
        {
          "output_type": "stream",
          "name": "stderr",
          "text": [
            "\rtrain:   3%|▎         | 3/90 [00:14<04:54,  3.39s/it]"
          ]
        },
        {
          "output_type": "stream",
          "name": "stdout",
          "text": [
            "inside triplet.py ['image', 'cloud', 'fusion', 'image_back']\n"
          ]
        },
        {
          "output_type": "stream",
          "name": "stderr",
          "text": [
            "\rtrain:   4%|▍         | 4/90 [00:15<03:24,  2.37s/it]<ipython-input-13-fcc52b8a73d7>:88: DeprecationWarning: In future, it will be an error for 'np.bool_' scalars to be interpreted as an index\n",
            "  positives_mask = torch.tensor(positives_mask_list)\n"
          ]
        },
        {
          "output_type": "stream",
          "name": "stdout",
          "text": [
            "inside triplet.py ['image', 'cloud', 'fusion', 'image_back']\n"
          ]
        },
        {
          "output_type": "stream",
          "name": "stderr",
          "text": [
            "\rtrain:   6%|▌         | 5/90 [00:15<02:34,  1.82s/it]"
          ]
        },
        {
          "output_type": "stream",
          "name": "stdout",
          "text": [
            "inside triplet.py ['image', 'cloud', 'fusion', 'image_back']\n"
          ]
        },
        {
          "output_type": "stream",
          "name": "stderr",
          "text": [
            "<ipython-input-13-fcc52b8a73d7>:88: DeprecationWarning: In future, it will be an error for 'np.bool_' scalars to be interpreted as an index\n",
            "  positives_mask = torch.tensor(positives_mask_list)\n",
            "train:   7%|▋         | 6/90 [00:16<02:10,  1.55s/it]"
          ]
        },
        {
          "output_type": "stream",
          "name": "stdout",
          "text": [
            "inside triplet.py ['image', 'cloud', 'fusion', 'image_back']\n"
          ]
        },
        {
          "output_type": "stream",
          "name": "stderr",
          "text": [
            "\rtrain:   8%|▊         | 7/90 [00:17<01:51,  1.34s/it]"
          ]
        },
        {
          "output_type": "stream",
          "name": "stdout",
          "text": [
            "inside triplet.py ['image', 'cloud', 'fusion', 'image_back']\n"
          ]
        },
        {
          "output_type": "stream",
          "name": "stderr",
          "text": [
            "<ipython-input-13-fcc52b8a73d7>:88: DeprecationWarning: In future, it will be an error for 'np.bool_' scalars to be interpreted as an index\n",
            "  positives_mask = torch.tensor(positives_mask_list)\n",
            "train:   9%|▉         | 8/90 [00:18<01:41,  1.24s/it]<ipython-input-13-fcc52b8a73d7>:88: DeprecationWarning: In future, it will be an error for 'np.bool_' scalars to be interpreted as an index\n",
            "  positives_mask = torch.tensor(positives_mask_list)\n"
          ]
        },
        {
          "output_type": "stream",
          "name": "stdout",
          "text": [
            "inside triplet.py ['image', 'cloud', 'fusion', 'image_back']\n"
          ]
        },
        {
          "output_type": "stream",
          "name": "stderr",
          "text": [
            "\rtrain:  10%|█         | 9/90 [00:19<01:31,  1.13s/it]<ipython-input-13-fcc52b8a73d7>:88: DeprecationWarning: In future, it will be an error for 'np.bool_' scalars to be interpreted as an index\n",
            "  positives_mask = torch.tensor(positives_mask_list)\n"
          ]
        },
        {
          "output_type": "stream",
          "name": "stdout",
          "text": [
            "inside triplet.py ['image', 'cloud', 'fusion', 'image_back']\n"
          ]
        },
        {
          "output_type": "stream",
          "name": "stderr",
          "text": [
            "\rtrain:  11%|█         | 10/90 [00:20<01:30,  1.13s/it]"
          ]
        },
        {
          "output_type": "stream",
          "name": "stdout",
          "text": [
            "inside triplet.py ['image', 'cloud', 'fusion', 'image_back']\n"
          ]
        },
        {
          "output_type": "stream",
          "name": "stderr",
          "text": [
            "\rtrain:  12%|█▏        | 11/90 [00:22<01:34,  1.19s/it]<ipython-input-13-fcc52b8a73d7>:88: DeprecationWarning: In future, it will be an error for 'np.bool_' scalars to be interpreted as an index\n",
            "  positives_mask = torch.tensor(positives_mask_list)\n"
          ]
        },
        {
          "output_type": "stream",
          "name": "stdout",
          "text": [
            "inside triplet.py ['image', 'cloud', 'fusion', 'image_back']\n"
          ]
        },
        {
          "output_type": "stream",
          "name": "stderr",
          "text": [
            "\rtrain:  13%|█▎        | 12/90 [00:23<01:39,  1.28s/it]"
          ]
        },
        {
          "output_type": "stream",
          "name": "stdout",
          "text": [
            "inside triplet.py ['image', 'cloud', 'fusion', 'image_back']\n"
          ]
        },
        {
          "output_type": "stream",
          "name": "stderr",
          "text": [
            "\rtrain:  14%|█▍        | 13/90 [00:25<01:50,  1.44s/it]<ipython-input-13-fcc52b8a73d7>:88: DeprecationWarning: In future, it will be an error for 'np.bool_' scalars to be interpreted as an index\n",
            "  positives_mask = torch.tensor(positives_mask_list)\n"
          ]
        },
        {
          "output_type": "stream",
          "name": "stdout",
          "text": [
            "inside triplet.py ['image', 'cloud', 'fusion', 'image_back']\n"
          ]
        },
        {
          "output_type": "stream",
          "name": "stderr",
          "text": [
            "\rtrain:  16%|█▌        | 14/90 [00:27<01:56,  1.53s/it]<ipython-input-13-fcc52b8a73d7>:88: DeprecationWarning: In future, it will be an error for 'np.bool_' scalars to be interpreted as an index\n",
            "  positives_mask = torch.tensor(positives_mask_list)\n"
          ]
        },
        {
          "output_type": "stream",
          "name": "stdout",
          "text": [
            "inside triplet.py ['image', 'cloud', 'fusion', 'image_back']\n"
          ]
        },
        {
          "output_type": "stream",
          "name": "stderr",
          "text": [
            "<ipython-input-13-fcc52b8a73d7>:88: DeprecationWarning: In future, it will be an error for 'np.bool_' scalars to be interpreted as an index\n",
            "  positives_mask = torch.tensor(positives_mask_list)\n",
            "train:  17%|█▋        | 15/90 [00:29<02:00,  1.61s/it]"
          ]
        },
        {
          "output_type": "stream",
          "name": "stdout",
          "text": [
            "inside triplet.py ['image', 'cloud', 'fusion', 'image_back']\n"
          ]
        },
        {
          "output_type": "stream",
          "name": "stderr",
          "text": [
            "\rtrain:  18%|█▊        | 16/90 [00:30<02:00,  1.63s/it]"
          ]
        },
        {
          "output_type": "stream",
          "name": "stdout",
          "text": [
            "inside triplet.py ['image', 'cloud', 'fusion', 'image_back']\n"
          ]
        },
        {
          "output_type": "stream",
          "name": "stderr",
          "text": [
            "\rtrain:  19%|█▉        | 17/90 [00:32<01:57,  1.61s/it]<ipython-input-13-fcc52b8a73d7>:88: DeprecationWarning: In future, it will be an error for 'np.bool_' scalars to be interpreted as an index\n",
            "  positives_mask = torch.tensor(positives_mask_list)\n"
          ]
        },
        {
          "output_type": "stream",
          "name": "stdout",
          "text": [
            "inside triplet.py ['image', 'cloud', 'fusion', 'image_back']\n"
          ]
        },
        {
          "output_type": "stream",
          "name": "stderr",
          "text": [
            "\rtrain:  20%|██        | 18/90 [00:33<01:48,  1.51s/it]"
          ]
        },
        {
          "output_type": "stream",
          "name": "stdout",
          "text": [
            "inside triplet.py ['image', 'cloud', 'fusion', 'image_back']\n"
          ]
        },
        {
          "output_type": "stream",
          "name": "stderr",
          "text": [
            "<ipython-input-13-fcc52b8a73d7>:88: DeprecationWarning: In future, it will be an error for 'np.bool_' scalars to be interpreted as an index\n",
            "  positives_mask = torch.tensor(positives_mask_list)\n",
            "train:  21%|██        | 19/90 [00:34<01:42,  1.45s/it]<ipython-input-13-fcc52b8a73d7>:88: DeprecationWarning: In future, it will be an error for 'np.bool_' scalars to be interpreted as an index\n",
            "  positives_mask = torch.tensor(positives_mask_list)\n"
          ]
        },
        {
          "output_type": "stream",
          "name": "stdout",
          "text": [
            "inside triplet.py ['image', 'cloud', 'fusion', 'image_back']\n"
          ]
        },
        {
          "output_type": "stream",
          "name": "stderr",
          "text": [
            "\rtrain:  22%|██▏       | 20/90 [00:36<01:40,  1.44s/it]<ipython-input-13-fcc52b8a73d7>:88: DeprecationWarning: In future, it will be an error for 'np.bool_' scalars to be interpreted as an index\n",
            "  positives_mask = torch.tensor(positives_mask_list)\n"
          ]
        },
        {
          "output_type": "stream",
          "name": "stdout",
          "text": [
            "inside triplet.py ['image', 'cloud', 'fusion', 'image_back']\n"
          ]
        },
        {
          "output_type": "stream",
          "name": "stderr",
          "text": [
            "\rtrain:  23%|██▎       | 21/90 [00:37<01:35,  1.39s/it]"
          ]
        },
        {
          "output_type": "stream",
          "name": "stdout",
          "text": [
            "inside triplet.py ['image', 'cloud', 'fusion', 'image_back']\n"
          ]
        },
        {
          "output_type": "stream",
          "name": "stderr",
          "text": [
            "<ipython-input-13-fcc52b8a73d7>:88: DeprecationWarning: In future, it will be an error for 'np.bool_' scalars to be interpreted as an index\n",
            "  positives_mask = torch.tensor(positives_mask_list)\n",
            "train:  24%|██▍       | 22/90 [00:38<01:26,  1.27s/it]"
          ]
        },
        {
          "output_type": "stream",
          "name": "stdout",
          "text": [
            "inside triplet.py ['image', 'cloud', 'fusion', 'image_back']\n"
          ]
        },
        {
          "output_type": "stream",
          "name": "stderr",
          "text": [
            "\rtrain:  26%|██▌       | 23/90 [00:39<01:16,  1.15s/it]<ipython-input-13-fcc52b8a73d7>:88: DeprecationWarning: In future, it will be an error for 'np.bool_' scalars to be interpreted as an index\n",
            "  positives_mask = torch.tensor(positives_mask_list)\n",
            "<ipython-input-13-fcc52b8a73d7>:88: DeprecationWarning: In future, it will be an error for 'np.bool_' scalars to be interpreted as an index\n",
            "  positives_mask = torch.tensor(positives_mask_list)\n"
          ]
        },
        {
          "output_type": "stream",
          "name": "stdout",
          "text": [
            "inside triplet.py ['image', 'cloud', 'fusion', 'image_back']\n"
          ]
        },
        {
          "output_type": "stream",
          "name": "stderr",
          "text": [
            "\rtrain:  27%|██▋       | 24/90 [00:41<01:25,  1.29s/it]"
          ]
        },
        {
          "output_type": "stream",
          "name": "stdout",
          "text": [
            "inside triplet.py ['image', 'cloud', 'fusion', 'image_back']\n"
          ]
        },
        {
          "output_type": "stream",
          "name": "stderr",
          "text": [
            "\rtrain:  28%|██▊       | 25/90 [00:42<01:21,  1.26s/it]<ipython-input-13-fcc52b8a73d7>:88: DeprecationWarning: In future, it will be an error for 'np.bool_' scalars to be interpreted as an index\n",
            "  positives_mask = torch.tensor(positives_mask_list)\n"
          ]
        },
        {
          "output_type": "stream",
          "name": "stdout",
          "text": [
            "inside triplet.py ['image', 'cloud', 'fusion', 'image_back']\n"
          ]
        },
        {
          "output_type": "stream",
          "name": "stderr",
          "text": [
            "<ipython-input-13-fcc52b8a73d7>:88: DeprecationWarning: In future, it will be an error for 'np.bool_' scalars to be interpreted as an index\n",
            "  positives_mask = torch.tensor(positives_mask_list)\n",
            "train:  29%|██▉       | 26/90 [00:44<01:33,  1.47s/it]"
          ]
        },
        {
          "output_type": "stream",
          "name": "stdout",
          "text": [
            "inside triplet.py ['image', 'cloud', 'fusion', 'image_back']\n"
          ]
        },
        {
          "output_type": "stream",
          "name": "stderr",
          "text": [
            "\rtrain:  30%|███       | 27/90 [00:45<01:31,  1.45s/it]<ipython-input-13-fcc52b8a73d7>:88: DeprecationWarning: In future, it will be an error for 'np.bool_' scalars to be interpreted as an index\n",
            "  positives_mask = torch.tensor(positives_mask_list)\n"
          ]
        },
        {
          "output_type": "stream",
          "name": "stdout",
          "text": [
            "inside triplet.py ['image', 'cloud', 'fusion', 'image_back']\n"
          ]
        },
        {
          "output_type": "stream",
          "name": "stderr",
          "text": [
            "<ipython-input-13-fcc52b8a73d7>:88: DeprecationWarning: In future, it will be an error for 'np.bool_' scalars to be interpreted as an index\n",
            "  positives_mask = torch.tensor(positives_mask_list)\n",
            "train:  31%|███       | 28/90 [00:47<01:37,  1.58s/it]"
          ]
        },
        {
          "output_type": "stream",
          "name": "stdout",
          "text": [
            "inside triplet.py ['image', 'cloud', 'fusion', 'image_back']\n"
          ]
        },
        {
          "output_type": "stream",
          "name": "stderr",
          "text": [
            "\rtrain:  32%|███▏      | 29/90 [00:48<01:26,  1.41s/it]<ipython-input-13-fcc52b8a73d7>:88: DeprecationWarning: In future, it will be an error for 'np.bool_' scalars to be interpreted as an index\n",
            "  positives_mask = torch.tensor(positives_mask_list)\n",
            "<ipython-input-13-fcc52b8a73d7>:88: DeprecationWarning: In future, it will be an error for 'np.bool_' scalars to be interpreted as an index\n",
            "  positives_mask = torch.tensor(positives_mask_list)\n"
          ]
        },
        {
          "output_type": "stream",
          "name": "stdout",
          "text": [
            "inside triplet.py ['image', 'cloud', 'fusion', 'image_back']\n"
          ]
        },
        {
          "output_type": "stream",
          "name": "stderr",
          "text": [
            "\rtrain:  33%|███▎      | 30/90 [00:50<01:27,  1.46s/it]"
          ]
        },
        {
          "output_type": "stream",
          "name": "stdout",
          "text": [
            "inside triplet.py ['image', 'cloud', 'fusion', 'image_back']\n"
          ]
        },
        {
          "output_type": "stream",
          "name": "stderr",
          "text": [
            "<ipython-input-13-fcc52b8a73d7>:88: DeprecationWarning: In future, it will be an error for 'np.bool_' scalars to be interpreted as an index\n",
            "  positives_mask = torch.tensor(positives_mask_list)\n",
            "train:  34%|███▍      | 31/90 [00:51<01:18,  1.34s/it]"
          ]
        },
        {
          "output_type": "stream",
          "name": "stdout",
          "text": [
            "inside triplet.py ['image', 'cloud', 'fusion', 'image_back']\n"
          ]
        },
        {
          "output_type": "stream",
          "name": "stderr",
          "text": [
            "<ipython-input-13-fcc52b8a73d7>:88: DeprecationWarning: In future, it will be an error for 'np.bool_' scalars to be interpreted as an index\n",
            "  positives_mask = torch.tensor(positives_mask_list)\n",
            "train:  36%|███▌      | 32/90 [00:52<01:11,  1.24s/it]"
          ]
        },
        {
          "output_type": "stream",
          "name": "stdout",
          "text": [
            "inside triplet.py ['image', 'cloud', 'fusion', 'image_back']\n"
          ]
        },
        {
          "output_type": "stream",
          "name": "stderr",
          "text": [
            "\rtrain:  37%|███▋      | 33/90 [00:53<01:07,  1.18s/it]<ipython-input-13-fcc52b8a73d7>:88: DeprecationWarning: In future, it will be an error for 'np.bool_' scalars to be interpreted as an index\n",
            "  positives_mask = torch.tensor(positives_mask_list)\n",
            "<ipython-input-13-fcc52b8a73d7>:88: DeprecationWarning: In future, it will be an error for 'np.bool_' scalars to be interpreted as an index\n",
            "  positives_mask = torch.tensor(positives_mask_list)\n",
            "<ipython-input-13-fcc52b8a73d7>:88: DeprecationWarning: In future, it will be an error for 'np.bool_' scalars to be interpreted as an index\n",
            "  positives_mask = torch.tensor(positives_mask_list)\n",
            "<ipython-input-13-fcc52b8a73d7>:88: DeprecationWarning: In future, it will be an error for 'np.bool_' scalars to be interpreted as an index\n",
            "  positives_mask = torch.tensor(positives_mask_list)\n"
          ]
        },
        {
          "output_type": "stream",
          "name": "stdout",
          "text": [
            "inside triplet.py ['image', 'cloud', 'fusion', 'image_back']\n"
          ]
        },
        {
          "output_type": "stream",
          "name": "stderr",
          "text": [
            "\rtrain:  38%|███▊      | 34/90 [00:55<01:29,  1.60s/it]"
          ]
        },
        {
          "output_type": "stream",
          "name": "stdout",
          "text": [
            "inside triplet.py ['image', 'cloud', 'fusion', 'image_back']\n"
          ]
        },
        {
          "output_type": "stream",
          "name": "stderr",
          "text": [
            "\rtrain:  39%|███▉      | 35/90 [00:56<01:17,  1.42s/it]"
          ]
        },
        {
          "output_type": "stream",
          "name": "stdout",
          "text": [
            "inside triplet.py ['image', 'cloud', 'fusion', 'image_back']\n"
          ]
        },
        {
          "output_type": "stream",
          "name": "stderr",
          "text": [
            "\rtrain:  40%|████      | 36/90 [00:57<01:07,  1.25s/it]<ipython-input-13-fcc52b8a73d7>:88: DeprecationWarning: In future, it will be an error for 'np.bool_' scalars to be interpreted as an index\n",
            "  positives_mask = torch.tensor(positives_mask_list)\n"
          ]
        },
        {
          "output_type": "stream",
          "name": "stdout",
          "text": [
            "inside triplet.py ['image', 'cloud', 'fusion', 'image_back']\n"
          ]
        },
        {
          "output_type": "stream",
          "name": "stderr",
          "text": [
            "\rtrain:  41%|████      | 37/90 [00:58<01:08,  1.29s/it]<ipython-input-13-fcc52b8a73d7>:88: DeprecationWarning: In future, it will be an error for 'np.bool_' scalars to be interpreted as an index\n",
            "  positives_mask = torch.tensor(positives_mask_list)\n",
            "<ipython-input-13-fcc52b8a73d7>:88: DeprecationWarning: In future, it will be an error for 'np.bool_' scalars to be interpreted as an index\n",
            "  positives_mask = torch.tensor(positives_mask_list)\n",
            "<ipython-input-13-fcc52b8a73d7>:88: DeprecationWarning: In future, it will be an error for 'np.bool_' scalars to be interpreted as an index\n",
            "  positives_mask = torch.tensor(positives_mask_list)\n"
          ]
        },
        {
          "output_type": "stream",
          "name": "stdout",
          "text": [
            "inside triplet.py ['image', 'cloud', 'fusion', 'image_back']\n"
          ]
        },
        {
          "output_type": "stream",
          "name": "stderr",
          "text": [
            "\rtrain:  42%|████▏     | 38/90 [01:01<01:31,  1.76s/it]"
          ]
        },
        {
          "output_type": "stream",
          "name": "stdout",
          "text": [
            "inside triplet.py ['image', 'cloud', 'fusion', 'image_back']\n"
          ]
        },
        {
          "output_type": "stream",
          "name": "stderr",
          "text": [
            "\rtrain:  43%|████▎     | 39/90 [01:03<01:25,  1.68s/it]"
          ]
        },
        {
          "output_type": "stream",
          "name": "stdout",
          "text": [
            "inside triplet.py ['image', 'cloud', 'fusion', 'image_back']\n"
          ]
        },
        {
          "output_type": "stream",
          "name": "stderr",
          "text": [
            "\rtrain:  44%|████▍     | 40/90 [01:04<01:20,  1.61s/it]"
          ]
        },
        {
          "output_type": "stream",
          "name": "stdout",
          "text": [
            "inside triplet.py ['image', 'cloud', 'fusion', 'image_back']\n"
          ]
        },
        {
          "output_type": "stream",
          "name": "stderr",
          "text": [
            "\rtrain:  46%|████▌     | 41/90 [01:05<01:12,  1.47s/it]<ipython-input-13-fcc52b8a73d7>:88: DeprecationWarning: In future, it will be an error for 'np.bool_' scalars to be interpreted as an index\n",
            "  positives_mask = torch.tensor(positives_mask_list)\n",
            "<ipython-input-13-fcc52b8a73d7>:88: DeprecationWarning: In future, it will be an error for 'np.bool_' scalars to be interpreted as an index\n",
            "  positives_mask = torch.tensor(positives_mask_list)\n",
            "<ipython-input-13-fcc52b8a73d7>:88: DeprecationWarning: In future, it will be an error for 'np.bool_' scalars to be interpreted as an index\n",
            "  positives_mask = torch.tensor(positives_mask_list)\n",
            "<ipython-input-13-fcc52b8a73d7>:88: DeprecationWarning: In future, it will be an error for 'np.bool_' scalars to be interpreted as an index\n",
            "  positives_mask = torch.tensor(positives_mask_list)\n"
          ]
        },
        {
          "output_type": "stream",
          "name": "stdout",
          "text": [
            "inside triplet.py ['image', 'cloud', 'fusion', 'image_back']\n"
          ]
        },
        {
          "output_type": "stream",
          "name": "stderr",
          "text": [
            "\rtrain:  47%|████▋     | 42/90 [01:09<01:47,  2.24s/it]"
          ]
        },
        {
          "output_type": "stream",
          "name": "stdout",
          "text": [
            "inside triplet.py ['image', 'cloud', 'fusion', 'image_back']\n"
          ]
        },
        {
          "output_type": "stream",
          "name": "stderr",
          "text": [
            "\rtrain:  48%|████▊     | 43/90 [01:11<01:29,  1.90s/it]"
          ]
        },
        {
          "output_type": "stream",
          "name": "stdout",
          "text": [
            "inside triplet.py ['image', 'cloud', 'fusion', 'image_back']\n"
          ]
        },
        {
          "output_type": "stream",
          "name": "stderr",
          "text": [
            "\rtrain:  49%|████▉     | 44/90 [01:12<01:15,  1.63s/it]"
          ]
        },
        {
          "output_type": "stream",
          "name": "stdout",
          "text": [
            "inside triplet.py ['image', 'cloud', 'fusion', 'image_back']\n"
          ]
        },
        {
          "output_type": "stream",
          "name": "stderr",
          "text": [
            "<ipython-input-13-fcc52b8a73d7>:88: DeprecationWarning: In future, it will be an error for 'np.bool_' scalars to be interpreted as an index\n",
            "  positives_mask = torch.tensor(positives_mask_list)\n",
            "train:  50%|█████     | 45/90 [01:13<01:08,  1.52s/it]<ipython-input-13-fcc52b8a73d7>:88: DeprecationWarning: In future, it will be an error for 'np.bool_' scalars to be interpreted as an index\n",
            "  positives_mask = torch.tensor(positives_mask_list)\n",
            "<ipython-input-13-fcc52b8a73d7>:88: DeprecationWarning: In future, it will be an error for 'np.bool_' scalars to be interpreted as an index\n",
            "  positives_mask = torch.tensor(positives_mask_list)\n",
            "<ipython-input-13-fcc52b8a73d7>:88: DeprecationWarning: In future, it will be an error for 'np.bool_' scalars to be interpreted as an index\n",
            "  positives_mask = torch.tensor(positives_mask_list)\n"
          ]
        },
        {
          "output_type": "stream",
          "name": "stdout",
          "text": [
            "inside triplet.py ['image', 'cloud', 'fusion', 'image_back']\n"
          ]
        },
        {
          "output_type": "stream",
          "name": "stderr",
          "text": [
            "\rtrain:  51%|█████     | 46/90 [01:16<01:26,  1.96s/it]"
          ]
        },
        {
          "output_type": "stream",
          "name": "stdout",
          "text": [
            "inside triplet.py ['image', 'cloud', 'fusion', 'image_back']\n"
          ]
        },
        {
          "output_type": "stream",
          "name": "stderr",
          "text": [
            "\rtrain:  52%|█████▏    | 47/90 [01:17<01:19,  1.86s/it]"
          ]
        },
        {
          "output_type": "stream",
          "name": "stdout",
          "text": [
            "inside triplet.py ['image', 'cloud', 'fusion', 'image_back']\n"
          ]
        },
        {
          "output_type": "stream",
          "name": "stderr",
          "text": [
            "\rtrain:  53%|█████▎    | 48/90 [01:19<01:12,  1.74s/it]"
          ]
        },
        {
          "output_type": "stream",
          "name": "stdout",
          "text": [
            "inside triplet.py ['image', 'cloud', 'fusion', 'image_back']\n"
          ]
        },
        {
          "output_type": "stream",
          "name": "stderr",
          "text": [
            "<ipython-input-13-fcc52b8a73d7>:88: DeprecationWarning: In future, it will be an error for 'np.bool_' scalars to be interpreted as an index\n",
            "  positives_mask = torch.tensor(positives_mask_list)\n",
            "train:  54%|█████▍    | 49/90 [01:20<01:06,  1.63s/it]<ipython-input-13-fcc52b8a73d7>:88: DeprecationWarning: In future, it will be an error for 'np.bool_' scalars to be interpreted as an index\n",
            "  positives_mask = torch.tensor(positives_mask_list)\n",
            "<ipython-input-13-fcc52b8a73d7>:88: DeprecationWarning: In future, it will be an error for 'np.bool_' scalars to be interpreted as an index\n",
            "  positives_mask = torch.tensor(positives_mask_list)\n",
            "<ipython-input-13-fcc52b8a73d7>:88: DeprecationWarning: In future, it will be an error for 'np.bool_' scalars to be interpreted as an index\n",
            "  positives_mask = torch.tensor(positives_mask_list)\n"
          ]
        },
        {
          "output_type": "stream",
          "name": "stdout",
          "text": [
            "inside triplet.py ['image', 'cloud', 'fusion', 'image_back']\n"
          ]
        },
        {
          "output_type": "stream",
          "name": "stderr",
          "text": [
            "\rtrain:  56%|█████▌    | 50/90 [01:23<01:19,  1.98s/it]"
          ]
        },
        {
          "output_type": "stream",
          "name": "stdout",
          "text": [
            "inside triplet.py ['image', 'cloud', 'fusion', 'image_back']\n"
          ]
        },
        {
          "output_type": "stream",
          "name": "stderr",
          "text": [
            "\rtrain:  57%|█████▋    | 51/90 [01:24<01:07,  1.73s/it]"
          ]
        },
        {
          "output_type": "stream",
          "name": "stdout",
          "text": [
            "inside triplet.py ['image', 'cloud', 'fusion', 'image_back']\n"
          ]
        },
        {
          "output_type": "stream",
          "name": "stderr",
          "text": [
            "\rtrain:  58%|█████▊    | 52/90 [01:25<00:59,  1.56s/it]<ipython-input-13-fcc52b8a73d7>:88: DeprecationWarning: In future, it will be an error for 'np.bool_' scalars to be interpreted as an index\n",
            "  positives_mask = torch.tensor(positives_mask_list)\n"
          ]
        },
        {
          "output_type": "stream",
          "name": "stdout",
          "text": [
            "inside triplet.py ['image', 'cloud', 'fusion', 'image_back']\n"
          ]
        },
        {
          "output_type": "stream",
          "name": "stderr",
          "text": [
            "\rtrain:  59%|█████▉    | 53/90 [01:26<00:51,  1.40s/it]<ipython-input-13-fcc52b8a73d7>:88: DeprecationWarning: In future, it will be an error for 'np.bool_' scalars to be interpreted as an index\n",
            "  positives_mask = torch.tensor(positives_mask_list)\n",
            "<ipython-input-13-fcc52b8a73d7>:88: DeprecationWarning: In future, it will be an error for 'np.bool_' scalars to be interpreted as an index\n",
            "  positives_mask = torch.tensor(positives_mask_list)\n"
          ]
        },
        {
          "output_type": "stream",
          "name": "stdout",
          "text": [
            "inside triplet.py ['image', 'cloud', 'fusion', 'image_back']\n"
          ]
        },
        {
          "output_type": "stream",
          "name": "stderr",
          "text": [
            "<ipython-input-13-fcc52b8a73d7>:88: DeprecationWarning: In future, it will be an error for 'np.bool_' scalars to be interpreted as an index\n",
            "  positives_mask = torch.tensor(positives_mask_list)\n",
            "train:  60%|██████    | 54/90 [01:28<00:51,  1.44s/it]"
          ]
        },
        {
          "output_type": "stream",
          "name": "stdout",
          "text": [
            "inside triplet.py ['image', 'cloud', 'fusion', 'image_back']\n"
          ]
        },
        {
          "output_type": "stream",
          "name": "stderr",
          "text": [
            "\rtrain:  61%|██████    | 55/90 [01:29<00:45,  1.29s/it]"
          ]
        },
        {
          "output_type": "stream",
          "name": "stdout",
          "text": [
            "inside triplet.py ['image', 'cloud', 'fusion', 'image_back']\n"
          ]
        },
        {
          "output_type": "stream",
          "name": "stderr",
          "text": [
            "\rtrain:  62%|██████▏   | 56/90 [01:30<00:40,  1.19s/it]<ipython-input-13-fcc52b8a73d7>:88: DeprecationWarning: In future, it will be an error for 'np.bool_' scalars to be interpreted as an index\n",
            "  positives_mask = torch.tensor(positives_mask_list)\n"
          ]
        },
        {
          "output_type": "stream",
          "name": "stdout",
          "text": [
            "inside triplet.py ['image', 'cloud', 'fusion', 'image_back']\n"
          ]
        },
        {
          "output_type": "stream",
          "name": "stderr",
          "text": [
            "\rtrain:  63%|██████▎   | 57/90 [01:31<00:40,  1.23s/it]<ipython-input-13-fcc52b8a73d7>:88: DeprecationWarning: In future, it will be an error for 'np.bool_' scalars to be interpreted as an index\n",
            "  positives_mask = torch.tensor(positives_mask_list)\n",
            "<ipython-input-13-fcc52b8a73d7>:88: DeprecationWarning: In future, it will be an error for 'np.bool_' scalars to be interpreted as an index\n",
            "  positives_mask = torch.tensor(positives_mask_list)\n"
          ]
        },
        {
          "output_type": "stream",
          "name": "stdout",
          "text": [
            "inside triplet.py ['image', 'cloud', 'fusion', 'image_back']\n"
          ]
        },
        {
          "output_type": "stream",
          "name": "stderr",
          "text": [
            "\rtrain:  64%|██████▍   | 58/90 [01:35<01:08,  2.16s/it]<ipython-input-13-fcc52b8a73d7>:88: DeprecationWarning: In future, it will be an error for 'np.bool_' scalars to be interpreted as an index\n",
            "  positives_mask = torch.tensor(positives_mask_list)\n"
          ]
        },
        {
          "output_type": "stream",
          "name": "stdout",
          "text": [
            "inside triplet.py ['image', 'cloud', 'fusion', 'image_back']\n"
          ]
        },
        {
          "output_type": "stream",
          "name": "stderr",
          "text": [
            "\rtrain:  66%|██████▌   | 59/90 [01:37<01:00,  1.96s/it]<ipython-input-13-fcc52b8a73d7>:88: DeprecationWarning: In future, it will be an error for 'np.bool_' scalars to be interpreted as an index\n",
            "  positives_mask = torch.tensor(positives_mask_list)\n"
          ]
        },
        {
          "output_type": "stream",
          "name": "stdout",
          "text": [
            "inside triplet.py ['image', 'cloud', 'fusion', 'image_back']\n"
          ]
        },
        {
          "output_type": "stream",
          "name": "stderr",
          "text": [
            "\rtrain:  67%|██████▋   | 60/90 [01:38<00:50,  1.69s/it]"
          ]
        },
        {
          "output_type": "stream",
          "name": "stdout",
          "text": [
            "inside triplet.py ['image', 'cloud', 'fusion', 'image_back']\n"
          ]
        },
        {
          "output_type": "stream",
          "name": "stderr",
          "text": [
            "\rtrain:  68%|██████▊   | 61/90 [01:39<00:41,  1.45s/it]<ipython-input-13-fcc52b8a73d7>:88: DeprecationWarning: In future, it will be an error for 'np.bool_' scalars to be interpreted as an index\n",
            "  positives_mask = torch.tensor(positives_mask_list)\n",
            "<ipython-input-13-fcc52b8a73d7>:88: DeprecationWarning: In future, it will be an error for 'np.bool_' scalars to be interpreted as an index\n",
            "  positives_mask = torch.tensor(positives_mask_list)\n"
          ]
        },
        {
          "output_type": "stream",
          "name": "stdout",
          "text": [
            "inside triplet.py ['image', 'cloud', 'fusion', 'image_back']\n"
          ]
        },
        {
          "output_type": "stream",
          "name": "stderr",
          "text": [
            "\rtrain:  69%|██████▉   | 62/90 [01:40<00:41,  1.47s/it]<ipython-input-13-fcc52b8a73d7>:88: DeprecationWarning: In future, it will be an error for 'np.bool_' scalars to be interpreted as an index\n",
            "  positives_mask = torch.tensor(positives_mask_list)\n"
          ]
        },
        {
          "output_type": "stream",
          "name": "stdout",
          "text": [
            "inside triplet.py ['image', 'cloud', 'fusion', 'image_back']\n"
          ]
        },
        {
          "output_type": "stream",
          "name": "stderr",
          "text": [
            "\rtrain:  70%|███████   | 63/90 [01:42<00:38,  1.43s/it]<ipython-input-13-fcc52b8a73d7>:88: DeprecationWarning: In future, it will be an error for 'np.bool_' scalars to be interpreted as an index\n",
            "  positives_mask = torch.tensor(positives_mask_list)\n"
          ]
        },
        {
          "output_type": "stream",
          "name": "stdout",
          "text": [
            "inside triplet.py ['image', 'cloud', 'fusion', 'image_back']\n"
          ]
        },
        {
          "output_type": "stream",
          "name": "stderr",
          "text": [
            "\rtrain:  71%|███████   | 64/90 [01:43<00:33,  1.29s/it]<ipython-input-13-fcc52b8a73d7>:88: DeprecationWarning: In future, it will be an error for 'np.bool_' scalars to be interpreted as an index\n",
            "  positives_mask = torch.tensor(positives_mask_list)\n"
          ]
        },
        {
          "output_type": "stream",
          "name": "stdout",
          "text": [
            "inside triplet.py ['image', 'cloud', 'fusion', 'image_back']\n"
          ]
        },
        {
          "output_type": "stream",
          "name": "stderr",
          "text": [
            "\rtrain:  72%|███████▏  | 65/90 [01:44<00:29,  1.18s/it]"
          ]
        },
        {
          "output_type": "stream",
          "name": "stdout",
          "text": [
            "inside triplet.py ['image', 'cloud', 'fusion', 'image_back']\n"
          ]
        },
        {
          "output_type": "stream",
          "name": "stderr",
          "text": [
            "\rtrain:  73%|███████▎  | 66/90 [01:45<00:26,  1.09s/it]<ipython-input-13-fcc52b8a73d7>:88: DeprecationWarning: In future, it will be an error for 'np.bool_' scalars to be interpreted as an index\n",
            "  positives_mask = torch.tensor(positives_mask_list)\n",
            "<ipython-input-13-fcc52b8a73d7>:88: DeprecationWarning: In future, it will be an error for 'np.bool_' scalars to be interpreted as an index\n",
            "  positives_mask = torch.tensor(positives_mask_list)\n"
          ]
        },
        {
          "output_type": "stream",
          "name": "stdout",
          "text": [
            "inside triplet.py ['image', 'cloud', 'fusion', 'image_back']\n"
          ]
        },
        {
          "output_type": "stream",
          "name": "stderr",
          "text": [
            "\rtrain:  74%|███████▍  | 67/90 [01:46<00:25,  1.13s/it]"
          ]
        },
        {
          "output_type": "stream",
          "name": "stdout",
          "text": [
            "inside triplet.py ['image', 'cloud', 'fusion', 'image_back']\n"
          ]
        },
        {
          "output_type": "stream",
          "name": "stderr",
          "text": [
            "<ipython-input-13-fcc52b8a73d7>:88: DeprecationWarning: In future, it will be an error for 'np.bool_' scalars to be interpreted as an index\n",
            "  positives_mask = torch.tensor(positives_mask_list)\n",
            "<ipython-input-13-fcc52b8a73d7>:88: DeprecationWarning: In future, it will be an error for 'np.bool_' scalars to be interpreted as an index\n",
            "  positives_mask = torch.tensor(positives_mask_list)\n",
            "train:  76%|███████▌  | 68/90 [01:47<00:24,  1.11s/it]"
          ]
        },
        {
          "output_type": "stream",
          "name": "stdout",
          "text": [
            "inside triplet.py ['image', 'cloud', 'fusion', 'image_back']\n"
          ]
        },
        {
          "output_type": "stream",
          "name": "stderr",
          "text": [
            "\rtrain:  77%|███████▋  | 69/90 [01:48<00:24,  1.15s/it]"
          ]
        },
        {
          "output_type": "stream",
          "name": "stdout",
          "text": [
            "inside triplet.py ['image', 'cloud', 'fusion', 'image_back']\n"
          ]
        },
        {
          "output_type": "stream",
          "name": "stderr",
          "text": [
            "\rtrain:  78%|███████▊  | 70/90 [01:49<00:24,  1.20s/it]<ipython-input-13-fcc52b8a73d7>:88: DeprecationWarning: In future, it will be an error for 'np.bool_' scalars to be interpreted as an index\n",
            "  positives_mask = torch.tensor(positives_mask_list)\n"
          ]
        },
        {
          "output_type": "stream",
          "name": "stdout",
          "text": [
            "inside triplet.py ['image', 'cloud', 'fusion', 'image_back']\n"
          ]
        },
        {
          "output_type": "stream",
          "name": "stderr",
          "text": [
            "\rtrain:  79%|███████▉  | 71/90 [01:52<00:28,  1.49s/it]"
          ]
        },
        {
          "output_type": "stream",
          "name": "stdout",
          "text": [
            "inside triplet.py ['image', 'cloud', 'fusion', 'image_back']\n"
          ]
        },
        {
          "output_type": "stream",
          "name": "stderr",
          "text": [
            "<ipython-input-13-fcc52b8a73d7>:88: DeprecationWarning: In future, it will be an error for 'np.bool_' scalars to be interpreted as an index\n",
            "  positives_mask = torch.tensor(positives_mask_list)\n",
            "train:  80%|████████  | 72/90 [01:53<00:24,  1.37s/it]<ipython-input-13-fcc52b8a73d7>:88: DeprecationWarning: In future, it will be an error for 'np.bool_' scalars to be interpreted as an index\n",
            "  positives_mask = torch.tensor(positives_mask_list)\n",
            "<ipython-input-13-fcc52b8a73d7>:88: DeprecationWarning: In future, it will be an error for 'np.bool_' scalars to be interpreted as an index\n",
            "  positives_mask = torch.tensor(positives_mask_list)\n"
          ]
        },
        {
          "output_type": "stream",
          "name": "stdout",
          "text": [
            "inside triplet.py ['image', 'cloud', 'fusion', 'image_back']\n"
          ]
        },
        {
          "output_type": "stream",
          "name": "stderr",
          "text": [
            "\rtrain:  81%|████████  | 73/90 [01:55<00:26,  1.55s/it]"
          ]
        },
        {
          "output_type": "stream",
          "name": "stdout",
          "text": [
            "inside triplet.py ['image', 'cloud', 'fusion', 'image_back']\n"
          ]
        },
        {
          "output_type": "stream",
          "name": "stderr",
          "text": [
            "<ipython-input-13-fcc52b8a73d7>:88: DeprecationWarning: In future, it will be an error for 'np.bool_' scalars to be interpreted as an index\n",
            "  positives_mask = torch.tensor(positives_mask_list)\n",
            "train:  82%|████████▏ | 74/90 [01:56<00:22,  1.40s/it]"
          ]
        },
        {
          "output_type": "stream",
          "name": "stdout",
          "text": [
            "inside triplet.py ['image', 'cloud', 'fusion', 'image_back']\n"
          ]
        },
        {
          "output_type": "stream",
          "name": "stderr",
          "text": [
            "\rtrain:  83%|████████▎ | 75/90 [01:57<00:18,  1.26s/it]<ipython-input-13-fcc52b8a73d7>:88: DeprecationWarning: In future, it will be an error for 'np.bool_' scalars to be interpreted as an index\n",
            "  positives_mask = torch.tensor(positives_mask_list)\n"
          ]
        },
        {
          "output_type": "stream",
          "name": "stdout",
          "text": [
            "inside triplet.py ['image', 'cloud', 'fusion', 'image_back']\n"
          ]
        },
        {
          "output_type": "stream",
          "name": "stderr",
          "text": [
            "<ipython-input-13-fcc52b8a73d7>:88: DeprecationWarning: In future, it will be an error for 'np.bool_' scalars to be interpreted as an index\n",
            "  positives_mask = torch.tensor(positives_mask_list)\n",
            "train:  84%|████████▍ | 76/90 [01:58<00:17,  1.23s/it]<ipython-input-13-fcc52b8a73d7>:88: DeprecationWarning: In future, it will be an error for 'np.bool_' scalars to be interpreted as an index\n",
            "  positives_mask = torch.tensor(positives_mask_list)\n"
          ]
        },
        {
          "output_type": "stream",
          "name": "stdout",
          "text": [
            "inside triplet.py ['image', 'cloud', 'fusion', 'image_back']\n"
          ]
        },
        {
          "output_type": "stream",
          "name": "stderr",
          "text": [
            "\rtrain:  86%|████████▌ | 77/90 [02:00<00:18,  1.39s/it]"
          ]
        },
        {
          "output_type": "stream",
          "name": "stdout",
          "text": [
            "inside triplet.py ['image', 'cloud', 'fusion', 'image_back']\n"
          ]
        },
        {
          "output_type": "stream",
          "name": "stderr",
          "text": [
            "\rtrain:  87%|████████▋ | 78/90 [02:00<00:14,  1.23s/it]<ipython-input-13-fcc52b8a73d7>:88: DeprecationWarning: In future, it will be an error for 'np.bool_' scalars to be interpreted as an index\n",
            "  positives_mask = torch.tensor(positives_mask_list)\n",
            "<ipython-input-13-fcc52b8a73d7>:88: DeprecationWarning: In future, it will be an error for 'np.bool_' scalars to be interpreted as an index\n",
            "  positives_mask = torch.tensor(positives_mask_list)\n"
          ]
        },
        {
          "output_type": "stream",
          "name": "stdout",
          "text": [
            "inside triplet.py ['image', 'cloud', 'fusion', 'image_back']\n"
          ]
        },
        {
          "output_type": "stream",
          "name": "stderr",
          "text": [
            "\rtrain:  88%|████████▊ | 79/90 [02:02<00:13,  1.23s/it]"
          ]
        },
        {
          "output_type": "stream",
          "name": "stdout",
          "text": [
            "inside triplet.py ['image', 'cloud', 'fusion', 'image_back']\n"
          ]
        },
        {
          "output_type": "stream",
          "name": "stderr",
          "text": [
            "\rtrain:  89%|████████▉ | 80/90 [02:02<00:10,  1.10s/it]<ipython-input-13-fcc52b8a73d7>:88: DeprecationWarning: In future, it will be an error for 'np.bool_' scalars to be interpreted as an index\n",
            "  positives_mask = torch.tensor(positives_mask_list)\n",
            "<ipython-input-13-fcc52b8a73d7>:88: DeprecationWarning: In future, it will be an error for 'np.bool_' scalars to be interpreted as an index\n",
            "  positives_mask = torch.tensor(positives_mask_list)\n"
          ]
        },
        {
          "output_type": "stream",
          "name": "stdout",
          "text": [
            "inside triplet.py ['image', 'cloud', 'fusion', 'image_back']\n"
          ]
        },
        {
          "output_type": "stream",
          "name": "stderr",
          "text": [
            "\rtrain:  90%|█████████ | 81/90 [02:05<00:13,  1.45s/it]"
          ]
        },
        {
          "output_type": "stream",
          "name": "stdout",
          "text": [
            "inside triplet.py ['image', 'cloud', 'fusion', 'image_back']\n"
          ]
        },
        {
          "output_type": "stream",
          "name": "stderr",
          "text": [
            "\rtrain:  91%|█████████ | 82/90 [02:06<00:11,  1.46s/it]<ipython-input-13-fcc52b8a73d7>:88: DeprecationWarning: In future, it will be an error for 'np.bool_' scalars to be interpreted as an index\n",
            "  positives_mask = torch.tensor(positives_mask_list)\n"
          ]
        },
        {
          "output_type": "stream",
          "name": "stdout",
          "text": [
            "inside triplet.py ['image', 'cloud', 'fusion', 'image_back']\n"
          ]
        },
        {
          "output_type": "stream",
          "name": "stderr",
          "text": [
            "<ipython-input-13-fcc52b8a73d7>:88: DeprecationWarning: In future, it will be an error for 'np.bool_' scalars to be interpreted as an index\n",
            "  positives_mask = torch.tensor(positives_mask_list)\n",
            "train:  92%|█████████▏| 83/90 [02:08<00:11,  1.69s/it]"
          ]
        },
        {
          "output_type": "stream",
          "name": "stdout",
          "text": [
            "inside triplet.py ['image', 'cloud', 'fusion', 'image_back']\n"
          ]
        },
        {
          "output_type": "stream",
          "name": "stderr",
          "text": [
            "\rtrain:  93%|█████████▎| 84/90 [02:09<00:09,  1.51s/it]<ipython-input-13-fcc52b8a73d7>:88: DeprecationWarning: In future, it will be an error for 'np.bool_' scalars to be interpreted as an index\n",
            "  positives_mask = torch.tensor(positives_mask_list)\n",
            "<ipython-input-13-fcc52b8a73d7>:88: DeprecationWarning: In future, it will be an error for 'np.bool_' scalars to be interpreted as an index\n",
            "  positives_mask = torch.tensor(positives_mask_list)\n"
          ]
        },
        {
          "output_type": "stream",
          "name": "stdout",
          "text": [
            "inside triplet.py ['image', 'cloud', 'fusion', 'image_back']\n"
          ]
        },
        {
          "output_type": "stream",
          "name": "stderr",
          "text": [
            "\rtrain:  94%|█████████▍| 85/90 [02:11<00:07,  1.49s/it]"
          ]
        },
        {
          "output_type": "stream",
          "name": "stdout",
          "text": [
            "inside triplet.py ['image', 'cloud', 'fusion', 'image_back']\n"
          ]
        },
        {
          "output_type": "stream",
          "name": "stderr",
          "text": [
            "\rtrain:  96%|█████████▌| 86/90 [02:12<00:04,  1.24s/it]<ipython-input-13-fcc52b8a73d7>:88: DeprecationWarning: In future, it will be an error for 'np.bool_' scalars to be interpreted as an index\n",
            "  positives_mask = torch.tensor(positives_mask_list)\n",
            "<ipython-input-13-fcc52b8a73d7>:88: DeprecationWarning: In future, it will be an error for 'np.bool_' scalars to be interpreted as an index\n",
            "  positives_mask = torch.tensor(positives_mask_list)\n",
            "<ipython-input-13-fcc52b8a73d7>:88: DeprecationWarning: In future, it will be an error for 'np.bool_' scalars to be interpreted as an index\n",
            "  positives_mask = torch.tensor(positives_mask_list)\n"
          ]
        },
        {
          "output_type": "stream",
          "name": "stdout",
          "text": [
            "inside triplet.py ['image', 'cloud', 'fusion', 'image_back']\n"
          ]
        },
        {
          "output_type": "stream",
          "name": "stderr",
          "text": [
            "\rtrain:  97%|█████████▋| 87/90 [02:13<00:03,  1.32s/it]"
          ]
        },
        {
          "output_type": "stream",
          "name": "stdout",
          "text": [
            "inside triplet.py ['image', 'cloud', 'fusion', 'image_back']\n"
          ]
        },
        {
          "output_type": "stream",
          "name": "stderr",
          "text": [
            "\rtrain:  98%|█████████▊| 88/90 [02:14<00:02,  1.07s/it]"
          ]
        },
        {
          "output_type": "stream",
          "name": "stdout",
          "text": [
            "inside triplet.py ['image', 'cloud', 'fusion', 'image_back']\n"
          ]
        },
        {
          "output_type": "stream",
          "name": "stderr",
          "text": [
            "\rtrain:  99%|█████████▉| 89/90 [02:14<00:00,  1.11it/s]"
          ]
        },
        {
          "output_type": "stream",
          "name": "stdout",
          "text": [
            "inside triplet.py ['image', 'cloud', 'fusion', 'image_back']\n"
          ]
        },
        {
          "output_type": "stream",
          "name": "stderr",
          "text": [
            "train: 100%|██████████| 90/90 [02:15<00:00,  1.50s/it]"
          ]
        },
        {
          "output_type": "stream",
          "name": "stdout",
          "text": [
            "\n",
            "@@@@@@@@@@@@@@@@@@@@@@@@\n",
            "train_rate_non_zero = 0.9984126984126984\n",
            "\n",
            "=> Validating:\n",
            "\n"
          ]
        },
        {
          "output_type": "stream",
          "name": "stderr",
          "text": [
            "\n",
            "val:   0%|          | 0/33 [00:00<?, ?it/s]<ipython-input-13-fcc52b8a73d7>:88: DeprecationWarning: In future, it will be an error for 'np.bool_' scalars to be interpreted as an index\n",
            "  positives_mask = torch.tensor(positives_mask_list)\n",
            "<ipython-input-13-fcc52b8a73d7>:88: DeprecationWarning: In future, it will be an error for 'np.bool_' scalars to be interpreted as an index\n",
            "  positives_mask = torch.tensor(positives_mask_list)\n",
            "<ipython-input-13-fcc52b8a73d7>:88: DeprecationWarning: In future, it will be an error for 'np.bool_' scalars to be interpreted as an index\n",
            "  positives_mask = torch.tensor(positives_mask_list)\n",
            "<ipython-input-13-fcc52b8a73d7>:88: DeprecationWarning: In future, it will be an error for 'np.bool_' scalars to be interpreted as an index\n",
            "  positives_mask = torch.tensor(positives_mask_list)\n",
            "val:   3%|▎         | 1/33 [00:03<01:37,  3.04s/it]"
          ]
        },
        {
          "output_type": "stream",
          "name": "stdout",
          "text": [
            "inside triplet.py ['image', 'cloud', 'fusion', 'image_back']\n"
          ]
        },
        {
          "output_type": "stream",
          "name": "stderr",
          "text": [
            "\rval:   6%|▌         | 2/33 [00:03<00:47,  1.52s/it]"
          ]
        },
        {
          "output_type": "stream",
          "name": "stdout",
          "text": [
            "inside triplet.py ['image', 'cloud', 'fusion', 'image_back']\n"
          ]
        },
        {
          "output_type": "stream",
          "name": "stderr",
          "text": [
            "\rval:   9%|▉         | 3/33 [00:03<00:30,  1.01s/it]"
          ]
        },
        {
          "output_type": "stream",
          "name": "stdout",
          "text": [
            "inside triplet.py ['image', 'cloud', 'fusion', 'image_back']\n"
          ]
        },
        {
          "output_type": "stream",
          "name": "stderr",
          "text": [
            "\rval:  12%|█▏        | 4/33 [00:04<00:21,  1.32it/s]"
          ]
        },
        {
          "output_type": "stream",
          "name": "stdout",
          "text": [
            "inside triplet.py ['image', 'cloud', 'fusion', 'image_back']\n"
          ]
        },
        {
          "output_type": "stream",
          "name": "stderr",
          "text": [
            "<ipython-input-13-fcc52b8a73d7>:88: DeprecationWarning: In future, it will be an error for 'np.bool_' scalars to be interpreted as an index\n",
            "  positives_mask = torch.tensor(positives_mask_list)\n",
            "<ipython-input-13-fcc52b8a73d7>:88: DeprecationWarning: In future, it will be an error for 'np.bool_' scalars to be interpreted as an index\n",
            "  positives_mask = torch.tensor(positives_mask_list)\n",
            "<ipython-input-13-fcc52b8a73d7>:88: DeprecationWarning: In future, it will be an error for 'np.bool_' scalars to be interpreted as an index\n",
            "  positives_mask = torch.tensor(positives_mask_list)\n",
            "<ipython-input-13-fcc52b8a73d7>:88: DeprecationWarning: In future, it will be an error for 'np.bool_' scalars to be interpreted as an index\n",
            "  positives_mask = torch.tensor(positives_mask_list)\n",
            "val:  15%|█▌        | 5/33 [00:05<00:30,  1.08s/it]"
          ]
        },
        {
          "output_type": "stream",
          "name": "stdout",
          "text": [
            "inside triplet.py ['image', 'cloud', 'fusion', 'image_back']\n"
          ]
        },
        {
          "output_type": "stream",
          "name": "stderr",
          "text": [
            "\rval:  18%|█▊        | 6/33 [00:06<00:23,  1.14it/s]"
          ]
        },
        {
          "output_type": "stream",
          "name": "stdout",
          "text": [
            "inside triplet.py ['image', 'cloud', 'fusion', 'image_back']\n"
          ]
        },
        {
          "output_type": "stream",
          "name": "stderr",
          "text": [
            "\rval:  21%|██        | 7/33 [00:06<00:19,  1.35it/s]"
          ]
        },
        {
          "output_type": "stream",
          "name": "stdout",
          "text": [
            "inside triplet.py ['image', 'cloud', 'fusion', 'image_back']\n"
          ]
        },
        {
          "output_type": "stream",
          "name": "stderr",
          "text": [
            "\rval:  24%|██▍       | 8/33 [00:07<00:16,  1.49it/s]"
          ]
        },
        {
          "output_type": "stream",
          "name": "stdout",
          "text": [
            "inside triplet.py ['image', 'cloud', 'fusion', 'image_back']\n"
          ]
        },
        {
          "output_type": "stream",
          "name": "stderr",
          "text": [
            "<ipython-input-13-fcc52b8a73d7>:88: DeprecationWarning: In future, it will be an error for 'np.bool_' scalars to be interpreted as an index\n",
            "  positives_mask = torch.tensor(positives_mask_list)\n",
            "<ipython-input-13-fcc52b8a73d7>:88: DeprecationWarning: In future, it will be an error for 'np.bool_' scalars to be interpreted as an index\n",
            "  positives_mask = torch.tensor(positives_mask_list)\n",
            "<ipython-input-13-fcc52b8a73d7>:88: DeprecationWarning: In future, it will be an error for 'np.bool_' scalars to be interpreted as an index\n",
            "  positives_mask = torch.tensor(positives_mask_list)\n",
            "<ipython-input-13-fcc52b8a73d7>:88: DeprecationWarning: In future, it will be an error for 'np.bool_' scalars to be interpreted as an index\n",
            "  positives_mask = torch.tensor(positives_mask_list)\n",
            "val:  27%|██▋       | 9/33 [00:10<00:34,  1.45s/it]"
          ]
        },
        {
          "output_type": "stream",
          "name": "stdout",
          "text": [
            "inside triplet.py ['image', 'cloud', 'fusion', 'image_back']\n"
          ]
        },
        {
          "output_type": "stream",
          "name": "stderr",
          "text": [
            "\rval:  30%|███       | 10/33 [00:11<00:27,  1.17s/it]"
          ]
        },
        {
          "output_type": "stream",
          "name": "stdout",
          "text": [
            "inside triplet.py ['image', 'cloud', 'fusion', 'image_back']\n"
          ]
        },
        {
          "output_type": "stream",
          "name": "stderr",
          "text": [
            "\rval:  33%|███▎      | 11/33 [00:11<00:20,  1.05it/s]"
          ]
        },
        {
          "output_type": "stream",
          "name": "stdout",
          "text": [
            "inside triplet.py ['image', 'cloud', 'fusion', 'image_back']\n"
          ]
        },
        {
          "output_type": "stream",
          "name": "stderr",
          "text": [
            "<ipython-input-13-fcc52b8a73d7>:88: DeprecationWarning: In future, it will be an error for 'np.bool_' scalars to be interpreted as an index\n",
            "  positives_mask = torch.tensor(positives_mask_list)\n",
            "val:  36%|███▋      | 12/33 [00:12<00:17,  1.20it/s]"
          ]
        },
        {
          "output_type": "stream",
          "name": "stdout",
          "text": [
            "inside triplet.py ['image', 'cloud', 'fusion', 'image_back']\n"
          ]
        },
        {
          "output_type": "stream",
          "name": "stderr",
          "text": [
            "<ipython-input-13-fcc52b8a73d7>:88: DeprecationWarning: In future, it will be an error for 'np.bool_' scalars to be interpreted as an index\n",
            "  positives_mask = torch.tensor(positives_mask_list)\n",
            "<ipython-input-13-fcc52b8a73d7>:88: DeprecationWarning: In future, it will be an error for 'np.bool_' scalars to be interpreted as an index\n",
            "  positives_mask = torch.tensor(positives_mask_list)\n",
            "<ipython-input-13-fcc52b8a73d7>:88: DeprecationWarning: In future, it will be an error for 'np.bool_' scalars to be interpreted as an index\n",
            "  positives_mask = torch.tensor(positives_mask_list)\n",
            "val:  39%|███▉      | 13/33 [00:13<00:22,  1.11s/it]"
          ]
        },
        {
          "output_type": "stream",
          "name": "stdout",
          "text": [
            "inside triplet.py ['image', 'cloud', 'fusion', 'image_back']\n"
          ]
        },
        {
          "output_type": "stream",
          "name": "stderr",
          "text": [
            "\rval:  42%|████▏     | 14/33 [00:14<00:16,  1.15it/s]"
          ]
        },
        {
          "output_type": "stream",
          "name": "stdout",
          "text": [
            "inside triplet.py ['image', 'cloud', 'fusion', 'image_back']\n"
          ]
        },
        {
          "output_type": "stream",
          "name": "stderr",
          "text": [
            "\rval:  45%|████▌     | 15/33 [00:14<00:12,  1.40it/s]"
          ]
        },
        {
          "output_type": "stream",
          "name": "stdout",
          "text": [
            "inside triplet.py ['image', 'cloud', 'fusion', 'image_back']\n"
          ]
        },
        {
          "output_type": "stream",
          "name": "stderr",
          "text": [
            "<ipython-input-13-fcc52b8a73d7>:88: DeprecationWarning: In future, it will be an error for 'np.bool_' scalars to be interpreted as an index\n",
            "  positives_mask = torch.tensor(positives_mask_list)\n",
            "val:  48%|████▊     | 16/33 [00:15<00:10,  1.57it/s]<ipython-input-13-fcc52b8a73d7>:88: DeprecationWarning: In future, it will be an error for 'np.bool_' scalars to be interpreted as an index\n",
            "  positives_mask = torch.tensor(positives_mask_list)\n"
          ]
        },
        {
          "output_type": "stream",
          "name": "stdout",
          "text": [
            "inside triplet.py ['image', 'cloud', 'fusion', 'image_back']\n"
          ]
        },
        {
          "output_type": "stream",
          "name": "stderr",
          "text": [
            "<ipython-input-13-fcc52b8a73d7>:88: DeprecationWarning: In future, it will be an error for 'np.bool_' scalars to be interpreted as an index\n",
            "  positives_mask = torch.tensor(positives_mask_list)\n",
            "<ipython-input-13-fcc52b8a73d7>:88: DeprecationWarning: In future, it will be an error for 'np.bool_' scalars to be interpreted as an index\n",
            "  positives_mask = torch.tensor(positives_mask_list)\n",
            "val:  52%|█████▏    | 17/33 [00:16<00:15,  1.03it/s]"
          ]
        },
        {
          "output_type": "stream",
          "name": "stdout",
          "text": [
            "inside triplet.py ['image', 'cloud', 'fusion', 'image_back']\n"
          ]
        },
        {
          "output_type": "stream",
          "name": "stderr",
          "text": [
            "\rval:  55%|█████▍    | 18/33 [00:17<00:11,  1.28it/s]"
          ]
        },
        {
          "output_type": "stream",
          "name": "stdout",
          "text": [
            "inside triplet.py ['image', 'cloud', 'fusion', 'image_back']\n"
          ]
        },
        {
          "output_type": "stream",
          "name": "stderr",
          "text": [
            "\rval:  58%|█████▊    | 19/33 [00:17<00:08,  1.62it/s]"
          ]
        },
        {
          "output_type": "stream",
          "name": "stdout",
          "text": [
            "inside triplet.py ['image', 'cloud', 'fusion', 'image_back']\n"
          ]
        },
        {
          "output_type": "stream",
          "name": "stderr",
          "text": [
            "<ipython-input-13-fcc52b8a73d7>:88: DeprecationWarning: In future, it will be an error for 'np.bool_' scalars to be interpreted as an index\n",
            "  positives_mask = torch.tensor(positives_mask_list)\n",
            "val:  61%|██████    | 20/33 [00:17<00:06,  1.93it/s]"
          ]
        },
        {
          "output_type": "stream",
          "name": "stdout",
          "text": [
            "inside triplet.py ['image', 'cloud', 'fusion', 'image_back']\n"
          ]
        },
        {
          "output_type": "stream",
          "name": "stderr",
          "text": [
            "<ipython-input-13-fcc52b8a73d7>:88: DeprecationWarning: In future, it will be an error for 'np.bool_' scalars to be interpreted as an index\n",
            "  positives_mask = torch.tensor(positives_mask_list)\n",
            "<ipython-input-13-fcc52b8a73d7>:88: DeprecationWarning: In future, it will be an error for 'np.bool_' scalars to be interpreted as an index\n",
            "  positives_mask = torch.tensor(positives_mask_list)\n",
            "<ipython-input-13-fcc52b8a73d7>:88: DeprecationWarning: In future, it will be an error for 'np.bool_' scalars to be interpreted as an index\n",
            "  positives_mask = torch.tensor(positives_mask_list)\n",
            "val:  64%|██████▎   | 21/33 [00:20<00:12,  1.08s/it]<ipython-input-13-fcc52b8a73d7>:88: DeprecationWarning: In future, it will be an error for 'np.bool_' scalars to be interpreted as an index\n",
            "  positives_mask = torch.tensor(positives_mask_list)\n"
          ]
        },
        {
          "output_type": "stream",
          "name": "stdout",
          "text": [
            "inside triplet.py ['image', 'cloud', 'fusion', 'image_back']\n"
          ]
        },
        {
          "output_type": "stream",
          "name": "stderr",
          "text": [
            "<ipython-input-13-fcc52b8a73d7>:88: DeprecationWarning: In future, it will be an error for 'np.bool_' scalars to be interpreted as an index\n",
            "  positives_mask = torch.tensor(positives_mask_list)\n",
            "val:  67%|██████▋   | 22/33 [00:20<00:09,  1.11it/s]"
          ]
        },
        {
          "output_type": "stream",
          "name": "stdout",
          "text": [
            "inside triplet.py ['image', 'cloud', 'fusion', 'image_back']\n"
          ]
        },
        {
          "output_type": "stream",
          "name": "stderr",
          "text": [
            "<ipython-input-13-fcc52b8a73d7>:88: DeprecationWarning: In future, it will be an error for 'np.bool_' scalars to be interpreted as an index\n",
            "  positives_mask = torch.tensor(positives_mask_list)\n",
            "val:  70%|██████▉   | 23/33 [00:20<00:07,  1.33it/s]"
          ]
        },
        {
          "output_type": "stream",
          "name": "stdout",
          "text": [
            "inside triplet.py ['image', 'cloud', 'fusion', 'image_back']\n"
          ]
        },
        {
          "output_type": "stream",
          "name": "stderr",
          "text": [
            "\rval:  73%|███████▎  | 24/33 [00:21<00:06,  1.43it/s]"
          ]
        },
        {
          "output_type": "stream",
          "name": "stdout",
          "text": [
            "inside triplet.py ['image', 'cloud', 'fusion', 'image_back']\n"
          ]
        },
        {
          "output_type": "stream",
          "name": "stderr",
          "text": [
            "<ipython-input-13-fcc52b8a73d7>:88: DeprecationWarning: In future, it will be an error for 'np.bool_' scalars to be interpreted as an index\n",
            "  positives_mask = torch.tensor(positives_mask_list)\n",
            "<ipython-input-13-fcc52b8a73d7>:88: DeprecationWarning: In future, it will be an error for 'np.bool_' scalars to be interpreted as an index\n",
            "  positives_mask = torch.tensor(positives_mask_list)\n",
            "val:  76%|███████▌  | 25/33 [00:23<00:08,  1.07s/it]"
          ]
        },
        {
          "output_type": "stream",
          "name": "stdout",
          "text": [
            "inside triplet.py ['image', 'cloud', 'fusion', 'image_back']\n"
          ]
        },
        {
          "output_type": "stream",
          "name": "stderr",
          "text": [
            "\rval:  79%|███████▉  | 26/33 [00:23<00:06,  1.13it/s]"
          ]
        },
        {
          "output_type": "stream",
          "name": "stdout",
          "text": [
            "inside triplet.py ['image', 'cloud', 'fusion', 'image_back']\n"
          ]
        },
        {
          "output_type": "stream",
          "name": "stderr",
          "text": [
            "\rval:  82%|████████▏ | 27/33 [00:24<00:04,  1.25it/s]<ipython-input-13-fcc52b8a73d7>:88: DeprecationWarning: In future, it will be an error for 'np.bool_' scalars to be interpreted as an index\n",
            "  positives_mask = torch.tensor(positives_mask_list)\n"
          ]
        },
        {
          "output_type": "stream",
          "name": "stdout",
          "text": [
            "inside triplet.py ['image', 'cloud', 'fusion', 'image_back']\n"
          ]
        },
        {
          "output_type": "stream",
          "name": "stderr",
          "text": [
            "<ipython-input-13-fcc52b8a73d7>:88: DeprecationWarning: In future, it will be an error for 'np.bool_' scalars to be interpreted as an index\n",
            "  positives_mask = torch.tensor(positives_mask_list)\n",
            "val:  85%|████████▍ | 28/33 [00:24<00:03,  1.47it/s]"
          ]
        },
        {
          "output_type": "stream",
          "name": "stdout",
          "text": [
            "inside triplet.py ['image', 'cloud', 'fusion', 'image_back']\n"
          ]
        },
        {
          "output_type": "stream",
          "name": "stderr",
          "text": [
            "<ipython-input-13-fcc52b8a73d7>:88: DeprecationWarning: In future, it will be an error for 'np.bool_' scalars to be interpreted as an index\n",
            "  positives_mask = torch.tensor(positives_mask_list)\n",
            "val:  88%|████████▊ | 29/33 [00:25<00:03,  1.30it/s]"
          ]
        },
        {
          "output_type": "stream",
          "name": "stdout",
          "text": [
            "inside triplet.py ['image', 'cloud', 'fusion', 'image_back']\n"
          ]
        },
        {
          "output_type": "stream",
          "name": "stderr",
          "text": [
            "\rval:  91%|█████████ | 30/33 [00:26<00:01,  1.56it/s]"
          ]
        },
        {
          "output_type": "stream",
          "name": "stdout",
          "text": [
            "inside triplet.py ['image', 'cloud', 'fusion', 'image_back']\n"
          ]
        },
        {
          "output_type": "stream",
          "name": "stderr",
          "text": [
            "\rval:  94%|█████████▍| 31/33 [00:26<00:01,  1.89it/s]"
          ]
        },
        {
          "output_type": "stream",
          "name": "stdout",
          "text": [
            "inside triplet.py ['image', 'cloud', 'fusion', 'image_back']\n"
          ]
        },
        {
          "output_type": "stream",
          "name": "stderr",
          "text": [
            "\rval:  97%|█████████▋| 32/33 [00:26<00:00,  2.13it/s]"
          ]
        },
        {
          "output_type": "stream",
          "name": "stdout",
          "text": [
            "inside triplet.py ['image', 'cloud', 'fusion', 'image_back']\n"
          ]
        },
        {
          "output_type": "stream",
          "name": "stderr",
          "text": [
            "<ipython-input-13-fcc52b8a73d7>:88: DeprecationWarning: In future, it will be an error for 'np.bool_' scalars to be interpreted as an index\n",
            "  positives_mask = torch.tensor(positives_mask_list)\n",
            "val: 100%|██████████| 33/33 [00:27<00:00,  1.20it/s]\n"
          ]
        },
        {
          "output_type": "stream",
          "name": "stdout",
          "text": [
            "inside triplet.py ['image', 'cloud', 'fusion', 'image_back']\n",
            "\n",
            "val_rate_non_zero = 1.0\n",
            "\n",
            "=> Testing:\n",
            "\n"
          ]
        },
        {
          "output_type": "stream",
          "name": "stderr",
          "text": [
            "\rCalculating test set descriptors:   0%|          | 0/116 [00:00<?, ?it/s]<ipython-input-13-fcc52b8a73d7>:88: DeprecationWarning: In future, it will be an error for 'np.bool_' scalars to be interpreted as an index\n",
            "  positives_mask = torch.tensor(positives_mask_list)\n",
            "<ipython-input-13-fcc52b8a73d7>:88: DeprecationWarning: In future, it will be an error for 'np.bool_' scalars to be interpreted as an index\n",
            "  positives_mask = torch.tensor(positives_mask_list)\n",
            "<ipython-input-13-fcc52b8a73d7>:88: DeprecationWarning: In future, it will be an error for 'np.bool_' scalars to be interpreted as an index\n",
            "  positives_mask = torch.tensor(positives_mask_list)\n",
            "<ipython-input-13-fcc52b8a73d7>:88: DeprecationWarning: In future, it will be an error for 'np.bool_' scalars to be interpreted as an index\n",
            "  positives_mask = torch.tensor(positives_mask_list)\n",
            "Calculating test set descriptors:   3%|▎         | 4/116 [00:04<01:20,  1.39it/s]<ipython-input-13-fcc52b8a73d7>:88: DeprecationWarning: In future, it will be an error for 'np.bool_' scalars to be interpreted as an index\n",
            "  positives_mask = torch.tensor(positives_mask_list)\n",
            "<ipython-input-13-fcc52b8a73d7>:88: DeprecationWarning: In future, it will be an error for 'np.bool_' scalars to be interpreted as an index\n",
            "  positives_mask = torch.tensor(positives_mask_list)\n",
            "<ipython-input-13-fcc52b8a73d7>:88: DeprecationWarning: In future, it will be an error for 'np.bool_' scalars to be interpreted as an index\n",
            "  positives_mask = torch.tensor(positives_mask_list)\n",
            "<ipython-input-13-fcc52b8a73d7>:88: DeprecationWarning: In future, it will be an error for 'np.bool_' scalars to be interpreted as an index\n",
            "  positives_mask = torch.tensor(positives_mask_list)\n",
            "Calculating test set descriptors:   7%|▋         | 8/116 [00:07<01:04,  1.67it/s]<ipython-input-13-fcc52b8a73d7>:88: DeprecationWarning: In future, it will be an error for 'np.bool_' scalars to be interpreted as an index\n",
            "  positives_mask = torch.tensor(positives_mask_list)\n",
            "<ipython-input-13-fcc52b8a73d7>:88: DeprecationWarning: In future, it will be an error for 'np.bool_' scalars to be interpreted as an index\n",
            "  positives_mask = torch.tensor(positives_mask_list)\n",
            "<ipython-input-13-fcc52b8a73d7>:88: DeprecationWarning: In future, it will be an error for 'np.bool_' scalars to be interpreted as an index\n",
            "  positives_mask = torch.tensor(positives_mask_list)\n",
            "<ipython-input-13-fcc52b8a73d7>:88: DeprecationWarning: In future, it will be an error for 'np.bool_' scalars to be interpreted as an index\n",
            "  positives_mask = torch.tensor(positives_mask_list)\n",
            "Calculating test set descriptors:  10%|█         | 12/116 [00:09<00:58,  1.76it/s]<ipython-input-13-fcc52b8a73d7>:88: DeprecationWarning: In future, it will be an error for 'np.bool_' scalars to be interpreted as an index\n",
            "  positives_mask = torch.tensor(positives_mask_list)\n",
            "<ipython-input-13-fcc52b8a73d7>:88: DeprecationWarning: In future, it will be an error for 'np.bool_' scalars to be interpreted as an index\n",
            "  positives_mask = torch.tensor(positives_mask_list)\n",
            "<ipython-input-13-fcc52b8a73d7>:88: DeprecationWarning: In future, it will be an error for 'np.bool_' scalars to be interpreted as an index\n",
            "  positives_mask = torch.tensor(positives_mask_list)\n",
            "<ipython-input-13-fcc52b8a73d7>:88: DeprecationWarning: In future, it will be an error for 'np.bool_' scalars to be interpreted as an index\n",
            "  positives_mask = torch.tensor(positives_mask_list)\n",
            "Calculating test set descriptors:  14%|█▍        | 16/116 [00:13<01:08,  1.46it/s]<ipython-input-13-fcc52b8a73d7>:88: DeprecationWarning: In future, it will be an error for 'np.bool_' scalars to be interpreted as an index\n",
            "  positives_mask = torch.tensor(positives_mask_list)\n",
            "<ipython-input-13-fcc52b8a73d7>:88: DeprecationWarning: In future, it will be an error for 'np.bool_' scalars to be interpreted as an index\n",
            "  positives_mask = torch.tensor(positives_mask_list)\n",
            "<ipython-input-13-fcc52b8a73d7>:88: DeprecationWarning: In future, it will be an error for 'np.bool_' scalars to be interpreted as an index\n",
            "  positives_mask = torch.tensor(positives_mask_list)\n",
            "<ipython-input-13-fcc52b8a73d7>:88: DeprecationWarning: In future, it will be an error for 'np.bool_' scalars to be interpreted as an index\n",
            "  positives_mask = torch.tensor(positives_mask_list)\n",
            "Calculating test set descriptors:  17%|█▋        | 20/116 [00:17<01:05,  1.46it/s]<ipython-input-13-fcc52b8a73d7>:88: DeprecationWarning: In future, it will be an error for 'np.bool_' scalars to be interpreted as an index\n",
            "  positives_mask = torch.tensor(positives_mask_list)\n",
            "<ipython-input-13-fcc52b8a73d7>:88: DeprecationWarning: In future, it will be an error for 'np.bool_' scalars to be interpreted as an index\n",
            "  positives_mask = torch.tensor(positives_mask_list)\n",
            "<ipython-input-13-fcc52b8a73d7>:88: DeprecationWarning: In future, it will be an error for 'np.bool_' scalars to be interpreted as an index\n",
            "  positives_mask = torch.tensor(positives_mask_list)\n",
            "<ipython-input-13-fcc52b8a73d7>:88: DeprecationWarning: In future, it will be an error for 'np.bool_' scalars to be interpreted as an index\n",
            "  positives_mask = torch.tensor(positives_mask_list)\n",
            "Calculating test set descriptors:  21%|██        | 24/116 [00:20<00:54,  1.69it/s]<ipython-input-13-fcc52b8a73d7>:88: DeprecationWarning: In future, it will be an error for 'np.bool_' scalars to be interpreted as an index\n",
            "  positives_mask = torch.tensor(positives_mask_list)\n",
            "<ipython-input-13-fcc52b8a73d7>:88: DeprecationWarning: In future, it will be an error for 'np.bool_' scalars to be interpreted as an index\n",
            "  positives_mask = torch.tensor(positives_mask_list)\n",
            "<ipython-input-13-fcc52b8a73d7>:88: DeprecationWarning: In future, it will be an error for 'np.bool_' scalars to be interpreted as an index\n",
            "  positives_mask = torch.tensor(positives_mask_list)\n",
            "<ipython-input-13-fcc52b8a73d7>:88: DeprecationWarning: In future, it will be an error for 'np.bool_' scalars to be interpreted as an index\n",
            "  positives_mask = torch.tensor(positives_mask_list)\n",
            "Calculating test set descriptors:  24%|██▍       | 28/116 [00:23<00:49,  1.76it/s]<ipython-input-13-fcc52b8a73d7>:88: DeprecationWarning: In future, it will be an error for 'np.bool_' scalars to be interpreted as an index\n",
            "  positives_mask = torch.tensor(positives_mask_list)\n",
            "<ipython-input-13-fcc52b8a73d7>:88: DeprecationWarning: In future, it will be an error for 'np.bool_' scalars to be interpreted as an index\n",
            "  positives_mask = torch.tensor(positives_mask_list)\n",
            "<ipython-input-13-fcc52b8a73d7>:88: DeprecationWarning: In future, it will be an error for 'np.bool_' scalars to be interpreted as an index\n",
            "  positives_mask = torch.tensor(positives_mask_list)\n",
            "<ipython-input-13-fcc52b8a73d7>:88: DeprecationWarning: In future, it will be an error for 'np.bool_' scalars to be interpreted as an index\n",
            "  positives_mask = torch.tensor(positives_mask_list)\n",
            "Calculating test set descriptors:  28%|██▊       | 32/116 [00:25<00:45,  1.85it/s]<ipython-input-13-fcc52b8a73d7>:88: DeprecationWarning: In future, it will be an error for 'np.bool_' scalars to be interpreted as an index\n",
            "  positives_mask = torch.tensor(positives_mask_list)\n",
            "<ipython-input-13-fcc52b8a73d7>:88: DeprecationWarning: In future, it will be an error for 'np.bool_' scalars to be interpreted as an index\n",
            "  positives_mask = torch.tensor(positives_mask_list)\n",
            "<ipython-input-13-fcc52b8a73d7>:88: DeprecationWarning: In future, it will be an error for 'np.bool_' scalars to be interpreted as an index\n",
            "  positives_mask = torch.tensor(positives_mask_list)\n",
            "<ipython-input-13-fcc52b8a73d7>:88: DeprecationWarning: In future, it will be an error for 'np.bool_' scalars to be interpreted as an index\n",
            "  positives_mask = torch.tensor(positives_mask_list)\n",
            "Calculating test set descriptors:  31%|███       | 36/116 [00:30<01:03,  1.25it/s]<ipython-input-13-fcc52b8a73d7>:88: DeprecationWarning: In future, it will be an error for 'np.bool_' scalars to be interpreted as an index\n",
            "  positives_mask = torch.tensor(positives_mask_list)\n",
            "<ipython-input-13-fcc52b8a73d7>:88: DeprecationWarning: In future, it will be an error for 'np.bool_' scalars to be interpreted as an index\n",
            "  positives_mask = torch.tensor(positives_mask_list)\n",
            "<ipython-input-13-fcc52b8a73d7>:88: DeprecationWarning: In future, it will be an error for 'np.bool_' scalars to be interpreted as an index\n",
            "  positives_mask = torch.tensor(positives_mask_list)\n",
            "<ipython-input-13-fcc52b8a73d7>:88: DeprecationWarning: In future, it will be an error for 'np.bool_' scalars to be interpreted as an index\n",
            "  positives_mask = torch.tensor(positives_mask_list)\n",
            "Calculating test set descriptors:  34%|███▍      | 40/116 [00:34<00:51,  1.49it/s]<ipython-input-13-fcc52b8a73d7>:88: DeprecationWarning: In future, it will be an error for 'np.bool_' scalars to be interpreted as an index\n",
            "  positives_mask = torch.tensor(positives_mask_list)\n",
            "<ipython-input-13-fcc52b8a73d7>:88: DeprecationWarning: In future, it will be an error for 'np.bool_' scalars to be interpreted as an index\n",
            "  positives_mask = torch.tensor(positives_mask_list)\n",
            "<ipython-input-13-fcc52b8a73d7>:88: DeprecationWarning: In future, it will be an error for 'np.bool_' scalars to be interpreted as an index\n",
            "  positives_mask = torch.tensor(positives_mask_list)\n",
            "<ipython-input-13-fcc52b8a73d7>:88: DeprecationWarning: In future, it will be an error for 'np.bool_' scalars to be interpreted as an index\n",
            "  positives_mask = torch.tensor(positives_mask_list)\n",
            "Calculating test set descriptors:  38%|███▊      | 44/116 [00:36<00:39,  1.83it/s]<ipython-input-13-fcc52b8a73d7>:88: DeprecationWarning: In future, it will be an error for 'np.bool_' scalars to be interpreted as an index\n",
            "  positives_mask = torch.tensor(positives_mask_list)\n",
            "<ipython-input-13-fcc52b8a73d7>:88: DeprecationWarning: In future, it will be an error for 'np.bool_' scalars to be interpreted as an index\n",
            "  positives_mask = torch.tensor(positives_mask_list)\n",
            "<ipython-input-13-fcc52b8a73d7>:88: DeprecationWarning: In future, it will be an error for 'np.bool_' scalars to be interpreted as an index\n",
            "  positives_mask = torch.tensor(positives_mask_list)\n",
            "<ipython-input-13-fcc52b8a73d7>:88: DeprecationWarning: In future, it will be an error for 'np.bool_' scalars to be interpreted as an index\n",
            "  positives_mask = torch.tensor(positives_mask_list)\n",
            "Calculating test set descriptors:  41%|████▏     | 48/116 [00:39<00:35,  1.92it/s]<ipython-input-13-fcc52b8a73d7>:88: DeprecationWarning: In future, it will be an error for 'np.bool_' scalars to be interpreted as an index\n",
            "  positives_mask = torch.tensor(positives_mask_list)\n",
            "<ipython-input-13-fcc52b8a73d7>:88: DeprecationWarning: In future, it will be an error for 'np.bool_' scalars to be interpreted as an index\n",
            "  positives_mask = torch.tensor(positives_mask_list)\n",
            "<ipython-input-13-fcc52b8a73d7>:88: DeprecationWarning: In future, it will be an error for 'np.bool_' scalars to be interpreted as an index\n",
            "  positives_mask = torch.tensor(positives_mask_list)\n",
            "<ipython-input-13-fcc52b8a73d7>:88: DeprecationWarning: In future, it will be an error for 'np.bool_' scalars to be interpreted as an index\n",
            "  positives_mask = torch.tensor(positives_mask_list)\n",
            "Calculating test set descriptors:  45%|████▍     | 52/116 [00:42<00:31,  2.02it/s]<ipython-input-13-fcc52b8a73d7>:88: DeprecationWarning: In future, it will be an error for 'np.bool_' scalars to be interpreted as an index\n",
            "  positives_mask = torch.tensor(positives_mask_list)\n",
            "<ipython-input-13-fcc52b8a73d7>:88: DeprecationWarning: In future, it will be an error for 'np.bool_' scalars to be interpreted as an index\n",
            "  positives_mask = torch.tensor(positives_mask_list)\n",
            "<ipython-input-13-fcc52b8a73d7>:88: DeprecationWarning: In future, it will be an error for 'np.bool_' scalars to be interpreted as an index\n",
            "  positives_mask = torch.tensor(positives_mask_list)\n",
            "<ipython-input-13-fcc52b8a73d7>:88: DeprecationWarning: In future, it will be an error for 'np.bool_' scalars to be interpreted as an index\n",
            "  positives_mask = torch.tensor(positives_mask_list)\n",
            "Calculating test set descriptors:  48%|████▊     | 56/116 [00:45<00:35,  1.68it/s]<ipython-input-13-fcc52b8a73d7>:88: DeprecationWarning: In future, it will be an error for 'np.bool_' scalars to be interpreted as an index\n",
            "  positives_mask = torch.tensor(positives_mask_list)\n",
            "<ipython-input-13-fcc52b8a73d7>:88: DeprecationWarning: In future, it will be an error for 'np.bool_' scalars to be interpreted as an index\n",
            "  positives_mask = torch.tensor(positives_mask_list)\n",
            "<ipython-input-13-fcc52b8a73d7>:88: DeprecationWarning: In future, it will be an error for 'np.bool_' scalars to be interpreted as an index\n",
            "  positives_mask = torch.tensor(positives_mask_list)\n",
            "<ipython-input-13-fcc52b8a73d7>:88: DeprecationWarning: In future, it will be an error for 'np.bool_' scalars to be interpreted as an index\n",
            "  positives_mask = torch.tensor(positives_mask_list)\n",
            "Calculating test set descriptors:  52%|█████▏    | 60/116 [00:49<00:39,  1.42it/s]<ipython-input-13-fcc52b8a73d7>:88: DeprecationWarning: In future, it will be an error for 'np.bool_' scalars to be interpreted as an index\n",
            "  positives_mask = torch.tensor(positives_mask_list)\n",
            "<ipython-input-13-fcc52b8a73d7>:88: DeprecationWarning: In future, it will be an error for 'np.bool_' scalars to be interpreted as an index\n",
            "  positives_mask = torch.tensor(positives_mask_list)\n",
            "<ipython-input-13-fcc52b8a73d7>:88: DeprecationWarning: In future, it will be an error for 'np.bool_' scalars to be interpreted as an index\n",
            "  positives_mask = torch.tensor(positives_mask_list)\n",
            "<ipython-input-13-fcc52b8a73d7>:88: DeprecationWarning: In future, it will be an error for 'np.bool_' scalars to be interpreted as an index\n",
            "  positives_mask = torch.tensor(positives_mask_list)\n",
            "Calculating test set descriptors:  54%|█████▍    | 63/116 [00:51<00:39,  1.35it/s]<ipython-input-13-fcc52b8a73d7>:88: DeprecationWarning: In future, it will be an error for 'np.bool_' scalars to be interpreted as an index\n",
            "  positives_mask = torch.tensor(positives_mask_list)\n",
            "Calculating test set descriptors:  55%|█████▌    | 64/116 [00:52<00:33,  1.57it/s]<ipython-input-13-fcc52b8a73d7>:88: DeprecationWarning: In future, it will be an error for 'np.bool_' scalars to be interpreted as an index\n",
            "  positives_mask = torch.tensor(positives_mask_list)\n",
            "<ipython-input-13-fcc52b8a73d7>:88: DeprecationWarning: In future, it will be an error for 'np.bool_' scalars to be interpreted as an index\n",
            "  positives_mask = torch.tensor(positives_mask_list)\n",
            "<ipython-input-13-fcc52b8a73d7>:88: DeprecationWarning: In future, it will be an error for 'np.bool_' scalars to be interpreted as an index\n",
            "  positives_mask = torch.tensor(positives_mask_list)\n",
            "Calculating test set descriptors:  57%|█████▋    | 66/116 [00:54<00:37,  1.34it/s]<ipython-input-13-fcc52b8a73d7>:88: DeprecationWarning: In future, it will be an error for 'np.bool_' scalars to be interpreted as an index\n",
            "  positives_mask = torch.tensor(positives_mask_list)\n",
            "Calculating test set descriptors:  59%|█████▊    | 68/116 [00:55<00:27,  1.73it/s]<ipython-input-13-fcc52b8a73d7>:88: DeprecationWarning: In future, it will be an error for 'np.bool_' scalars to be interpreted as an index\n",
            "  positives_mask = torch.tensor(positives_mask_list)\n",
            "<ipython-input-13-fcc52b8a73d7>:88: DeprecationWarning: In future, it will be an error for 'np.bool_' scalars to be interpreted as an index\n",
            "  positives_mask = torch.tensor(positives_mask_list)\n",
            "<ipython-input-13-fcc52b8a73d7>:88: DeprecationWarning: In future, it will be an error for 'np.bool_' scalars to be interpreted as an index\n",
            "  positives_mask = torch.tensor(positives_mask_list)\n",
            "Calculating test set descriptors:  60%|██████    | 70/116 [00:57<00:33,  1.35it/s]<ipython-input-13-fcc52b8a73d7>:88: DeprecationWarning: In future, it will be an error for 'np.bool_' scalars to be interpreted as an index\n",
            "  positives_mask = torch.tensor(positives_mask_list)\n",
            "Calculating test set descriptors:  62%|██████▏   | 72/116 [00:57<00:24,  1.77it/s]<ipython-input-13-fcc52b8a73d7>:88: DeprecationWarning: In future, it will be an error for 'np.bool_' scalars to be interpreted as an index\n",
            "  positives_mask = torch.tensor(positives_mask_list)\n",
            "<ipython-input-13-fcc52b8a73d7>:88: DeprecationWarning: In future, it will be an error for 'np.bool_' scalars to be interpreted as an index\n",
            "  positives_mask = torch.tensor(positives_mask_list)\n",
            "<ipython-input-13-fcc52b8a73d7>:88: DeprecationWarning: In future, it will be an error for 'np.bool_' scalars to be interpreted as an index\n",
            "  positives_mask = torch.tensor(positives_mask_list)\n",
            "Calculating test set descriptors:  64%|██████▍   | 74/116 [01:00<00:39,  1.07it/s]<ipython-input-13-fcc52b8a73d7>:88: DeprecationWarning: In future, it will be an error for 'np.bool_' scalars to be interpreted as an index\n",
            "  positives_mask = torch.tensor(positives_mask_list)\n",
            "Calculating test set descriptors:  66%|██████▌   | 76/116 [01:01<00:29,  1.34it/s]<ipython-input-13-fcc52b8a73d7>:88: DeprecationWarning: In future, it will be an error for 'np.bool_' scalars to be interpreted as an index\n",
            "  positives_mask = torch.tensor(positives_mask_list)\n",
            "<ipython-input-13-fcc52b8a73d7>:88: DeprecationWarning: In future, it will be an error for 'np.bool_' scalars to be interpreted as an index\n",
            "  positives_mask = torch.tensor(positives_mask_list)\n",
            "<ipython-input-13-fcc52b8a73d7>:88: DeprecationWarning: In future, it will be an error for 'np.bool_' scalars to be interpreted as an index\n",
            "  positives_mask = torch.tensor(positives_mask_list)\n",
            "Calculating test set descriptors:  69%|██████▉   | 80/116 [01:05<00:23,  1.52it/s]<ipython-input-13-fcc52b8a73d7>:88: DeprecationWarning: In future, it will be an error for 'np.bool_' scalars to be interpreted as an index\n",
            "  positives_mask = torch.tensor(positives_mask_list)\n",
            "<ipython-input-13-fcc52b8a73d7>:88: DeprecationWarning: In future, it will be an error for 'np.bool_' scalars to be interpreted as an index\n",
            "  positives_mask = torch.tensor(positives_mask_list)\n",
            "<ipython-input-13-fcc52b8a73d7>:88: DeprecationWarning: In future, it will be an error for 'np.bool_' scalars to be interpreted as an index\n",
            "  positives_mask = torch.tensor(positives_mask_list)\n",
            "<ipython-input-13-fcc52b8a73d7>:88: DeprecationWarning: In future, it will be an error for 'np.bool_' scalars to be interpreted as an index\n",
            "  positives_mask = torch.tensor(positives_mask_list)\n",
            "Calculating test set descriptors:  70%|██████▉   | 81/116 [01:07<00:37,  1.07s/it]<ipython-input-13-fcc52b8a73d7>:88: DeprecationWarning: In future, it will be an error for 'np.bool_' scalars to be interpreted as an index\n",
            "  positives_mask = torch.tensor(positives_mask_list)\n",
            "Calculating test set descriptors:  72%|███████▏  | 84/116 [01:08<00:19,  1.64it/s]<ipython-input-13-fcc52b8a73d7>:88: DeprecationWarning: In future, it will be an error for 'np.bool_' scalars to be interpreted as an index\n",
            "  positives_mask = torch.tensor(positives_mask_list)\n",
            "<ipython-input-13-fcc52b8a73d7>:88: DeprecationWarning: In future, it will be an error for 'np.bool_' scalars to be interpreted as an index\n",
            "  positives_mask = torch.tensor(positives_mask_list)\n",
            "<ipython-input-13-fcc52b8a73d7>:88: DeprecationWarning: In future, it will be an error for 'np.bool_' scalars to be interpreted as an index\n",
            "  positives_mask = torch.tensor(positives_mask_list)\n",
            "Calculating test set descriptors:  73%|███████▎  | 85/116 [01:10<00:30,  1.03it/s]<ipython-input-13-fcc52b8a73d7>:88: DeprecationWarning: In future, it will be an error for 'np.bool_' scalars to be interpreted as an index\n",
            "  positives_mask = torch.tensor(positives_mask_list)\n",
            "Calculating test set descriptors:  76%|███████▌  | 88/116 [01:11<00:15,  1.83it/s]<ipython-input-13-fcc52b8a73d7>:88: DeprecationWarning: In future, it will be an error for 'np.bool_' scalars to be interpreted as an index\n",
            "  positives_mask = torch.tensor(positives_mask_list)\n",
            "<ipython-input-13-fcc52b8a73d7>:88: DeprecationWarning: In future, it will be an error for 'np.bool_' scalars to be interpreted as an index\n",
            "  positives_mask = torch.tensor(positives_mask_list)\n",
            "Calculating test set descriptors:  78%|███████▊  | 90/116 [01:12<00:16,  1.54it/s]<ipython-input-13-fcc52b8a73d7>:88: DeprecationWarning: In future, it will be an error for 'np.bool_' scalars to be interpreted as an index\n",
            "  positives_mask = torch.tensor(positives_mask_list)\n",
            "Calculating test set descriptors:  78%|███████▊  | 91/116 [01:13<00:14,  1.76it/s]<ipython-input-13-fcc52b8a73d7>:88: DeprecationWarning: In future, it will be an error for 'np.bool_' scalars to be interpreted as an index\n",
            "  positives_mask = torch.tensor(positives_mask_list)\n",
            "Calculating test set descriptors:  79%|███████▉  | 92/116 [01:13<00:12,  1.96it/s]<ipython-input-13-fcc52b8a73d7>:88: DeprecationWarning: In future, it will be an error for 'np.bool_' scalars to be interpreted as an index\n",
            "  positives_mask = torch.tensor(positives_mask_list)\n",
            "Calculating test set descriptors:  80%|████████  | 93/116 [01:15<00:18,  1.24it/s]<ipython-input-13-fcc52b8a73d7>:88: DeprecationWarning: In future, it will be an error for 'np.bool_' scalars to be interpreted as an index\n",
            "  positives_mask = torch.tensor(positives_mask_list)\n",
            "Calculating test set descriptors:  81%|████████  | 94/116 [01:15<00:16,  1.37it/s]<ipython-input-13-fcc52b8a73d7>:88: DeprecationWarning: In future, it will be an error for 'np.bool_' scalars to be interpreted as an index\n",
            "  positives_mask = torch.tensor(positives_mask_list)\n",
            "Calculating test set descriptors:  82%|████████▏ | 95/116 [01:16<00:13,  1.58it/s]<ipython-input-13-fcc52b8a73d7>:88: DeprecationWarning: In future, it will be an error for 'np.bool_' scalars to be interpreted as an index\n",
            "  positives_mask = torch.tensor(positives_mask_list)\n",
            "Calculating test set descriptors:  83%|████████▎ | 96/116 [01:16<00:11,  1.72it/s]<ipython-input-13-fcc52b8a73d7>:88: DeprecationWarning: In future, it will be an error for 'np.bool_' scalars to be interpreted as an index\n",
            "  positives_mask = torch.tensor(positives_mask_list)\n",
            "Calculating test set descriptors:  84%|████████▎ | 97/116 [01:17<00:14,  1.29it/s]<ipython-input-13-fcc52b8a73d7>:88: DeprecationWarning: In future, it will be an error for 'np.bool_' scalars to be interpreted as an index\n",
            "  positives_mask = torch.tensor(positives_mask_list)\n",
            "<ipython-input-13-fcc52b8a73d7>:88: DeprecationWarning: In future, it will be an error for 'np.bool_' scalars to be interpreted as an index\n",
            "  positives_mask = torch.tensor(positives_mask_list)\n",
            "<ipython-input-13-fcc52b8a73d7>:88: DeprecationWarning: In future, it will be an error for 'np.bool_' scalars to be interpreted as an index\n",
            "  positives_mask = torch.tensor(positives_mask_list)\n",
            "Calculating test set descriptors:  86%|████████▌ | 100/116 [01:21<00:13,  1.15it/s]<ipython-input-13-fcc52b8a73d7>:88: DeprecationWarning: In future, it will be an error for 'np.bool_' scalars to be interpreted as an index\n",
            "  positives_mask = torch.tensor(positives_mask_list)\n",
            "Calculating test set descriptors:  87%|████████▋ | 101/116 [01:22<00:13,  1.10it/s]<ipython-input-13-fcc52b8a73d7>:88: DeprecationWarning: In future, it will be an error for 'np.bool_' scalars to be interpreted as an index\n",
            "  positives_mask = torch.tensor(positives_mask_list)\n",
            "<ipython-input-13-fcc52b8a73d7>:88: DeprecationWarning: In future, it will be an error for 'np.bool_' scalars to be interpreted as an index\n",
            "  positives_mask = torch.tensor(positives_mask_list)\n",
            "<ipython-input-13-fcc52b8a73d7>:88: DeprecationWarning: In future, it will be an error for 'np.bool_' scalars to be interpreted as an index\n",
            "  positives_mask = torch.tensor(positives_mask_list)\n",
            "Calculating test set descriptors:  89%|████████▉ | 103/116 [01:24<00:12,  1.06it/s]<ipython-input-13-fcc52b8a73d7>:88: DeprecationWarning: In future, it will be an error for 'np.bool_' scalars to be interpreted as an index\n",
            "  positives_mask = torch.tensor(positives_mask_list)\n",
            "Calculating test set descriptors:  91%|█████████ | 105/116 [01:25<00:07,  1.53it/s]<ipython-input-13-fcc52b8a73d7>:88: DeprecationWarning: In future, it will be an error for 'np.bool_' scalars to be interpreted as an index\n",
            "  positives_mask = torch.tensor(positives_mask_list)\n",
            "<ipython-input-13-fcc52b8a73d7>:88: DeprecationWarning: In future, it will be an error for 'np.bool_' scalars to be interpreted as an index\n",
            "  positives_mask = torch.tensor(positives_mask_list)\n",
            "<ipython-input-13-fcc52b8a73d7>:88: DeprecationWarning: In future, it will be an error for 'np.bool_' scalars to be interpreted as an index\n",
            "  positives_mask = torch.tensor(positives_mask_list)\n",
            "<ipython-input-13-fcc52b8a73d7>:88: DeprecationWarning: In future, it will be an error for 'np.bool_' scalars to be interpreted as an index\n",
            "  positives_mask = torch.tensor(positives_mask_list)\n",
            "Calculating test set descriptors:  94%|█████████▍| 109/116 [01:27<00:04,  1.74it/s]<ipython-input-13-fcc52b8a73d7>:88: DeprecationWarning: In future, it will be an error for 'np.bool_' scalars to be interpreted as an index\n",
            "  positives_mask = torch.tensor(positives_mask_list)\n",
            "<ipython-input-13-fcc52b8a73d7>:88: DeprecationWarning: In future, it will be an error for 'np.bool_' scalars to be interpreted as an index\n",
            "  positives_mask = torch.tensor(positives_mask_list)\n",
            "<ipython-input-13-fcc52b8a73d7>:88: DeprecationWarning: In future, it will be an error for 'np.bool_' scalars to be interpreted as an index\n",
            "  positives_mask = torch.tensor(positives_mask_list)\n",
            "<ipython-input-13-fcc52b8a73d7>:88: DeprecationWarning: In future, it will be an error for 'np.bool_' scalars to be interpreted as an index\n",
            "  positives_mask = torch.tensor(positives_mask_list)\n",
            "Calculating test set descriptors:  97%|█████████▋| 113/116 [01:30<00:01,  2.22it/s]<ipython-input-13-fcc52b8a73d7>:88: DeprecationWarning: In future, it will be an error for 'np.bool_' scalars to be interpreted as an index\n",
            "  positives_mask = torch.tensor(positives_mask_list)\n",
            "<ipython-input-13-fcc52b8a73d7>:88: DeprecationWarning: In future, it will be an error for 'np.bool_' scalars to be interpreted as an index\n",
            "  positives_mask = torch.tensor(positives_mask_list)\n",
            "Calculating test set descriptors: 100%|██████████| 116/116 [01:31<00:00,  1.27it/s]\n",
            "Calculating metrics: 100%|██████████| 6/6 [00:01<00:00,  3.15it/s]\n"
          ]
        },
        {
          "output_type": "stream",
          "name": "stdout",
          "text": [
            "Mean Recall@N:\n",
            "[0.62485648 0.76129373 0.81895571 0.84749231 0.86830141 0.88599087\n",
            " 0.89675585 0.90621535 0.91505709 0.92088295 0.92534126 0.92921886\n",
            " 0.93225819 0.93556916 0.94026567 0.94220415 0.94386801 0.94496182\n",
            " 0.94719326 0.94885003 0.94994704 0.95215163 0.95352271 0.9549029\n",
            " 0.95572483]\n",
            "Mean Recall@1% = 0.8859908711175054\n",
            "Mean top-1 distance = 0.3613138113996446\n",
            "Recall@1 improved!\n",
            "\n",
            "\n",
            "=====> Epoch 2:\n",
            "\n",
            "=> Training:\n",
            "\n"
          ]
        },
        {
          "output_type": "stream",
          "name": "stderr",
          "text": [
            "/usr/local/lib/python3.9/dist-packages/torch/utils/data/dataloader.py:554: UserWarning: This DataLoader will create 4 worker processes in total. Our suggested max number of worker in current system is 2, which is smaller than what this DataLoader is going to create. Please be aware that excessive worker creation might get DataLoader running slow or even freeze, lower the worker number to avoid potential slowness/freeze if necessary.\n",
            "  warnings.warn(_create_warning_msg(\n",
            "train:   0%|          | 0/90 [00:00<?, ?it/s]<ipython-input-13-fcc52b8a73d7>:88: DeprecationWarning: In future, it will be an error for 'np.bool_' scalars to be interpreted as an index\n",
            "  positives_mask = torch.tensor(positives_mask_list)\n",
            "<ipython-input-13-fcc52b8a73d7>:88: DeprecationWarning: In future, it will be an error for 'np.bool_' scalars to be interpreted as an index\n",
            "  positives_mask = torch.tensor(positives_mask_list)\n",
            "<ipython-input-13-fcc52b8a73d7>:88: DeprecationWarning: In future, it will be an error for 'np.bool_' scalars to be interpreted as an index\n",
            "  positives_mask = torch.tensor(positives_mask_list)\n",
            "<ipython-input-13-fcc52b8a73d7>:88: DeprecationWarning: In future, it will be an error for 'np.bool_' scalars to be interpreted as an index\n",
            "  positives_mask = torch.tensor(positives_mask_list)\n"
          ]
        },
        {
          "output_type": "stream",
          "name": "stdout",
          "text": [
            "inside triplet.py ['image', 'cloud', 'fusion', 'image_back']\n"
          ]
        },
        {
          "output_type": "stream",
          "name": "stderr",
          "text": [
            "\rtrain:   1%|          | 1/90 [00:07<11:07,  7.50s/it]"
          ]
        },
        {
          "output_type": "stream",
          "name": "stdout",
          "text": [
            "inside triplet.py ['image', 'cloud', 'fusion', 'image_back']\n"
          ]
        },
        {
          "output_type": "stream",
          "name": "stderr",
          "text": [
            "\rtrain:   2%|▏         | 2/90 [00:08<05:18,  3.62s/it]"
          ]
        },
        {
          "output_type": "stream",
          "name": "stdout",
          "text": [
            "inside triplet.py ['image', 'cloud', 'fusion', 'image_back']\n"
          ]
        },
        {
          "output_type": "stream",
          "name": "stderr",
          "text": [
            "\rtrain:   3%|▎         | 3/90 [00:09<03:27,  2.38s/it]"
          ]
        },
        {
          "output_type": "stream",
          "name": "stdout",
          "text": [
            "inside triplet.py ['image', 'cloud', 'fusion', 'image_back']\n"
          ]
        },
        {
          "output_type": "stream",
          "name": "stderr",
          "text": [
            "<ipython-input-13-fcc52b8a73d7>:88: DeprecationWarning: In future, it will be an error for 'np.bool_' scalars to be interpreted as an index\n",
            "  positives_mask = torch.tensor(positives_mask_list)\n",
            "train:   4%|▍         | 4/90 [00:10<02:38,  1.85s/it]<ipython-input-13-fcc52b8a73d7>:88: DeprecationWarning: In future, it will be an error for 'np.bool_' scalars to be interpreted as an index\n",
            "  positives_mask = torch.tensor(positives_mask_list)\n",
            "<ipython-input-13-fcc52b8a73d7>:88: DeprecationWarning: In future, it will be an error for 'np.bool_' scalars to be interpreted as an index\n",
            "  positives_mask = torch.tensor(positives_mask_list)\n"
          ]
        },
        {
          "output_type": "stream",
          "name": "stdout",
          "text": [
            "inside triplet.py ['image', 'cloud', 'fusion', 'image_back']\n"
          ]
        },
        {
          "output_type": "stream",
          "name": "stderr",
          "text": [
            "<ipython-input-13-fcc52b8a73d7>:88: DeprecationWarning: In future, it will be an error for 'np.bool_' scalars to be interpreted as an index\n",
            "  positives_mask = torch.tensor(positives_mask_list)\n",
            "train:   6%|▌         | 5/90 [00:11<02:14,  1.58s/it]"
          ]
        },
        {
          "output_type": "stream",
          "name": "stdout",
          "text": [
            "inside triplet.py ['image', 'cloud', 'fusion', 'image_back']\n"
          ]
        },
        {
          "output_type": "stream",
          "name": "stderr",
          "text": [
            "\rtrain:   7%|▋         | 6/90 [00:12<01:52,  1.34s/it]"
          ]
        },
        {
          "output_type": "stream",
          "name": "stdout",
          "text": [
            "inside triplet.py ['image', 'cloud', 'fusion', 'image_back']\n"
          ]
        },
        {
          "output_type": "stream",
          "name": "stderr",
          "text": [
            "\rtrain:   8%|▊         | 7/90 [00:13<01:38,  1.18s/it]"
          ]
        },
        {
          "output_type": "stream",
          "name": "stdout",
          "text": [
            "inside triplet.py ['image', 'cloud', 'fusion', 'image_back']\n"
          ]
        },
        {
          "output_type": "stream",
          "name": "stderr",
          "text": [
            "<ipython-input-13-fcc52b8a73d7>:88: DeprecationWarning: In future, it will be an error for 'np.bool_' scalars to be interpreted as an index\n",
            "  positives_mask = torch.tensor(positives_mask_list)\n",
            "train:   9%|▉         | 8/90 [00:14<01:29,  1.10s/it]<ipython-input-13-fcc52b8a73d7>:88: DeprecationWarning: In future, it will be an error for 'np.bool_' scalars to be interpreted as an index\n",
            "  positives_mask = torch.tensor(positives_mask_list)\n",
            "<ipython-input-13-fcc52b8a73d7>:88: DeprecationWarning: In future, it will be an error for 'np.bool_' scalars to be interpreted as an index\n",
            "  positives_mask = torch.tensor(positives_mask_list)\n"
          ]
        },
        {
          "output_type": "stream",
          "name": "stdout",
          "text": [
            "inside triplet.py ['image', 'cloud', 'fusion', 'image_back']\n"
          ]
        },
        {
          "output_type": "stream",
          "name": "stderr",
          "text": [
            "\rtrain:  10%|█         | 9/90 [00:15<01:36,  1.20s/it]<ipython-input-13-fcc52b8a73d7>:88: DeprecationWarning: In future, it will be an error for 'np.bool_' scalars to be interpreted as an index\n",
            "  positives_mask = torch.tensor(positives_mask_list)\n"
          ]
        },
        {
          "output_type": "stream",
          "name": "stdout",
          "text": [
            "inside triplet.py ['image', 'cloud', 'fusion', 'image_back']\n"
          ]
        },
        {
          "output_type": "stream",
          "name": "stderr",
          "text": [
            "\rtrain:  11%|█         | 10/90 [00:17<01:47,  1.34s/it]"
          ]
        },
        {
          "output_type": "stream",
          "name": "stdout",
          "text": [
            "inside triplet.py ['image', 'cloud', 'fusion', 'image_back']\n"
          ]
        },
        {
          "output_type": "stream",
          "name": "stderr",
          "text": [
            "\rtrain:  12%|█▏        | 11/90 [00:18<01:48,  1.37s/it]"
          ]
        },
        {
          "output_type": "stream",
          "name": "stdout",
          "text": [
            "inside triplet.py ['image', 'cloud', 'fusion', 'image_back']\n"
          ]
        },
        {
          "output_type": "stream",
          "name": "stderr",
          "text": [
            "\rtrain:  13%|█▎        | 12/90 [00:19<01:40,  1.29s/it]<ipython-input-13-fcc52b8a73d7>:88: DeprecationWarning: In future, it will be an error for 'np.bool_' scalars to be interpreted as an index\n",
            "  positives_mask = torch.tensor(positives_mask_list)\n"
          ]
        },
        {
          "output_type": "stream",
          "name": "stdout",
          "text": [
            "inside triplet.py ['image', 'cloud', 'fusion', 'image_back']\n"
          ]
        },
        {
          "output_type": "stream",
          "name": "stderr",
          "text": [
            "<ipython-input-13-fcc52b8a73d7>:88: DeprecationWarning: In future, it will be an error for 'np.bool_' scalars to be interpreted as an index\n",
            "  positives_mask = torch.tensor(positives_mask_list)\n",
            "train:  14%|█▍        | 13/90 [00:21<01:46,  1.39s/it]<ipython-input-13-fcc52b8a73d7>:88: DeprecationWarning: In future, it will be an error for 'np.bool_' scalars to be interpreted as an index\n",
            "  positives_mask = torch.tensor(positives_mask_list)\n",
            "<ipython-input-13-fcc52b8a73d7>:88: DeprecationWarning: In future, it will be an error for 'np.bool_' scalars to be interpreted as an index\n",
            "  positives_mask = torch.tensor(positives_mask_list)\n"
          ]
        },
        {
          "output_type": "stream",
          "name": "stdout",
          "text": [
            "inside triplet.py ['image', 'cloud', 'fusion', 'image_back']\n"
          ]
        },
        {
          "output_type": "stream",
          "name": "stderr",
          "text": [
            "\rtrain:  16%|█▌        | 14/90 [00:22<01:46,  1.40s/it]"
          ]
        },
        {
          "output_type": "stream",
          "name": "stdout",
          "text": [
            "inside triplet.py ['image', 'cloud', 'fusion', 'image_back']\n"
          ]
        },
        {
          "output_type": "stream",
          "name": "stderr",
          "text": [
            "\rtrain:  17%|█▋        | 15/90 [00:23<01:33,  1.25s/it]"
          ]
        },
        {
          "output_type": "stream",
          "name": "stdout",
          "text": [
            "inside triplet.py ['image', 'cloud', 'fusion', 'image_back']\n"
          ]
        },
        {
          "output_type": "stream",
          "name": "stderr",
          "text": [
            "\rtrain:  18%|█▊        | 16/90 [00:24<01:23,  1.13s/it]<ipython-input-13-fcc52b8a73d7>:88: DeprecationWarning: In future, it will be an error for 'np.bool_' scalars to be interpreted as an index\n",
            "  positives_mask = torch.tensor(positives_mask_list)\n"
          ]
        },
        {
          "output_type": "stream",
          "name": "stdout",
          "text": [
            "inside triplet.py ['image', 'cloud', 'fusion', 'image_back']\n"
          ]
        },
        {
          "output_type": "stream",
          "name": "stderr",
          "text": [
            "\rtrain:  19%|█▉        | 17/90 [00:26<01:31,  1.25s/it]<ipython-input-13-fcc52b8a73d7>:88: DeprecationWarning: In future, it will be an error for 'np.bool_' scalars to be interpreted as an index\n",
            "  positives_mask = torch.tensor(positives_mask_list)\n",
            "<ipython-input-13-fcc52b8a73d7>:88: DeprecationWarning: In future, it will be an error for 'np.bool_' scalars to be interpreted as an index\n",
            "  positives_mask = torch.tensor(positives_mask_list)\n",
            "<ipython-input-13-fcc52b8a73d7>:88: DeprecationWarning: In future, it will be an error for 'np.bool_' scalars to be interpreted as an index\n",
            "  positives_mask = torch.tensor(positives_mask_list)\n"
          ]
        },
        {
          "output_type": "stream",
          "name": "stdout",
          "text": [
            "inside triplet.py ['image', 'cloud', 'fusion', 'image_back']\n"
          ]
        },
        {
          "output_type": "stream",
          "name": "stderr",
          "text": [
            "\rtrain:  20%|██        | 18/90 [00:27<01:34,  1.31s/it]"
          ]
        },
        {
          "output_type": "stream",
          "name": "stdout",
          "text": [
            "inside triplet.py ['image', 'cloud', 'fusion', 'image_back']\n"
          ]
        },
        {
          "output_type": "stream",
          "name": "stderr",
          "text": [
            "\rtrain:  21%|██        | 19/90 [00:28<01:24,  1.19s/it]"
          ]
        },
        {
          "output_type": "stream",
          "name": "stdout",
          "text": [
            "inside triplet.py ['image', 'cloud', 'fusion', 'image_back']\n"
          ]
        },
        {
          "output_type": "stream",
          "name": "stderr",
          "text": [
            "<ipython-input-13-fcc52b8a73d7>:88: DeprecationWarning: In future, it will be an error for 'np.bool_' scalars to be interpreted as an index\n",
            "  positives_mask = torch.tensor(positives_mask_list)\n",
            "train:  22%|██▏       | 20/90 [00:29<01:18,  1.12s/it]"
          ]
        },
        {
          "output_type": "stream",
          "name": "stdout",
          "text": [
            "inside triplet.py ['image', 'cloud', 'fusion', 'image_back']\n"
          ]
        },
        {
          "output_type": "stream",
          "name": "stderr",
          "text": [
            "\rtrain:  23%|██▎       | 21/90 [00:30<01:16,  1.11s/it]<ipython-input-13-fcc52b8a73d7>:88: DeprecationWarning: In future, it will be an error for 'np.bool_' scalars to be interpreted as an index\n",
            "  positives_mask = torch.tensor(positives_mask_list)\n",
            "<ipython-input-13-fcc52b8a73d7>:88: DeprecationWarning: In future, it will be an error for 'np.bool_' scalars to be interpreted as an index\n",
            "  positives_mask = torch.tensor(positives_mask_list)\n"
          ]
        },
        {
          "output_type": "stream",
          "name": "stdout",
          "text": [
            "inside triplet.py ['image', 'cloud', 'fusion', 'image_back']\n"
          ]
        },
        {
          "output_type": "stream",
          "name": "stderr",
          "text": [
            "<ipython-input-13-fcc52b8a73d7>:88: DeprecationWarning: In future, it will be an error for 'np.bool_' scalars to be interpreted as an index\n",
            "  positives_mask = torch.tensor(positives_mask_list)\n",
            "train:  24%|██▍       | 22/90 [00:33<01:48,  1.59s/it]"
          ]
        },
        {
          "output_type": "stream",
          "name": "stdout",
          "text": [
            "inside triplet.py ['image', 'cloud', 'fusion', 'image_back']\n"
          ]
        },
        {
          "output_type": "stream",
          "name": "stderr",
          "text": [
            "\rtrain:  26%|██▌       | 23/90 [00:34<01:39,  1.49s/it]"
          ]
        },
        {
          "output_type": "stream",
          "name": "stdout",
          "text": [
            "inside triplet.py ['image', 'cloud', 'fusion', 'image_back']\n"
          ]
        },
        {
          "output_type": "stream",
          "name": "stderr",
          "text": [
            "\rtrain:  27%|██▋       | 24/90 [00:35<01:31,  1.39s/it]<ipython-input-13-fcc52b8a73d7>:88: DeprecationWarning: In future, it will be an error for 'np.bool_' scalars to be interpreted as an index\n",
            "  positives_mask = torch.tensor(positives_mask_list)\n",
            "<ipython-input-13-fcc52b8a73d7>:88: DeprecationWarning: In future, it will be an error for 'np.bool_' scalars to be interpreted as an index\n",
            "  positives_mask = torch.tensor(positives_mask_list)\n",
            "<ipython-input-13-fcc52b8a73d7>:88: DeprecationWarning: In future, it will be an error for 'np.bool_' scalars to be interpreted as an index\n",
            "  positives_mask = torch.tensor(positives_mask_list)\n",
            "<ipython-input-13-fcc52b8a73d7>:88: DeprecationWarning: In future, it will be an error for 'np.bool_' scalars to be interpreted as an index\n",
            "  positives_mask = torch.tensor(positives_mask_list)\n"
          ]
        },
        {
          "output_type": "stream",
          "name": "stdout",
          "text": [
            "inside triplet.py ['image', 'cloud', 'fusion', 'image_back']\n"
          ]
        },
        {
          "output_type": "stream",
          "name": "stderr",
          "text": [
            "\rtrain:  28%|██▊       | 25/90 [00:38<01:55,  1.78s/it]"
          ]
        },
        {
          "output_type": "stream",
          "name": "stdout",
          "text": [
            "inside triplet.py ['image', 'cloud', 'fusion', 'image_back']\n"
          ]
        },
        {
          "output_type": "stream",
          "name": "stderr",
          "text": [
            "\rtrain:  29%|██▉       | 26/90 [00:39<01:36,  1.51s/it]"
          ]
        },
        {
          "output_type": "stream",
          "name": "stdout",
          "text": [
            "inside triplet.py ['image', 'cloud', 'fusion', 'image_back']\n"
          ]
        },
        {
          "output_type": "stream",
          "name": "stderr",
          "text": [
            "\rtrain:  30%|███       | 27/90 [00:40<01:24,  1.34s/it]"
          ]
        },
        {
          "output_type": "stream",
          "name": "stdout",
          "text": [
            "inside triplet.py ['image', 'cloud', 'fusion', 'image_back']\n"
          ]
        },
        {
          "output_type": "stream",
          "name": "stderr",
          "text": [
            "\rtrain:  31%|███       | 28/90 [00:40<01:14,  1.20s/it]<ipython-input-13-fcc52b8a73d7>:88: DeprecationWarning: In future, it will be an error for 'np.bool_' scalars to be interpreted as an index\n",
            "  positives_mask = torch.tensor(positives_mask_list)\n",
            "<ipython-input-13-fcc52b8a73d7>:88: DeprecationWarning: In future, it will be an error for 'np.bool_' scalars to be interpreted as an index\n",
            "  positives_mask = torch.tensor(positives_mask_list)\n",
            "<ipython-input-13-fcc52b8a73d7>:88: DeprecationWarning: In future, it will be an error for 'np.bool_' scalars to be interpreted as an index\n",
            "  positives_mask = torch.tensor(positives_mask_list)\n",
            "<ipython-input-13-fcc52b8a73d7>:88: DeprecationWarning: In future, it will be an error for 'np.bool_' scalars to be interpreted as an index\n",
            "  positives_mask = torch.tensor(positives_mask_list)\n"
          ]
        },
        {
          "output_type": "stream",
          "name": "stdout",
          "text": [
            "inside triplet.py ['image', 'cloud', 'fusion', 'image_back']\n"
          ]
        }
      ],
      "source": [
        "import torch\n",
        "from opr.training import epoch_loop\n",
        "\n",
        "from typing import Any, Dict, Optional, Tuple\n",
        "\n",
        "import numpy as np\n",
        "import torch\n",
        "from torch import Tensor\n",
        "from torch.utils.data import DataLoader\n",
        "from tqdm import tqdm\n",
        "\n",
        "from opr.losses import MultimodalTripletMarginLoss\n",
        "# from opr.models.base_models import ComposedModel\n",
        "from opr.utils import accumulate_dict, compute_epoch_stats_mean, merge_nested_dicts\n",
        "\n",
        "def step(\n",
        "    data: Tuple[Dict[str, Tensor], Tensor, Tensor],\n",
        "    model: ComposedModel,\n",
        "    loss_fn: MultimodalTripletMarginLoss,\n",
        "    optimizer: torch.optim.Optimizer,\n",
        "    phase: str = \"train\",\n",
        "    device: str = \"cuda\",\n",
        ") -> Dict[str, Any]:\n",
        "    \"\"\"Train/val step function.\n",
        "\n",
        "    Args:\n",
        "        data (Tuple[Dict[str, Tensor], Tensor, Tensor]): Input batch data.\n",
        "        model (ComposedModel): Model object.\n",
        "        loss_fn (MultimodalTripletMarginLoss): Loss function.\n",
        "        optimizer (torch.optim.Optimizer): Optimizer function.\n",
        "        phase (str): Current phase (\"train\" or \"val\").. Defaults to \"train\".\n",
        "        device (str): Device (\"cpu\" or \"cuda\"). Defaults to \"cuda\".\n",
        "\n",
        "    Returns:\n",
        "        Dict[str, Any]: Stats dictionary.\n",
        "    \"\"\"\n",
        "    assert phase in [\"train\", \"val\"]\n",
        "\n",
        "    batch, positives_mask, negatives_mask = data\n",
        "    batch = {e: batch[e].to(device) for e in batch}\n",
        "\n",
        "    if phase == \"train\":\n",
        "        model.train()\n",
        "    else:\n",
        "        model.eval()\n",
        "\n",
        "    optimizer.zero_grad()\n",
        "\n",
        "    with torch.set_grad_enabled(phase == \"train\"):\n",
        "        output = model(batch)\n",
        "        loss, loss_stats, miner_stats = loss_fn(\n",
        "            model_output=output,\n",
        "            positives_mask=positives_mask,\n",
        "            negatives_mask=negatives_mask,\n",
        "        )\n",
        "        if phase == \"train\":\n",
        "            loss.backward()\n",
        "            optimizer.step()\n",
        "\n",
        "        stats = merge_nested_dicts(loss_stats, miner_stats)\n",
        "\n",
        "    return stats\n",
        "\n",
        "\n",
        "def epoch_loop(\n",
        "    dataloader: DataLoader,\n",
        "    model: ComposedModel,\n",
        "    loss_fn: MultimodalTripletMarginLoss,\n",
        "    optimizer: torch.optim.Optimizer,\n",
        "    scheduler: Optional[torch.optim.lr_scheduler.MultiStepLR] = None,\n",
        "    phase: str = \"train\",\n",
        "    device: str = \"cuda\",\n",
        ") -> Tuple[Dict[str, Any], Optional[float]]:\n",
        "    \"\"\"Performs one full epoch.\n",
        "\n",
        "    Args:\n",
        "        dataloader (DataLoader): Dataloader for current phase.\n",
        "        model (ComposedModel): Model object.\n",
        "        loss_fn (MultimodalTripletMarginLoss): Loss function.\n",
        "        optimizer (torch.optim.Optimizer): Optimizer function.\n",
        "        scheduler (torch.optim.lr_scheduler.MultiStepLR, optional): Scheduler function. Defaults to None.\n",
        "        phase (str): Current phase (\"train\" or \"val\"). Defaults to \"train\".\n",
        "        device (str): Device (\"cpu\" or \"cuda\"). Defaults to \"cuda\".\n",
        "\n",
        "    Returns:\n",
        "        Tuple[Dict[str, Any], Optional[float]]: Stats dictionary and optional mean non-zero-rate\n",
        "            value (if dynamic batch sizing implemented).\n",
        "    \"\"\"\n",
        "    assert phase in [\"train\", \"val\"]\n",
        "    step_fn = step\n",
        "    total_steps = len(dataloader)\n",
        "\n",
        "    if phase == \"train\":\n",
        "        model.train()\n",
        "    else:\n",
        "        model.eval()\n",
        "\n",
        "    epoch_stats: Dict[str, Any] = {}\n",
        "    # loss_stats_bar = tqdm(total=0, position=1, bar_format=\"{desc}\")\n",
        "    # miner_stats_bar = tqdm(total=0, position=2, bar_format=\"{desc}\")\n",
        "\n",
        "    for _, batch_data in tqdm(\n",
        "        enumerate(dataloader),\n",
        "        desc=phase,\n",
        "        total=total_steps,\n",
        "        dynamic_ncols=True,\n",
        "        leave=True,\n",
        "        position=0,\n",
        "    ):\n",
        "        step_stats = step_fn(batch_data, model, loss_fn, optimizer, phase, device)\n",
        "        epoch_stats = accumulate_dict(epoch_stats, step_stats)\n",
        "        torch.cuda.empty_cache()\n",
        "\n",
        "    if scheduler is not None and phase == \"train\":\n",
        "        scheduler.step()\n",
        "\n",
        "    final_stats = compute_epoch_stats_mean(epoch_stats)\n",
        "\n",
        "    non_zero_rates = []\n",
        "    for modality, modality_value in final_stats.items():\n",
        "        # ADDED text\n",
        "        # ADDED image_back\n",
        "        if modality in (\"image\",\n",
        "                        \"cloud\",\n",
        "                        \"fusion\",\n",
        "                        # \"text\",\n",
        "                        \"image_back\",\n",
        "                        ):\n",
        "            if \"non_zero_rate\" in modality_value.keys():  # TODO: works only with HardTripletMarginLoss\n",
        "                non_zero_rates.append(final_stats[modality][\"non_zero_rate\"])\n",
        "    if len(non_zero_rates) > 0:\n",
        "        mean_non_zero_rate = float(np.mean(non_zero_rates))\n",
        "        final_stats[\"mean_non_zero_rate\"] = mean_non_zero_rate\n",
        "    else:\n",
        "        mean_non_zero_rate = None\n",
        "\n",
        "    return final_stats, mean_non_zero_rate\n",
        "\n",
        "\n",
        "\n",
        "\n",
        "\n",
        "\n",
        "\n",
        "\n",
        "\n",
        "\n",
        "\n",
        "\n",
        "best_recall_at_1 = 0.0\n",
        "\n",
        "# ADDED evaluation skip\n",
        "EVAL_EVERY = 2\n",
        "\n",
        "for epoch in range(EPOCHS):\n",
        "    print(f\"\\n\\n=====> Epoch {epoch+1}:\")\n",
        "    train_batch_size = dataloaders[\"train\"].batch_sampler.batch_size\n",
        "\n",
        "    print(\"\\n=> Training:\\n\")\n",
        "\n",
        "    train_stats, train_rate_non_zero = epoch_loop(\n",
        "        dataloader=dataloaders[\"train\"],\n",
        "        model=model,\n",
        "        loss_fn=loss_fn,\n",
        "        optimizer=optimizer,\n",
        "        scheduler=scheduler,\n",
        "        phase=\"train\",\n",
        "        device=DEVICE,\n",
        "    )\n",
        "\n",
        "    print(f\"\\n@@@@@@@@@@@@@@@@@@@@@@@@\\ntrain_rate_non_zero = {train_rate_non_zero}\")\n",
        "\n",
        "    if BATCH_EXPANSION_TH is not None:\n",
        "        if BATCH_EXPANSION_TH == 1.0:\n",
        "            print(\"Batch expansion rate is set to every epoch. Increasing batch size.\")\n",
        "            dataloaders[\"train\"].batch_sampler.expand_batch()\n",
        "        elif train_rate_non_zero is None:\n",
        "            print(\n",
        "                \"\\nWARNING: 'BATCH_EXPANSION_TH' was set, but 'train_rate_non_zero' is None. \",\n",
        "                \"The batch size was not expanded.\",\n",
        "            )\n",
        "        elif train_rate_non_zero < BATCH_EXPANSION_TH:\n",
        "            print(\n",
        "                \"Average non-zero triplet ratio is less than threshold: \",\n",
        "                f\"{train_rate_non_zero} < {BATCH_EXPANSION_TH}\",\n",
        "            )\n",
        "            dataloaders[\"train\"].batch_sampler.expand_batch()\n",
        "\n",
        "    # ADDED evaluation skip\n",
        "    if epoch % EVAL_EVERY == 0:\n",
        "        print(\"\\n=> Validating:\\n\")\n",
        "\n",
        "        val_stats, val_rate_non_zero = epoch_loop(\n",
        "            dataloader=dataloaders[\"val\"],\n",
        "            model=model,\n",
        "            loss_fn=loss_fn,\n",
        "            optimizer=optimizer,\n",
        "            phase=\"val\",\n",
        "            device=DEVICE,\n",
        "        )\n",
        "\n",
        "        print(f\"\\nval_rate_non_zero = {val_rate_non_zero}\")\n",
        "\n",
        "        print(\"\\n=> Testing:\\n\")\n",
        "\n",
        "        recall_at_n, recall_at_one_percent, mean_top1_distance = test(\n",
        "            model=model,\n",
        "            descriptor_key=\"fusion\",\n",
        "            dataloader=dataloaders[\"test\"],\n",
        "            dist_thresh=5.0,\n",
        "            device=DEVICE,\n",
        "        )\n",
        "\n",
        "        stats_dict = {}\n",
        "        stats_dict[\"test\"] = {\n",
        "            \"mean_top1_distance\": mean_top1_distance,\n",
        "            \"recall_at_1%\": recall_at_one_percent,\n",
        "            \"recall_at_1\": recall_at_n[0],\n",
        "            \"recall_at_3\": recall_at_n[2],\n",
        "            \"recall_at_5\": recall_at_n[4],\n",
        "            \"recall_at_10\": recall_at_n[9],\n",
        "        }\n",
        "        stats_dict[\"train\"] = train_stats\n",
        "        stats_dict[\"train\"][\"batch_size\"] = train_batch_size\n",
        "\n",
        "        # saving checkpoints\n",
        "        checkpoint_dict = {\n",
        "            \"epoch\": epoch + 1,\n",
        "            \"stats_dict\": stats_dict,\n",
        "            \"model_state_dict\": model.state_dict(),\n",
        "            \"optimizer_state_dict\": optimizer.state_dict(),\n",
        "        }\n",
        "        torch.save(checkpoint_dict, CHECKPOINTS_DIR / f\"epoch_{epoch+1}.pth\")\n",
        "        if recall_at_n[0] > best_recall_at_1:\n",
        "            print(\"Recall@1 improved!\")\n",
        "            torch.save(checkpoint_dict, CHECKPOINTS_DIR / \"best.pth\")\n",
        "            best_recall_at_1 = recall_at_n[0]\n"
      ]
    },
    {
      "cell_type": "code",
      "source": [
        "# !zip -r /content/open_place_recognition_plus1.zip /content/open_place_recognition"
      ],
      "metadata": {
        "id": "4rno-gB_N_dz"
      },
      "execution_count": null,
      "outputs": []
    },
    {
      "cell_type": "code",
      "execution_count": null,
      "metadata": {
        "id": "STVa0EnGwai2",
        "colab": {
          "base_uri": "https://localhost:8080/"
        },
        "outputId": "f3983bdc-4187-4228-eb54-c42e6d68a696"
      },
      "outputs": [
        {
          "output_type": "stream",
          "name": "stderr",
          "text": [
            "Calculating test set descriptors: 100%|██████████| 116/116 [00:55<00:00,  2.08it/s]\n",
            "Calculating metrics: 100%|██████████| 6/6 [00:01<00:00,  5.65it/s]"
          ]
        },
        {
          "output_type": "stream",
          "name": "stdout",
          "text": [
            "Mean Recall@N:\n",
            "[0.86177267 0.94444489 0.96672597 0.9772816  0.98089793 0.98450027\n",
            " 0.98645123 0.98867564 0.99090045 0.99338578 0.99475014 0.99529749\n",
            " 0.99612263 0.99612263 0.99640608 0.99695344 0.99695344 0.99723688\n",
            " 0.99723688 0.99750921 0.99750921 0.99750921 0.99750921 0.99750921\n",
            " 0.99750921]\n",
            "Mean Recall@1% = 0.9845002708040732\n",
            "Mean top-1 distance = 1.3130006677160502\n"
          ]
        },
        {
          "output_type": "stream",
          "name": "stderr",
          "text": [
            "\n"
          ]
        }
      ],
      "source": [
        "recall_at_n, recall_at_one_percent, mean_top1_distance = test(\n",
        "    model=model,\n",
        "    descriptor_key=\"fusion\",\n",
        "    dataloader=dataloaders[\"test\"],\n",
        "    dist_thresh=5.0,\n",
        "    device=DEVICE,\n",
        ")"
      ]
    },
    {
      "cell_type": "markdown",
      "metadata": {
        "id": "W3GIzCJLwai2"
      },
      "source": [
        "## Подготовка ответа для загрузки на сервер"
      ]
    },
    {
      "cell_type": "markdown",
      "metadata": {
        "id": "fJ7lu9Sbwai3"
      },
      "source": [
        "Пример кода для создания файла сабмита. Вы можете модифицировать пайплайн, например добавить ре-ранжирование кандидатов на основе каких-либо характеристик (например, как в [Path-NetVLAD](https://arxiv.org/abs/2103.01486))."
      ]
    },
    {
      "cell_type": "code",
      "execution_count": null,
      "metadata": {
        "id": "jlR6S9v6wai3"
      },
      "outputs": [],
      "source": [
        "import itertools\n",
        "\n",
        "import pandas as pd\n",
        "from sklearn.neighbors import KDTree\n",
        "import numpy as np\n",
        "import torch\n",
        "from tqdm import tqdm\n",
        "\n",
        "\n",
        "def extract_embeddings(model, descriptor_key, dataloader, device):\n",
        "    model = model.to(device)\n",
        "    model.eval()\n",
        "    with torch.no_grad():\n",
        "        test_embeddings_list = []\n",
        "        for data in tqdm(dataloader, desc=\"Calculating test set descriptors\"):\n",
        "            batch, _, _ = data\n",
        "            batch = {e: batch[e].to(device) for e in batch}\n",
        "            batch_embeddings = model(batch)\n",
        "            test_embeddings_list.append(batch_embeddings[descriptor_key].cpu().numpy())\n",
        "        test_embeddings = np.vstack(test_embeddings_list)\n",
        "    return test_embeddings\n",
        "\n",
        "\n",
        "def test_submission(\n",
        "    test_embeddings: np.ndarray, dataset_df: pd.DataFrame, filename: str = \"submission.txt\"\n",
        ") -> None:\n",
        "    \"\"\"Function to create submission txt file.\n",
        "\n",
        "    Args:\n",
        "        test_embeddings (np.ndarray): Array of embeddings.\n",
        "        dataset_df (pd.Dataframe): Test dataset dataframe ('test.csv').\n",
        "        filename (str): Name of the output txt file. Defaults to \"submission.txt\".\n",
        "    \"\"\"\n",
        "    tracks = []\n",
        "\n",
        "    for _, group in dataset_df.groupby(\"track\"):\n",
        "        tracks.append(group.index.to_numpy())\n",
        "    n = 1\n",
        "    ij_permutations = sorted(list(itertools.permutations(range(len(tracks)), 2)))\n",
        "    # ij_permutations = [(0, 1), (0, 2), (1, 0), (1, 2), (2, 0), (2, 1)]\n",
        "\n",
        "    submission_lines = []\n",
        "\n",
        "    for i, j in tqdm(ij_permutations, desc=\"Calculating metrics\"):\n",
        "        query_indices = tracks[i]\n",
        "        database_indices = tracks[j]\n",
        "        query_embs = test_embeddings[query_indices]\n",
        "        database_embs = test_embeddings[database_indices]\n",
        "\n",
        "        database_tree = KDTree(database_embs)\n",
        "        _, indices = database_tree.query(query_embs, k=n)\n",
        "\n",
        "        submission_lines.extend(list(database_indices[indices.squeeze()]))\n",
        "\n",
        "    with open(filename, \"w\") as f:\n",
        "        for l in submission_lines:\n",
        "            f.write(str(l)+\"\\n\")\n"
      ]
    },
    {
      "cell_type": "code",
      "execution_count": null,
      "metadata": {
        "id": "JruLtutQwai4",
        "colab": {
          "base_uri": "https://localhost:8080/"
        },
        "outputId": "c9055908-32fe-4f3f-ea3b-c3e2a686852f"
      },
      "outputs": [
        {
          "output_type": "stream",
          "name": "stderr",
          "text": [
            "\rCalculating test set descriptors:   0%|          | 0/116 [00:00<?, ?it/s]/usr/local/lib/python3.9/dist-packages/torch/utils/data/dataloader.py:554: UserWarning: This DataLoader will create 4 worker processes in total. Our suggested max number of worker in current system is 2, which is smaller than what this DataLoader is going to create. Please be aware that excessive worker creation might get DataLoader running slow or even freeze, lower the worker number to avoid potential slowness/freeze if necessary.\n",
            "  warnings.warn(_create_warning_msg(\n",
            "Calculating test set descriptors: 100%|██████████| 116/116 [00:56<00:00,  2.07it/s]\n",
            "Calculating metrics: 100%|██████████| 6/6 [00:00<00:00,  6.47it/s]\n"
          ]
        }
      ],
      "source": [
        "embeddings = extract_embeddings(model, descriptor_key=\"fusion\", dataloader=dataloaders[\"test\"], device=DEVICE)\n",
        "test_submission(embeddings, dataset_df=dataloaders[\"test\"].dataset.dataset_df, filename=\"baseline_submission_tune1753.txt\")"
      ]
    },
    {
      "cell_type": "markdown",
      "metadata": {
        "id": "prxYVmCTwai4"
      },
      "source": [
        "Файл с сабмитом необходимо загружать на яндекс контест: https://contest.yandex.ru/contest/49118/ \n",
        "\n",
        "Удачи!"
      ]
    }
  ],
  "metadata": {
    "kernelspec": {
      "display_name": "Python 3",
      "language": "python",
      "name": "python3"
    },
    "language_info": {
      "codemirror_mode": {
        "name": "ipython",
        "version": 3
      },
      "file_extension": ".py",
      "mimetype": "text/x-python",
      "name": "python",
      "nbconvert_exporter": "python",
      "pygments_lexer": "ipython3",
      "version": "3.8.10"
    },
    "orig_nbformat": 4,
    "colab": {
      "provenance": []
    },
    "accelerator": "GPU",
    "gpuClass": "standard"
  },
  "nbformat": 4,
  "nbformat_minor": 0
}